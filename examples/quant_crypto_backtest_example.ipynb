{
 "cells": [
  {
   "cell_type": "markdown",
   "id": "f6fa267b-e2d2-42de-a222-8f39ecdb1708",
   "metadata": {
    "execution": {
     "iopub.execute_input": "2023-06-23T22:56:49.764615Z",
     "iopub.status.busy": "2023-06-23T22:56:49.763949Z",
     "iopub.status.idle": "2023-06-23T22:56:49.773956Z",
     "shell.execute_reply": "2023-06-23T22:56:49.772520Z",
     "shell.execute_reply.started": "2023-06-23T22:56:49.764464Z"
    }
   },
   "source": [
    "# IN PROGRESS: Simple Quant Crypto (Momentum-Based) Investing Strategy"
   ]
  },
  {
   "cell_type": "markdown",
   "id": "dc620689-f853-45cb-a3d9-e0faff77654d",
   "metadata": {},
   "source": [
    "## 1. Setup"
   ]
  },
  {
   "cell_type": "markdown",
   "id": "d3f9f8dd-4de8-4fb6-b70a-617b0ed3b750",
   "metadata": {
    "execution": {
     "iopub.execute_input": "2023-06-23T22:57:42.613303Z",
     "iopub.status.busy": "2023-06-23T22:57:42.612776Z",
     "iopub.status.idle": "2023-06-23T22:57:42.624880Z",
     "shell.execute_reply": "2023-06-23T22:57:42.620622Z",
     "shell.execute_reply.started": "2023-06-23T22:57:42.613270Z"
    }
   },
   "source": [
    "#### 1.1 Load required modules"
   ]
  },
  {
   "cell_type": "code",
   "execution_count": 3,
   "id": "42ff4083-0b2f-4ad4-94e0-31f10a61e7a4",
   "metadata": {
    "execution": {
     "iopub.execute_input": "2023-06-23T22:57:58.028650Z",
     "iopub.status.busy": "2023-06-23T22:57:58.028119Z",
     "iopub.status.idle": "2023-06-23T22:57:58.470353Z",
     "shell.execute_reply": "2023-06-23T22:57:58.470053Z",
     "shell.execute_reply.started": "2023-06-23T22:57:58.028618Z"
    }
   },
   "outputs": [],
   "source": [
    "# Add relative path to module lookup path...\n",
    "import os\n",
    "import sys\n",
    "sys.path.insert(0, os.path.abspath('..'))\n",
    "\n",
    "# ... then import module\n",
    "import investos as inv\n",
    "\n",
    "# Import other required modules\n",
    "import pandas as pd\n",
    "pd.options.mode.chained_assignment = None  # default='warn'\n",
    "pd.options.plotting.backend = \"plotly\"\n",
    "import numpy as np"
   ]
  },
  {
   "cell_type": "markdown",
   "id": "5eb32c25-714d-414c-8664-9cd2a6cc9678",
   "metadata": {},
   "source": [
    "#### 1.2 Load historical prices and volumes"
   ]
  },
  {
   "cell_type": "markdown",
   "id": "4f26a934-64cc-4064-9256-0d578c01aaeb",
   "metadata": {},
   "source": [
    "From https://www.kaggle.com/datasets/maharshipandya/-cryptocurrency-historical-prices-dataset"
   ]
  },
  {
   "cell_type": "code",
   "execution_count": 9,
   "id": "7df1cda2-751f-44a3-997b-51e0bd9d3f2f",
   "metadata": {
    "execution": {
     "iopub.execute_input": "2023-06-23T23:00:37.865844Z",
     "iopub.status.busy": "2023-06-23T23:00:37.865129Z",
     "iopub.status.idle": "2023-06-23T23:00:37.954343Z",
     "shell.execute_reply": "2023-06-23T23:00:37.954053Z",
     "shell.execute_reply.started": "2023-06-23T23:00:37.865790Z"
    },
    "tags": []
   },
   "outputs": [],
   "source": [
    "# A. Load S&P 500 tickers, names, and industries\n",
    "dir_name = './data/'\n",
    "\n",
    "df = pd.read_csv(\n",
    "    dir_name + 'crypto_dataset.csv'\n",
    ").drop(columns=['Unnamed: 0'])"
   ]
  },
  {
   "cell_type": "markdown",
   "id": "c7deaa60-2458-466b-b28c-8e53619fa16f",
   "metadata": {},
   "source": [
    "Explore dataset:\n",
    "- How many distinct coins?\n",
    "- How many missing volumes?\n",
    "- How has market cap evolved for each coin?\n",
    "- What's the standard deviation in returns for each coin?\n",
    "- What's the median volume (in dollars) traded for each coin?\n",
    "- What's the histogram for high/low spreads for each coin?\n",
    "\n",
    "Brainstorm features:\n",
    "- What features might be useful for a (very) simple momentum-based ML quant trading strategy?\n",
    "  - prev_X_day_return\n",
    "  - prev_X_day_benchmark_return (i.e. market cap for entire industry)\n",
    "  - prev_X_day_delta_return (i.e. coin return minus market return)\n",
    "  - premium_to_prev_X_day_VWAP (as a percent)\n",
    "  - crypto_name (as a categorical variable)\n",
    "- What targets might be useful\n",
    "  - fwd_x_day_return\n",
    "- What features are most predictive? Look at shap values\n",
    "- What other datasets might be interesting to look at?\n",
    "  - Sentiment:\n",
    "    - Clickstream data / search volume:\n",
    "      - https://trends.google.com/trends/explore?date=today%205-y&geo=CA&q=%2Fm%2F05p0rrx&hl=en \n",
    "    - BTC sentiment: \n",
    "      - https://www.kaggle.com/datasets/gauravduttakiit/bitcoin-tweets-16m-tweets-with-sentiment-tagged\n",
    "    - Consumer sentiment data: \n",
    "      - https://ycharts.com/indicators/us_consumer_sentiment_index#:~:text=Basic%20Info,27.80%25%20from%20one%20year%20ago. \n",
    "    - Other ideas:\n",
    "      - Stock market indices\n",
    "      - Oil prices\n",
    "      - News / twitter mentions and sentiment"
   ]
  },
  {
   "cell_type": "code",
   "execution_count": 10,
   "id": "616a6579-746f-4700-b846-3ab23b7fdb3c",
   "metadata": {
    "execution": {
     "iopub.execute_input": "2023-06-23T23:00:40.633378Z",
     "iopub.status.busy": "2023-06-23T23:00:40.632655Z",
     "iopub.status.idle": "2023-06-23T23:00:40.653912Z",
     "shell.execute_reply": "2023-06-23T23:00:40.653470Z",
     "shell.execute_reply.started": "2023-06-23T23:00:40.633324Z"
    },
    "tags": []
   },
   "outputs": [
    {
     "data": {
      "text/html": [
       "<div>\n",
       "<style scoped>\n",
       "    .dataframe tbody tr th:only-of-type {\n",
       "        vertical-align: middle;\n",
       "    }\n",
       "\n",
       "    .dataframe tbody tr th {\n",
       "        vertical-align: top;\n",
       "    }\n",
       "\n",
       "    .dataframe thead th {\n",
       "        text-align: right;\n",
       "    }\n",
       "</style>\n",
       "<table border=\"1\" class=\"dataframe\">\n",
       "  <thead>\n",
       "    <tr style=\"text-align: right;\">\n",
       "      <th></th>\n",
       "      <th>open</th>\n",
       "      <th>high</th>\n",
       "      <th>low</th>\n",
       "      <th>close</th>\n",
       "      <th>volume</th>\n",
       "      <th>marketCap</th>\n",
       "      <th>timestamp</th>\n",
       "      <th>crypto_name</th>\n",
       "      <th>date</th>\n",
       "    </tr>\n",
       "  </thead>\n",
       "  <tbody>\n",
       "    <tr>\n",
       "      <th>0</th>\n",
       "      <td>112.900002</td>\n",
       "      <td>118.800003</td>\n",
       "      <td>107.142998</td>\n",
       "      <td>115.910004</td>\n",
       "      <td>0.000000e+00</td>\n",
       "      <td>1.288693e+09</td>\n",
       "      <td>2013-05-05T23:59:59.999Z</td>\n",
       "      <td>Bitcoin</td>\n",
       "      <td>2013-05-05</td>\n",
       "    </tr>\n",
       "    <tr>\n",
       "      <th>1</th>\n",
       "      <td>3.493130</td>\n",
       "      <td>3.692460</td>\n",
       "      <td>3.346060</td>\n",
       "      <td>3.590890</td>\n",
       "      <td>0.000000e+00</td>\n",
       "      <td>6.229819e+07</td>\n",
       "      <td>2013-05-05T23:59:59.999Z</td>\n",
       "      <td>Litecoin</td>\n",
       "      <td>2013-05-05</td>\n",
       "    </tr>\n",
       "    <tr>\n",
       "      <th>2</th>\n",
       "      <td>115.980003</td>\n",
       "      <td>124.663002</td>\n",
       "      <td>106.639999</td>\n",
       "      <td>112.300003</td>\n",
       "      <td>0.000000e+00</td>\n",
       "      <td>1.249023e+09</td>\n",
       "      <td>2013-05-06T23:59:59.999Z</td>\n",
       "      <td>Bitcoin</td>\n",
       "      <td>2013-05-06</td>\n",
       "    </tr>\n",
       "    <tr>\n",
       "      <th>3</th>\n",
       "      <td>3.594220</td>\n",
       "      <td>3.781020</td>\n",
       "      <td>3.116020</td>\n",
       "      <td>3.371250</td>\n",
       "      <td>0.000000e+00</td>\n",
       "      <td>5.859436e+07</td>\n",
       "      <td>2013-05-06T23:59:59.999Z</td>\n",
       "      <td>Litecoin</td>\n",
       "      <td>2013-05-06</td>\n",
       "    </tr>\n",
       "    <tr>\n",
       "      <th>4</th>\n",
       "      <td>112.250000</td>\n",
       "      <td>113.444000</td>\n",
       "      <td>97.699997</td>\n",
       "      <td>111.500000</td>\n",
       "      <td>0.000000e+00</td>\n",
       "      <td>1.240594e+09</td>\n",
       "      <td>2013-05-07T23:59:59.999Z</td>\n",
       "      <td>Bitcoin</td>\n",
       "      <td>2013-05-07</td>\n",
       "    </tr>\n",
       "    <tr>\n",
       "      <th>...</th>\n",
       "      <td>...</td>\n",
       "      <td>...</td>\n",
       "      <td>...</td>\n",
       "      <td>...</td>\n",
       "      <td>...</td>\n",
       "      <td>...</td>\n",
       "      <td>...</td>\n",
       "      <td>...</td>\n",
       "      <td>...</td>\n",
       "    </tr>\n",
       "    <tr>\n",
       "      <th>72941</th>\n",
       "      <td>0.022604</td>\n",
       "      <td>0.022988</td>\n",
       "      <td>0.022197</td>\n",
       "      <td>0.022796</td>\n",
       "      <td>4.040134e+07</td>\n",
       "      <td>1.652957e+09</td>\n",
       "      <td>2022-10-23T23:59:59.999Z</td>\n",
       "      <td>VeChain</td>\n",
       "      <td>2022-10-23</td>\n",
       "    </tr>\n",
       "    <tr>\n",
       "      <th>72942</th>\n",
       "      <td>1.468244</td>\n",
       "      <td>1.530464</td>\n",
       "      <td>1.435415</td>\n",
       "      <td>1.517878</td>\n",
       "      <td>2.844351e+07</td>\n",
       "      <td>1.572825e+09</td>\n",
       "      <td>2022-10-23T23:59:59.999Z</td>\n",
       "      <td>Flow</td>\n",
       "      <td>2022-10-23</td>\n",
       "    </tr>\n",
       "    <tr>\n",
       "      <th>72943</th>\n",
       "      <td>4.950431</td>\n",
       "      <td>5.148565</td>\n",
       "      <td>4.945280</td>\n",
       "      <td>5.117206</td>\n",
       "      <td>1.069497e+08</td>\n",
       "      <td>1.559551e+09</td>\n",
       "      <td>2022-10-23T23:59:59.999Z</td>\n",
       "      <td>Filecoin</td>\n",
       "      <td>2022-10-23</td>\n",
       "    </tr>\n",
       "    <tr>\n",
       "      <th>72944</th>\n",
       "      <td>0.000233</td>\n",
       "      <td>0.000243</td>\n",
       "      <td>0.000226</td>\n",
       "      <td>0.000239</td>\n",
       "      <td>2.143268e+08</td>\n",
       "      <td>1.576291e+09</td>\n",
       "      <td>2022-10-23T23:59:59.999Z</td>\n",
       "      <td>Terra Classic</td>\n",
       "      <td>2022-10-23</td>\n",
       "    </tr>\n",
       "    <tr>\n",
       "      <th>72945</th>\n",
       "      <td>0.465490</td>\n",
       "      <td>0.471006</td>\n",
       "      <td>0.453438</td>\n",
       "      <td>0.469033</td>\n",
       "      <td>9.509743e+08</td>\n",
       "      <td>2.339868e+10</td>\n",
       "      <td>2022-10-23T23:59:59.999Z</td>\n",
       "      <td>XRP</td>\n",
       "      <td>2022-10-23</td>\n",
       "    </tr>\n",
       "  </tbody>\n",
       "</table>\n",
       "<p>72946 rows × 9 columns</p>\n",
       "</div>"
      ],
      "text/plain": [
       "             open        high         low       close        volume  \\\n",
       "0      112.900002  118.800003  107.142998  115.910004  0.000000e+00   \n",
       "1        3.493130    3.692460    3.346060    3.590890  0.000000e+00   \n",
       "2      115.980003  124.663002  106.639999  112.300003  0.000000e+00   \n",
       "3        3.594220    3.781020    3.116020    3.371250  0.000000e+00   \n",
       "4      112.250000  113.444000   97.699997  111.500000  0.000000e+00   \n",
       "...           ...         ...         ...         ...           ...   \n",
       "72941    0.022604    0.022988    0.022197    0.022796  4.040134e+07   \n",
       "72942    1.468244    1.530464    1.435415    1.517878  2.844351e+07   \n",
       "72943    4.950431    5.148565    4.945280    5.117206  1.069497e+08   \n",
       "72944    0.000233    0.000243    0.000226    0.000239  2.143268e+08   \n",
       "72945    0.465490    0.471006    0.453438    0.469033  9.509743e+08   \n",
       "\n",
       "          marketCap                 timestamp    crypto_name        date  \n",
       "0      1.288693e+09  2013-05-05T23:59:59.999Z        Bitcoin  2013-05-05  \n",
       "1      6.229819e+07  2013-05-05T23:59:59.999Z       Litecoin  2013-05-05  \n",
       "2      1.249023e+09  2013-05-06T23:59:59.999Z        Bitcoin  2013-05-06  \n",
       "3      5.859436e+07  2013-05-06T23:59:59.999Z       Litecoin  2013-05-06  \n",
       "4      1.240594e+09  2013-05-07T23:59:59.999Z        Bitcoin  2013-05-07  \n",
       "...             ...                       ...            ...         ...  \n",
       "72941  1.652957e+09  2022-10-23T23:59:59.999Z        VeChain  2022-10-23  \n",
       "72942  1.572825e+09  2022-10-23T23:59:59.999Z           Flow  2022-10-23  \n",
       "72943  1.559551e+09  2022-10-23T23:59:59.999Z       Filecoin  2022-10-23  \n",
       "72944  1.576291e+09  2022-10-23T23:59:59.999Z  Terra Classic  2022-10-23  \n",
       "72945  2.339868e+10  2022-10-23T23:59:59.999Z            XRP  2022-10-23  \n",
       "\n",
       "[72946 rows x 9 columns]"
      ]
     },
     "execution_count": 10,
     "metadata": {},
     "output_type": "execute_result"
    }
   ],
   "source": [
    "df"
   ]
  },
  {
   "cell_type": "code",
   "execution_count": null,
   "id": "d1a17904-d669-491d-adb1-d8e9a73b7482",
   "metadata": {},
   "outputs": [],
   "source": []
  }
 ],
 "metadata": {
  "kernelspec": {
   "display_name": "Python 3 (ipykernel)",
   "language": "python",
   "name": "python3"
  },
  "language_info": {
   "codemirror_mode": {
    "name": "ipython",
    "version": 3
   },
   "file_extension": ".py",
   "mimetype": "text/x-python",
   "name": "python",
   "nbconvert_exporter": "python",
   "pygments_lexer": "ipython3",
   "version": "3.9.13"
  }
 },
 "nbformat": 4,
 "nbformat_minor": 5
}
