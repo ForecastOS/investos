{
 "cells": [
  {
   "cell_type": "markdown",
   "id": "d97e2d2b-8dc8-40a0-af05-e2c24141cd5c",
   "metadata": {},
   "source": [
    "# Simple Backtest Example - SPO"
   ]
  },
  {
   "cell_type": "markdown",
   "id": "abeaeead-9e67-4f5b-b093-63e2682ae766",
   "metadata": {},
   "source": [
    "## 1. Setup"
   ]
  },
  {
   "cell_type": "markdown",
   "id": "b755c267-921f-4a7c-9e06-36cc6e21fd66",
   "metadata": {
    "execution": {
     "iopub.execute_input": "2023-04-04T00:53:04.140680Z",
     "iopub.status.busy": "2023-04-04T00:53:04.139992Z",
     "iopub.status.idle": "2023-04-04T00:53:04.147601Z",
     "shell.execute_reply": "2023-04-04T00:53:04.146761Z",
     "shell.execute_reply.started": "2023-04-04T00:53:04.140628Z"
    }
   },
   "source": [
    "#### 1.1 Load InvestOS module"
   ]
  },
  {
   "cell_type": "code",
   "execution_count": 1,
   "id": "1bebdccf-dc6a-4007-848f-82ab2147192f",
   "metadata": {
    "execution": {
     "iopub.execute_input": "2023-06-02T07:28:26.888517Z",
     "iopub.status.busy": "2023-06-02T07:28:26.887962Z",
     "iopub.status.idle": "2023-06-02T07:28:27.145007Z",
     "shell.execute_reply": "2023-06-02T07:28:27.144680Z",
     "shell.execute_reply.started": "2023-06-02T07:28:26.888409Z"
    },
    "tags": []
   },
   "outputs": [],
   "source": [
    "# Add relative path to module lookup path...\n",
    "import os\n",
    "import sys\n",
    "sys.path.insert(0, os.path.abspath('..'))\n",
    "\n",
    "# ... then import module\n",
    "import investos as inv\n",
    "\n",
    "# Import other required modules\n",
    "import pandas as pd\n",
    "pd.options.mode.chained_assignment = None  # default='warn'\n",
    "pd.options.plotting.backend = \"plotly\"\n",
    "import numpy as np"
   ]
  },
  {
   "cell_type": "markdown",
   "id": "bbab7ef5-59d7-4e9a-b2a3-fd026a9f0f29",
   "metadata": {},
   "source": [
    "#### 1.2 Load historical stock prices and volumes"
   ]
  },
  {
   "cell_type": "markdown",
   "id": "2b66d7e2-bf1c-4b44-b943-20ba8b60eba9",
   "metadata": {},
   "source": [
    "Place in examples/data directory [data from Kaggle](https://www.kaggle.com/datasets/camnugent/sandp500/download?datasetVersionNumber=4)\n",
    "\n",
    "Note: you will need to create (and sign into) a free Kaggle account"
   ]
  },
  {
   "cell_type": "code",
   "execution_count": 2,
   "id": "beb942da-0c08-4b24-b118-a1cc6c1f0e9c",
   "metadata": {
    "execution": {
     "iopub.execute_input": "2023-06-02T07:28:27.145569Z",
     "iopub.status.busy": "2023-06-02T07:28:27.145504Z",
     "iopub.status.idle": "2023-06-02T07:28:27.318980Z",
     "shell.execute_reply": "2023-06-02T07:28:27.318619Z",
     "shell.execute_reply.started": "2023-06-02T07:28:27.145561Z"
    },
    "tags": []
   },
   "outputs": [],
   "source": [
    "# A. Load S&P 500 tickers, names, and industries\n",
    "dir_name = './data/'\n",
    "\n",
    "df = pd.read_csv(\n",
    "    dir_name + 'all_stocks_5yr.csv'\n",
    ").rename(columns={'Name': 'asset'})"
   ]
  },
  {
   "cell_type": "code",
   "execution_count": 3,
   "id": "39ba1824-354e-4b7e-b3a3-dad99a90fca6",
   "metadata": {
    "execution": {
     "iopub.execute_input": "2023-06-02T07:28:27.319603Z",
     "iopub.status.busy": "2023-06-02T07:28:27.319537Z",
     "iopub.status.idle": "2023-06-02T07:28:27.338399Z",
     "shell.execute_reply": "2023-06-02T07:28:27.337113Z",
     "shell.execute_reply.started": "2023-06-02T07:28:27.319594Z"
    },
    "tags": []
   },
   "outputs": [],
   "source": [
    "# B. Keep date, price (mid-way between bid and ask), and volume only\n",
    "df = df[['asset', 'date', 'open', 'volume']]\n",
    "df = df.rename(columns={'open': 'price'})"
   ]
  },
  {
   "cell_type": "markdown",
   "id": "daeb7eb7-1a64-40f2-8966-8ac6bbf26bab",
   "metadata": {
    "execution": {
     "iopub.execute_input": "2023-04-04T00:54:56.284843Z",
     "iopub.status.busy": "2023-04-04T00:54:56.284243Z",
     "iopub.status.idle": "2023-04-04T00:54:56.292375Z",
     "shell.execute_reply": "2023-04-04T00:54:56.290599Z",
     "shell.execute_reply.started": "2023-04-04T00:54:56.284807Z"
    }
   },
   "source": [
    "#### 1.3 Create (fake) historical stock bid/ask spreads"
   ]
  },
  {
   "cell_type": "code",
   "execution_count": 4,
   "id": "2dbb8135-f647-48aa-a4ec-58a3d2132d76",
   "metadata": {
    "execution": {
     "iopub.execute_input": "2023-06-02T07:28:27.342897Z",
     "iopub.status.busy": "2023-06-02T07:28:27.342629Z",
     "iopub.status.idle": "2023-06-02T07:28:27.347853Z",
     "shell.execute_reply": "2023-06-02T07:28:27.346720Z",
     "shell.execute_reply.started": "2023-06-02T07:28:27.342851Z"
    },
    "tags": []
   },
   "outputs": [],
   "source": [
    "# Note: real data should be used for this, wherever possible\n",
    "# For now, assume 0.01% (i.e. 1 cent on $100.00 stock)\n",
    "df['spread'] = 1/10_000 # EXPECTED AS A PERCENT"
   ]
  },
  {
   "cell_type": "markdown",
   "id": "79ae6ec4-d133-4295-95fa-a99afc6f1012",
   "metadata": {
    "execution": {
     "iopub.execute_input": "2023-04-04T22:40:59.809426Z",
     "iopub.status.busy": "2023-04-04T22:40:59.808815Z",
     "iopub.status.idle": "2023-04-04T22:40:59.818522Z",
     "shell.execute_reply": "2023-04-04T22:40:59.817612Z",
     "shell.execute_reply.started": "2023-04-04T22:40:59.809385Z"
    },
    "tags": []
   },
   "source": [
    "#### 1.4 Clean DF"
   ]
  },
  {
   "cell_type": "code",
   "execution_count": 5,
   "id": "d24d3772-a7c7-4400-b1b1-368394cdc7c3",
   "metadata": {
    "execution": {
     "iopub.execute_input": "2023-06-02T07:28:27.348776Z",
     "iopub.status.busy": "2023-06-02T07:28:27.348696Z",
     "iopub.status.idle": "2023-06-02T07:28:27.498103Z",
     "shell.execute_reply": "2023-06-02T07:28:27.497834Z",
     "shell.execute_reply.started": "2023-06-02T07:28:27.348766Z"
    },
    "tags": []
   },
   "outputs": [],
   "source": [
    "# Keep stocks (assets) with less than 10 price nulls only\n",
    "df = df.groupby('asset').filter(lambda g: g['price'].isnull().sum().sum() < 10)\n",
    "# Make date type datetime\n",
    "df['date'] = pd.to_datetime(df['date'])"
   ]
  },
  {
   "cell_type": "markdown",
   "id": "bd4ecdb6-498d-4f4b-8175-7a3a0fe0ba52",
   "metadata": {},
   "source": [
    "#### 1.5 Calculate returns"
   ]
  },
  {
   "cell_type": "code",
   "execution_count": 6,
   "id": "303e16c1-1bb4-4376-bf06-5424f48e4ccb",
   "metadata": {
    "execution": {
     "iopub.execute_input": "2023-06-02T07:28:27.498623Z",
     "iopub.status.busy": "2023-06-02T07:28:27.498557Z",
     "iopub.status.idle": "2023-06-02T07:28:27.520191Z",
     "shell.execute_reply": "2023-06-02T07:28:27.519877Z",
     "shell.execute_reply.started": "2023-06-02T07:28:27.498615Z"
    },
    "tags": []
   },
   "outputs": [],
   "source": [
    "df['price_t+1'] = df.groupby(['asset'])['price'].shift(-1)"
   ]
  },
  {
   "cell_type": "code",
   "execution_count": 7,
   "id": "47807ffe-bbee-47ef-a614-da2f0463c826",
   "metadata": {
    "execution": {
     "iopub.execute_input": "2023-06-02T07:28:27.520674Z",
     "iopub.status.busy": "2023-06-02T07:28:27.520602Z",
     "iopub.status.idle": "2023-06-02T07:28:27.524477Z",
     "shell.execute_reply": "2023-06-02T07:28:27.524218Z",
     "shell.execute_reply.started": "2023-06-02T07:28:27.520665Z"
    },
    "tags": []
   },
   "outputs": [],
   "source": [
    "df['return'] = df['price'] / df['price_t+1'] - 1 # fwd looking return"
   ]
  },
  {
   "cell_type": "code",
   "execution_count": 8,
   "id": "4706962b-4f19-41d8-9920-647cc3515e3d",
   "metadata": {
    "execution": {
     "iopub.execute_input": "2023-06-02T07:28:27.524883Z",
     "iopub.status.busy": "2023-06-02T07:28:27.524829Z",
     "iopub.status.idle": "2023-06-02T07:28:27.552312Z",
     "shell.execute_reply": "2023-06-02T07:28:27.552058Z",
     "shell.execute_reply.started": "2023-06-02T07:28:27.524875Z"
    },
    "tags": []
   },
   "outputs": [],
   "source": [
    "# Keep required columns only\n",
    "df = df[['asset', 'date', 'price', 'return', 'volume', 'spread']]\n",
    "\n",
    "# Drop null returns\n",
    "df = df[df['return'].notnull()]"
   ]
  },
  {
   "cell_type": "code",
   "execution_count": 9,
   "id": "b273b9e3-73c9-4cf2-a806-5b8c059609b1",
   "metadata": {
    "execution": {
     "iopub.execute_input": "2023-06-02T07:28:27.552858Z",
     "iopub.status.busy": "2023-06-02T07:28:27.552797Z",
     "iopub.status.idle": "2023-06-02T07:28:27.945972Z",
     "shell.execute_reply": "2023-06-02T07:28:27.945697Z",
     "shell.execute_reply.started": "2023-06-02T07:28:27.552849Z"
    },
    "tags": []
   },
   "outputs": [],
   "source": [
    "# Drop where return data insufficient\n",
    "UNIQUE_RETURNS_P_THRESHOLD = 0.99\n",
    "\n",
    "s_nunique = df.groupby(['asset']).nunique()['return']\n",
    "max_unique_returns = s_nunique.max()\n",
    "df_percent_returns_unique = (s_nunique / max_unique_returns).reset_index()\n",
    "df_percent_returns_unique = df_percent_returns_unique.rename(columns={'return': 'p_unique'})\n",
    "df = df.merge(df_percent_returns_unique, on=['asset'], how='left')\n",
    "df = df[df['p_unique'] >= UNIQUE_RETURNS_P_THRESHOLD]\n",
    "df = df.drop(columns=['p_unique'])"
   ]
  },
  {
   "cell_type": "markdown",
   "id": "e4be3e90-e195-417e-86de-58f5cd935cd0",
   "metadata": {},
   "source": [
    "#### 1.6 Split dfs into historical and forecast"
   ]
  },
  {
   "cell_type": "code",
   "execution_count": 10,
   "id": "a29c4d5c-c305-42e7-8725-f0b3d80ce0f5",
   "metadata": {
    "execution": {
     "iopub.execute_input": "2023-06-02T07:28:27.946509Z",
     "iopub.status.busy": "2023-06-02T07:28:27.946440Z",
     "iopub.status.idle": "2023-06-02T07:28:27.956141Z",
     "shell.execute_reply": "2023-06-02T07:28:27.955635Z",
     "shell.execute_reply.started": "2023-06-02T07:28:27.946500Z"
    },
    "tags": []
   },
   "outputs": [],
   "source": [
    "date_split_forecasts = '2016-01-01'\n",
    "\n",
    "df_forecast = df[df.date >= date_split_forecasts][['asset', 'date', 'return']]\n",
    "df_actual = df"
   ]
  },
  {
   "cell_type": "markdown",
   "id": "13f44c8a-31af-48ed-a637-dc89d6dafe9b",
   "metadata": {},
   "source": [
    "#### 1.7 Create (fake) forecasts"
   ]
  },
  {
   "cell_type": "code",
   "execution_count": 11,
   "id": "a58d829d-72ee-4cdc-9d34-fdb23be33579",
   "metadata": {
    "execution": {
     "iopub.execute_input": "2023-06-02T07:28:27.956733Z",
     "iopub.status.busy": "2023-06-02T07:28:27.956652Z",
     "iopub.status.idle": "2023-06-02T07:28:27.975528Z",
     "shell.execute_reply": "2023-06-02T07:28:27.975254Z",
     "shell.execute_reply.started": "2023-06-02T07:28:27.956725Z"
    },
    "tags": []
   },
   "outputs": [
    {
     "name": "stdout",
     "output_type": "stream",
     "text": [
      "Median return: -0.0008741769337591299\n"
     ]
    }
   ],
   "source": [
    "np.random.seed(0)\n",
    "\n",
    "# Median (daily) return is VERY close to 0:\n",
    "print(\"Median return:\", df_forecast['return'].median())\n",
    "\n",
    "# Cap returns at +- 10%...\n",
    "df_forecast['return'] = df_forecast['return'].clip(-0.1, 0.1)\n",
    "\n",
    "# ... then reduce signal...\n",
    "df_forecast['return'] /= 10\n",
    "\n",
    "# ... then add guassian noise to daily returns\n",
    "std = df_actual[df_actual.date >= date_split_forecasts]['return'].var() ** 0.5\n",
    "noise = np.random.normal(0, std, size=df_forecast.shape[0])\n",
    "\n",
    "df_forecast['return'] = df_forecast['return'] + noise"
   ]
  },
  {
   "cell_type": "code",
   "execution_count": 12,
   "id": "881fc104-83a2-4fab-ad04-7149e0a5afaa",
   "metadata": {
    "execution": {
     "iopub.execute_input": "2023-06-02T07:28:27.976312Z",
     "iopub.status.busy": "2023-06-02T07:28:27.976220Z",
     "iopub.status.idle": "2023-06-02T07:28:27.986288Z",
     "shell.execute_reply": "2023-06-02T07:28:27.986020Z",
     "shell.execute_reply.started": "2023-06-02T07:28:27.976303Z"
    },
    "tags": []
   },
   "outputs": [
    {
     "name": "stdout",
     "output_type": "stream",
     "text": [
      "Return predictions have the right sign 52.3% of the time\n"
     ]
    }
   ],
   "source": [
    "# Make sure predictions aren't too accurate:\n",
    "\n",
    "agree_on_sign = np.sign(df_forecast['return']) == np.sign(\n",
    "    df_actual[df_actual.date >= date_split_forecasts]['return']\n",
    ")\n",
    "\n",
    "print(\n",
    "    \"Return predictions have the right sign %.1f%% of the time\" %\n",
    "    ((agree_on_sign.sum() / agree_on_sign.shape[0]) * 100)\n",
    ")"
   ]
  },
  {
   "cell_type": "markdown",
   "id": "d026a06a-bc7e-44d2-8c38-d543ba262464",
   "metadata": {},
   "source": [
    "## 2. Portfolio optimization"
   ]
  },
  {
   "cell_type": "markdown",
   "id": "cc7758a2-6755-4612-a85a-ad1e1bd38dc0",
   "metadata": {},
   "source": [
    "#### 2.1 Create portfolio optimization instance"
   ]
  },
  {
   "cell_type": "code",
   "execution_count": 13,
   "id": "374f227a-45e5-4568-bbf8-a49fc34cdd45",
   "metadata": {
    "execution": {
     "iopub.execute_input": "2023-06-02T07:28:27.988267Z",
     "iopub.status.busy": "2023-06-02T07:28:27.988177Z",
     "iopub.status.idle": "2023-06-02T07:28:27.990005Z",
     "shell.execute_reply": "2023-06-02T07:28:27.989711Z",
     "shell.execute_reply.started": "2023-06-02T07:28:27.988258Z"
    },
    "tags": []
   },
   "outputs": [],
   "source": [
    "from investos.portfolio_optimization.cost_model import *\n",
    "from investos.portfolio_optimization.constraint_model import *\n",
    "from investos.portfolio_optimization.risk_model import *"
   ]
  },
  {
   "cell_type": "code",
   "execution_count": 14,
   "id": "7285b37b-b49b-4ff6-8716-d21d74af7a66",
   "metadata": {
    "execution": {
     "iopub.execute_input": "2023-06-02T07:28:27.990498Z",
     "iopub.status.busy": "2023-06-02T07:28:27.990430Z",
     "iopub.status.idle": "2023-06-02T07:28:28.380403Z",
     "shell.execute_reply": "2023-06-02T07:28:28.380052Z",
     "shell.execute_reply.started": "2023-06-02T07:28:27.990490Z"
    },
    "tags": []
   },
   "outputs": [],
   "source": [
    "strategy = inv.portfolio_optimization.strategy.SPO(\n",
    "    costs = [\n",
    "        TradingCost() * 10, \n",
    "        HoldingCost(),\n",
    "    ],\n",
    ")\n",
    "\n",
    "backtest = inv.portfolio_optimization.Backtester(\n",
    "    df_forecast,\n",
    "    df_actual,\n",
    "    strategy=strategy,\n",
    "    start_date='2016-07-01',\n",
    "    end_date='2018-01-01',\n",
    ")"
   ]
  },
  {
   "cell_type": "code",
   "execution_count": 15,
   "id": "fdd2ea0f-d20b-45b9-9a99-c88d6689ca6c",
   "metadata": {
    "execution": {
     "iopub.execute_input": "2023-06-02T07:28:28.380848Z",
     "iopub.status.busy": "2023-06-02T07:28:28.380788Z",
     "iopub.status.idle": "2023-06-02T07:28:28.384972Z",
     "shell.execute_reply": "2023-06-02T07:28:28.384775Z",
     "shell.execute_reply.started": "2023-06-02T07:28:28.380840Z"
    },
    "tags": []
   },
   "outputs": [
    {
     "data": {
      "text/plain": [
       "True"
      ]
     },
     "execution_count": 15,
     "metadata": {},
     "output_type": "execute_result"
    }
   ],
   "source": [
    "hasattr(strategy, 'costs')"
   ]
  },
  {
   "cell_type": "code",
   "execution_count": 16,
   "id": "d6db128d-c3e4-4264-a96c-8c756762b149",
   "metadata": {
    "execution": {
     "iopub.execute_input": "2023-06-02T07:28:28.385391Z",
     "iopub.status.busy": "2023-06-02T07:28:28.385337Z",
     "iopub.status.idle": "2023-06-02T07:28:28.642675Z",
     "shell.execute_reply": "2023-06-02T07:28:28.642267Z",
     "shell.execute_reply.started": "2023-06-02T07:28:28.385384Z"
    },
    "tags": []
   },
   "outputs": [
    {
     "name": "stdout",
     "output_type": "stream",
     "text": [
      "Optimizing...\n"
     ]
    },
    {
     "ename": "AttributeError",
     "evalue": "'int' object has no attribute 'is_convex'",
     "output_type": "error",
     "traceback": [
      "\u001b[0;31m---------------------------------------------------------------------------\u001b[0m",
      "\u001b[0;31mAttributeError\u001b[0m                            Traceback (most recent call last)",
      "Input \u001b[0;32mIn [16]\u001b[0m, in \u001b[0;36m<module>\u001b[0;34m\u001b[0m\n\u001b[0;32m----> 1\u001b[0m report \u001b[38;5;241m=\u001b[39m \u001b[43mbacktest\u001b[49m\u001b[38;5;241;43m.\u001b[39;49m\u001b[43moptimize\u001b[49m\u001b[43m(\u001b[49m\u001b[43m)\u001b[49m\n",
      "File \u001b[0;32m~/workspace/investos/investos/investos/portfolio_optimization/backtester.py:258\u001b[0m, in \u001b[0;36mBacktester.optimize\u001b[0;34m(self)\u001b[0m\n\u001b[1;32m    256\u001b[0m \u001b[38;5;66;03m# Propagate through future trades and resulting positions\u001b[39;00m\n\u001b[1;32m    257\u001b[0m \u001b[38;5;28;01mfor\u001b[39;00m t \u001b[38;5;129;01min\u001b[39;00m \u001b[38;5;28mself\u001b[39m\u001b[38;5;241m.\u001b[39mforecast[\u001b[38;5;124m'\u001b[39m\u001b[38;5;124mreturn\u001b[39m\u001b[38;5;124m'\u001b[39m]\u001b[38;5;241m.\u001b[39mindex:\n\u001b[0;32m--> 258\u001b[0m     u \u001b[38;5;241m=\u001b[39m \u001b[38;5;28;43mself\u001b[39;49m\u001b[38;5;241;43m.\u001b[39;49m\u001b[43mstrategy\u001b[49m\u001b[38;5;241;43m.\u001b[39;49m\u001b[43mgenerate_trade_list\u001b[49m\u001b[43m(\u001b[49m\u001b[43mh_next\u001b[49m\u001b[43m,\u001b[49m\u001b[43m \u001b[49m\u001b[43mt\u001b[49m\u001b[43m)\u001b[49m\n\u001b[1;32m    259\u001b[0m     h_next, u \u001b[38;5;241m=\u001b[39m \u001b[38;5;28mself\u001b[39m\u001b[38;5;241m.\u001b[39mpropagate(h_next, u, t)\n\u001b[1;32m    260\u001b[0m     \u001b[38;5;28mself\u001b[39m\u001b[38;5;241m.\u001b[39mbacktest\u001b[38;5;241m.\u001b[39msave_position(t, u, h_next)\n",
      "File \u001b[0;32m~/workspace/investos/investos/investos/portfolio_optimization/strategy/spo.py:79\u001b[0m, in \u001b[0;36mSPO.generate_trade_list\u001b[0;34m(self, holdings, t)\u001b[0m\n\u001b[1;32m     75\u001b[0m constraints \u001b[38;5;241m+\u001b[39m\u001b[38;5;241m=\u001b[39m [item \u001b[38;5;28;01mfor\u001b[39;00m item \u001b[38;5;129;01min\u001b[39;00m (con\u001b[38;5;241m.\u001b[39mweight_expr(t, wplus, z, value)\n\u001b[1;32m     76\u001b[0m                                   \u001b[38;5;28;01mfor\u001b[39;00m con \u001b[38;5;129;01min\u001b[39;00m \u001b[38;5;28mself\u001b[39m\u001b[38;5;241m.\u001b[39mconstraints)]\n\u001b[1;32m     78\u001b[0m \u001b[38;5;28;01mfor\u001b[39;00m el \u001b[38;5;129;01min\u001b[39;00m costs:\n\u001b[0;32m---> 79\u001b[0m     \u001b[38;5;28;01mif\u001b[39;00m \u001b[38;5;129;01mnot\u001b[39;00m \u001b[43mel\u001b[49m\u001b[38;5;241;43m.\u001b[39;49m\u001b[43mis_convex\u001b[49m():\n\u001b[1;32m     80\u001b[0m         \u001b[38;5;28mprint\u001b[39m(t, el, \u001b[38;5;124m\"\u001b[39m\u001b[38;5;124mis not convex\u001b[39m\u001b[38;5;124m\"\u001b[39m)\n\u001b[1;32m     81\u001b[0m     \u001b[38;5;66;03m# assert (el.is_convex())\u001b[39;00m\n\u001b[1;32m     82\u001b[0m \n\u001b[1;32m     83\u001b[0m \u001b[38;5;66;03m# for el in constraints:\u001b[39;00m\n\u001b[1;32m     84\u001b[0m     \u001b[38;5;66;03m# if not el.is_dcp():\u001b[39;00m\n\u001b[1;32m     85\u001b[0m     \u001b[38;5;66;03m#     print(t, el, \"is not dcp\")\u001b[39;00m\n\u001b[1;32m     86\u001b[0m     \u001b[38;5;66;03m# assert (el.is_dcp())\u001b[39;00m\n",
      "\u001b[0;31mAttributeError\u001b[0m: 'int' object has no attribute 'is_convex'"
     ]
    }
   ],
   "source": [
    "report = backtest.optimize()"
   ]
  },
  {
   "cell_type": "markdown",
   "id": "1758586f-6633-4c9b-a4ce-57a559d6c791",
   "metadata": {},
   "source": [
    "#### 2.2 Backtest results"
   ]
  },
  {
   "cell_type": "code",
   "execution_count": null,
   "id": "60fc8feb-1f18-4538-a512-9efaa9ebba9e",
   "metadata": {
    "execution": {
     "iopub.status.busy": "2023-06-02T07:28:28.643012Z",
     "iopub.status.idle": "2023-06-02T07:28:28.643126Z",
     "shell.execute_reply": "2023-06-02T07:28:28.643066Z",
     "shell.execute_reply.started": "2023-06-02T07:28:28.643061Z"
    },
    "tags": []
   },
   "outputs": [],
   "source": [
    "fig = report.v.plot()\n",
    "fig.layout.update(showlegend=False)\n",
    "fig.show()"
   ]
  },
  {
   "cell_type": "code",
   "execution_count": null,
   "id": "4aa6fd1b-fb36-4cbe-95d0-89492e13467b",
   "metadata": {
    "execution": {
     "iopub.status.busy": "2023-06-02T07:28:28.643505Z",
     "iopub.status.idle": "2023-06-02T07:28:28.643599Z",
     "shell.execute_reply": "2023-06-02T07:28:28.643546Z",
     "shell.execute_reply.started": "2023-06-02T07:28:28.643541Z"
    },
    "tags": []
   },
   "outputs": [],
   "source": [
    "report.summary"
   ]
  },
  {
   "cell_type": "markdown",
   "id": "a145a755-dedd-47eb-bc33-9bbdda724d7c",
   "metadata": {
    "tags": []
   },
   "source": [
    "#### 2.3 Examples\n",
    "\n",
    "**A) Default options:**\n",
    "\n",
    "- Long short\n",
    "- Equal long short\n",
    "- 2x max leverage (i.e. exposure)\n",
    "- 100MM AUM\n",
    "- Default trading and holding cost models\n",
    "- Default (long and short) position weight constraints [2.5%]\n",
    "\n",
    "```python\n",
    "# Code:\n",
    "\n",
    "strategy = inv.portfolio_optimization.strategy.SPO()\n",
    "\n",
    "backtest = inv.portfolio_optimization.Backtester(\n",
    "    df_forecast,\n",
    "    df_actual,\n",
    "    strategy=strategy,\n",
    ")\n",
    "```\n",
    "\n",
    "**B) Same as A, but 200MM AUM:**\n",
    "\n",
    "```python\n",
    "# Code:\n",
    "\n",
    "strategy = inv.portfolio_optimization.strategy.SPO()\n",
    "\n",
    "backtest = inv.portfolio_optimization.Backtester(\n",
    "    df_forecast,\n",
    "    df_actual,\n",
    "    strategy=strategy,\n",
    "    aum=200_000_000,\n",
    ")\n",
    "```\n",
    "\n",
    "**C) Same as B, but half price movement on trading:**\n",
    "\n",
    "```python\n",
    "# Code:\n",
    "\n",
    "strategy = inv.portfolio_optimization.strategy.SPO(\n",
    "    costs = [\n",
    "        TradingCost(price_movement_sensitivity=0.5), \n",
    "        HoldingCost(),\n",
    "    ],\n",
    ")\n",
    "\n",
    "backtest = inv.portfolio_optimization.Backtester(\n",
    "    df_forecast,\n",
    "    df_actual,\n",
    "    strategy=strategy,\n",
    "    aum=200_000_000,\n",
    ")\n",
    "```\n",
    "\n",
    "**D) Same as A, but long only (with no leverage):**\n",
    "\n",
    "```python\n",
    "# Code:\n",
    "\n",
    "strategy = inv.portfolio_optimization.strategy.SPO(\n",
    "    constraints = [\n",
    "        LongOnlyConstraint(),\n",
    "        MaxWeightConstraint(), \n",
    "    ],\n",
    ")\n",
    "\n",
    "backtest = inv.portfolio_optimization.Backtester(\n",
    "    df_forecast,\n",
    "    df_actual,\n",
    "    strategy=strategy,\n",
    ")\n",
    "```\n",
    "\n",
    "**E) Same as A, but 1x leverage:**\n",
    "\n",
    "```python\n",
    "# Code:\n",
    "\n",
    "strategy = inv.portfolio_optimization.strategy.SPO(\n",
    "    constraints = [\n",
    "        MaxLeverageConstraint(limit=1.0),\n",
    "        MinWeightConstraint(), \n",
    "        MaxWeightConstraint(), \n",
    "        EqualLongShortConstraint() \n",
    "    ],\n",
    ")\n",
    "\n",
    "backtest = inv.portfolio_optimization.Backtester(\n",
    "    df_forecast,\n",
    "    df_actual,\n",
    "    strategy=strategy,\n",
    ")\n",
    "```\n",
    "\n",
    "**F) Same as A, but discourage costly trades by 10x:**\n",
    "\n",
    "```python\n",
    "# Code:\n",
    "\n",
    "strategy = inv.portfolio_optimization.strategy.SPO(\n",
    "    costs = [\n",
    "        TradingCost() * 10, \n",
    "        HoldingCost(),\n",
    "    ],\n",
    ")\n",
    "\n",
    "backtest = inv.portfolio_optimization.Backtester(\n",
    "    df_forecast,\n",
    "    df_actual,\n",
    "    strategy=strategy,\n",
    "    start_date='2016-07-01',\n",
    "    end_date='2018-01-01',\n",
    ")\n",
    "```"
   ]
  },
  {
   "cell_type": "code",
   "execution_count": null,
   "id": "bdfc64d0-d80b-49e5-b834-b94aa175326d",
   "metadata": {},
   "outputs": [],
   "source": []
  }
 ],
 "metadata": {
  "kernelspec": {
   "display_name": "Python 3 (ipykernel)",
   "language": "python",
   "name": "python3"
  },
  "language_info": {
   "codemirror_mode": {
    "name": "ipython",
    "version": 3
   },
   "file_extension": ".py",
   "mimetype": "text/x-python",
   "name": "python",
   "nbconvert_exporter": "python",
   "pygments_lexer": "ipython3",
   "version": "3.9.13"
  }
 },
 "nbformat": 4,
 "nbformat_minor": 5
}
