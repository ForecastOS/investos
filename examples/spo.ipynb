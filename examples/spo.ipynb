{
 "cells": [
  {
   "cell_type": "markdown",
   "id": "d97e2d2b-8dc8-40a0-af05-e2c24141cd5c",
   "metadata": {},
   "source": [
    "# Simple Backtest Example - SPO"
   ]
  },
  {
   "cell_type": "markdown",
   "id": "abeaeead-9e67-4f5b-b093-63e2682ae766",
   "metadata": {
    "tags": []
   },
   "source": [
    "## 1. Setup"
   ]
  },
  {
   "cell_type": "markdown",
   "id": "b755c267-921f-4a7c-9e06-36cc6e21fd66",
   "metadata": {
    "execution": {
     "iopub.execute_input": "2023-04-04T00:53:04.140680Z",
     "iopub.status.busy": "2023-04-04T00:53:04.139992Z",
     "iopub.status.idle": "2023-04-04T00:53:04.147601Z",
     "shell.execute_reply": "2023-04-04T00:53:04.146761Z",
     "shell.execute_reply.started": "2023-04-04T00:53:04.140628Z"
    }
   },
   "source": [
    "#### 1.1 Load InvestOS module"
   ]
  },
  {
   "cell_type": "code",
   "execution_count": 1,
   "id": "1bebdccf-dc6a-4007-848f-82ab2147192f",
   "metadata": {
    "ExecuteTime": {
     "end_time": "2023-07-23T23:44:14.434744Z",
     "start_time": "2023-07-23T23:44:13.714365Z"
    },
    "execution": {
     "iopub.execute_input": "2023-10-31T07:20:30.975729Z",
     "iopub.status.busy": "2023-10-31T07:20:30.975332Z",
     "iopub.status.idle": "2023-10-31T07:20:31.540167Z",
     "shell.execute_reply": "2023-10-31T07:20:31.538369Z",
     "shell.execute_reply.started": "2023-10-31T07:20:30.975705Z"
    },
    "tags": []
   },
   "outputs": [],
   "source": [
    "# Add relative path to module lookup path...\n",
    "import os\n",
    "import sys\n",
    "\n",
    "sys.path.insert(0, os.path.abspath(\"..\"))\n",
    "\n",
    "# ... then import module\n",
    "import investos as inv\n",
    "\n",
    "# Import other required modules\n",
    "import pandas as pd\n",
    "\n",
    "pd.options.mode.chained_assignment = None  # default='warn'\n",
    "pd.options.plotting.backend = \"plotly\"\n",
    "import numpy as np"
   ]
  },
  {
   "cell_type": "markdown",
   "id": "bbab7ef5-59d7-4e9a-b2a3-fd026a9f0f29",
   "metadata": {},
   "source": [
    "#### 1.2 Load historical stock prices and volumes"
   ]
  },
  {
   "cell_type": "markdown",
   "id": "2b66d7e2-bf1c-4b44-b943-20ba8b60eba9",
   "metadata": {},
   "source": [
    "Place in examples/data directory [data from Kaggle](https://www.kaggle.com/datasets/camnugent/sandp500/download?datasetVersionNumber=4)\n",
    "\n",
    "Note: you will need to create (and sign into) a free Kaggle account"
   ]
  },
  {
   "cell_type": "code",
   "execution_count": 2,
   "id": "beb942da-0c08-4b24-b118-a1cc6c1f0e9c",
   "metadata": {
    "ExecuteTime": {
     "end_time": "2023-07-23T23:44:14.672069Z",
     "start_time": "2023-07-23T23:44:14.436096Z"
    },
    "execution": {
     "iopub.execute_input": "2023-10-31T07:20:31.557220Z",
     "iopub.status.busy": "2023-10-31T07:20:31.555608Z",
     "iopub.status.idle": "2023-10-31T07:20:31.746045Z",
     "shell.execute_reply": "2023-10-31T07:20:31.745746Z",
     "shell.execute_reply.started": "2023-10-31T07:20:31.557180Z"
    },
    "tags": []
   },
   "outputs": [],
   "source": [
    "# A. Load S&P 500 tickers, names, and industries\n",
    "dir_name = \"./data/\"\n",
    "\n",
    "df = pd.read_csv(dir_name + \"all_stocks_5yr.csv\").rename(columns={\"Name\": \"asset\"})"
   ]
  },
  {
   "cell_type": "code",
   "execution_count": 3,
   "id": "39ba1824-354e-4b7e-b3a3-dad99a90fca6",
   "metadata": {
    "ExecuteTime": {
     "end_time": "2023-07-23T23:44:14.695107Z",
     "start_time": "2023-07-23T23:44:14.673234Z"
    },
    "execution": {
     "iopub.execute_input": "2023-10-31T07:20:31.746548Z",
     "iopub.status.busy": "2023-10-31T07:20:31.746459Z",
     "iopub.status.idle": "2023-10-31T07:20:31.769627Z",
     "shell.execute_reply": "2023-10-31T07:20:31.769307Z",
     "shell.execute_reply.started": "2023-10-31T07:20:31.746539Z"
    },
    "tags": []
   },
   "outputs": [],
   "source": [
    "# B. Keep date, price (mid-way between bid and ask), and volume only\n",
    "df = df[[\"asset\", \"date\", \"open\", \"volume\"]]\n",
    "df = df.rename(columns={\"open\": \"price\"})"
   ]
  },
  {
   "cell_type": "markdown",
   "id": "daeb7eb7-1a64-40f2-8966-8ac6bbf26bab",
   "metadata": {
    "execution": {
     "iopub.execute_input": "2023-04-04T00:54:56.284843Z",
     "iopub.status.busy": "2023-04-04T00:54:56.284243Z",
     "iopub.status.idle": "2023-04-04T00:54:56.292375Z",
     "shell.execute_reply": "2023-04-04T00:54:56.290599Z",
     "shell.execute_reply.started": "2023-04-04T00:54:56.284807Z"
    }
   },
   "source": [
    "#### 1.3 Create (fake) historical stock bid/ask spreads"
   ]
  },
  {
   "cell_type": "code",
   "execution_count": 4,
   "id": "2dbb8135-f647-48aa-a4ec-58a3d2132d76",
   "metadata": {
    "ExecuteTime": {
     "end_time": "2023-07-23T23:44:14.699103Z",
     "start_time": "2023-07-23T23:44:14.696728Z"
    },
    "execution": {
     "iopub.execute_input": "2023-10-31T07:20:31.770194Z",
     "iopub.status.busy": "2023-10-31T07:20:31.770103Z",
     "iopub.status.idle": "2023-10-31T07:20:31.772918Z",
     "shell.execute_reply": "2023-10-31T07:20:31.772543Z",
     "shell.execute_reply.started": "2023-10-31T07:20:31.770185Z"
    },
    "tags": []
   },
   "outputs": [],
   "source": [
    "# Note: real data should be used for this, wherever possible\n",
    "# For now, assume 0.01% (i.e. 1 cent on $100.00 stock)\n",
    "df[\"spread\"] = 1 / 10_000  # EXPECTED AS A PERCENT"
   ]
  },
  {
   "cell_type": "markdown",
   "id": "79ae6ec4-d133-4295-95fa-a99afc6f1012",
   "metadata": {
    "execution": {
     "iopub.execute_input": "2023-04-04T22:40:59.809426Z",
     "iopub.status.busy": "2023-04-04T22:40:59.808815Z",
     "iopub.status.idle": "2023-04-04T22:40:59.818522Z",
     "shell.execute_reply": "2023-04-04T22:40:59.817612Z",
     "shell.execute_reply.started": "2023-04-04T22:40:59.809385Z"
    },
    "tags": []
   },
   "source": [
    "#### 1.4 Clean DF"
   ]
  },
  {
   "cell_type": "code",
   "execution_count": 5,
   "id": "d24d3772-a7c7-4400-b1b1-368394cdc7c3",
   "metadata": {
    "ExecuteTime": {
     "end_time": "2023-07-23T23:44:14.893561Z",
     "start_time": "2023-07-23T23:44:14.699883Z"
    },
    "execution": {
     "iopub.execute_input": "2023-10-31T07:20:31.773569Z",
     "iopub.status.busy": "2023-10-31T07:20:31.773472Z",
     "iopub.status.idle": "2023-10-31T07:20:31.936151Z",
     "shell.execute_reply": "2023-10-31T07:20:31.935852Z",
     "shell.execute_reply.started": "2023-10-31T07:20:31.773559Z"
    },
    "tags": []
   },
   "outputs": [],
   "source": [
    "# Keep stocks (assets) with less than 10 price nulls only\n",
    "df = df.groupby(\"asset\").filter(lambda g: g[\"price\"].isnull().sum().sum() < 10)\n",
    "# Make date type datetime\n",
    "df[\"date\"] = pd.to_datetime(df[\"date\"])"
   ]
  },
  {
   "cell_type": "markdown",
   "id": "bd4ecdb6-498d-4f4b-8175-7a3a0fe0ba52",
   "metadata": {},
   "source": [
    "#### 1.5 Calculate returns"
   ]
  },
  {
   "cell_type": "code",
   "execution_count": 6,
   "id": "303e16c1-1bb4-4376-bf06-5424f48e4ccb",
   "metadata": {
    "ExecuteTime": {
     "end_time": "2023-07-23T23:44:14.922163Z",
     "start_time": "2023-07-23T23:44:14.894661Z"
    },
    "execution": {
     "iopub.execute_input": "2023-10-31T07:20:31.936784Z",
     "iopub.status.busy": "2023-10-31T07:20:31.936684Z",
     "iopub.status.idle": "2023-10-31T07:20:31.957045Z",
     "shell.execute_reply": "2023-10-31T07:20:31.956701Z",
     "shell.execute_reply.started": "2023-10-31T07:20:31.936775Z"
    },
    "tags": []
   },
   "outputs": [],
   "source": [
    "df[\"price_t+1\"] = df.groupby([\"asset\"])[\"price\"].shift(-1)"
   ]
  },
  {
   "cell_type": "code",
   "execution_count": 7,
   "id": "47807ffe-bbee-47ef-a614-da2f0463c826",
   "metadata": {
    "ExecuteTime": {
     "end_time": "2023-07-23T23:44:14.926833Z",
     "start_time": "2023-07-23T23:44:14.923227Z"
    },
    "execution": {
     "iopub.execute_input": "2023-10-31T07:20:31.959441Z",
     "iopub.status.busy": "2023-10-31T07:20:31.959301Z",
     "iopub.status.idle": "2023-10-31T07:20:31.963763Z",
     "shell.execute_reply": "2023-10-31T07:20:31.963395Z",
     "shell.execute_reply.started": "2023-10-31T07:20:31.959430Z"
    },
    "tags": []
   },
   "outputs": [],
   "source": [
    "df[\"return\"] = df[\"price\"] / df[\"price_t+1\"] - 1  # fwd looking return"
   ]
  },
  {
   "cell_type": "code",
   "execution_count": 8,
   "id": "4706962b-4f19-41d8-9920-647cc3515e3d",
   "metadata": {
    "ExecuteTime": {
     "end_time": "2023-07-23T23:44:14.962175Z",
     "start_time": "2023-07-23T23:44:14.927660Z"
    },
    "execution": {
     "iopub.execute_input": "2023-10-31T07:20:31.964400Z",
     "iopub.status.busy": "2023-10-31T07:20:31.964287Z",
     "iopub.status.idle": "2023-10-31T07:20:32.000163Z",
     "shell.execute_reply": "2023-10-31T07:20:31.999839Z",
     "shell.execute_reply.started": "2023-10-31T07:20:31.964391Z"
    },
    "tags": []
   },
   "outputs": [],
   "source": [
    "# Keep required columns only\n",
    "df = df[[\"asset\", \"date\", \"price\", \"return\", \"volume\", \"spread\"]]\n",
    "\n",
    "# Drop null returns\n",
    "df = df[df[\"return\"].notnull()]"
   ]
  },
  {
   "cell_type": "code",
   "execution_count": 9,
   "id": "b273b9e3-73c9-4cf2-a806-5b8c059609b1",
   "metadata": {
    "ExecuteTime": {
     "end_time": "2023-07-23T23:44:15.479157Z",
     "start_time": "2023-07-23T23:44:14.963190Z"
    },
    "execution": {
     "iopub.execute_input": "2023-10-31T07:20:32.000905Z",
     "iopub.status.busy": "2023-10-31T07:20:32.000801Z",
     "iopub.status.idle": "2023-10-31T07:20:32.415891Z",
     "shell.execute_reply": "2023-10-31T07:20:32.415584Z",
     "shell.execute_reply.started": "2023-10-31T07:20:32.000896Z"
    },
    "tags": []
   },
   "outputs": [],
   "source": [
    "# Drop where return data insufficient\n",
    "UNIQUE_RETURNS_P_THRESHOLD = 0.99\n",
    "\n",
    "s_nunique = df.groupby([\"asset\"]).nunique()[\"return\"]\n",
    "max_unique_returns = s_nunique.max()\n",
    "df_percent_returns_unique = (s_nunique / max_unique_returns).reset_index()\n",
    "df_percent_returns_unique = df_percent_returns_unique.rename(\n",
    "    columns={\"return\": \"p_unique\"}\n",
    ")\n",
    "df = df.merge(df_percent_returns_unique, on=[\"asset\"], how=\"left\")\n",
    "df = df[df[\"p_unique\"] >= UNIQUE_RETURNS_P_THRESHOLD]\n",
    "df = df.drop(columns=[\"p_unique\"])"
   ]
  },
  {
   "cell_type": "markdown",
   "id": "e4be3e90-e195-417e-86de-58f5cd935cd0",
   "metadata": {},
   "source": [
    "#### 1.6 Split dfs into historical and forecast"
   ]
  },
  {
   "cell_type": "code",
   "execution_count": 10,
   "id": "a29c4d5c-c305-42e7-8725-f0b3d80ce0f5",
   "metadata": {
    "ExecuteTime": {
     "end_time": "2023-07-23T23:44:15.492565Z",
     "start_time": "2023-07-23T23:44:15.481831Z"
    },
    "execution": {
     "iopub.execute_input": "2023-10-31T07:20:32.416521Z",
     "iopub.status.busy": "2023-10-31T07:20:32.416426Z",
     "iopub.status.idle": "2023-10-31T07:20:32.422222Z",
     "shell.execute_reply": "2023-10-31T07:20:32.421950Z",
     "shell.execute_reply.started": "2023-10-31T07:20:32.416512Z"
    },
    "tags": []
   },
   "outputs": [],
   "source": [
    "df_actual = df\n",
    "df_forecast = df[[\"asset\", \"date\", \"return\"]]"
   ]
  },
  {
   "cell_type": "code",
   "execution_count": 11,
   "id": "04a1161c-5837-4949-8203-55808e1442d2",
   "metadata": {
    "execution": {
     "iopub.execute_input": "2023-10-31T07:20:32.422880Z",
     "iopub.status.busy": "2023-10-31T07:20:32.422731Z",
     "iopub.status.idle": "2023-10-31T07:20:32.426147Z",
     "shell.execute_reply": "2023-10-31T07:20:32.425844Z",
     "shell.execute_reply.started": "2023-10-31T07:20:32.422869Z"
    },
    "tags": []
   },
   "outputs": [],
   "source": [
    "def pivot_and_fill(\n",
    "    df, values=\"return\", columns=\"asset\", index=\"date\", fill_method=\"bfill\"\n",
    "):\n",
    "    return pd.pivot(df, values=values, columns=columns, index=index).fillna(\n",
    "        method=fill_method\n",
    "    )"
   ]
  },
  {
   "cell_type": "markdown",
   "id": "13f44c8a-31af-48ed-a637-dc89d6dafe9b",
   "metadata": {},
   "source": [
    "#### 1.7 Create (fake) forecasts"
   ]
  },
  {
   "cell_type": "code",
   "execution_count": 12,
   "id": "a58d829d-72ee-4cdc-9d34-fdb23be33579",
   "metadata": {
    "ExecuteTime": {
     "end_time": "2023-07-23T23:44:15.516256Z",
     "start_time": "2023-07-23T23:44:15.493601Z"
    },
    "execution": {
     "iopub.execute_input": "2023-10-31T07:20:32.426808Z",
     "iopub.status.busy": "2023-10-31T07:20:32.426695Z",
     "iopub.status.idle": "2023-10-31T07:20:32.448493Z",
     "shell.execute_reply": "2023-10-31T07:20:32.448165Z",
     "shell.execute_reply.started": "2023-10-31T07:20:32.426799Z"
    },
    "tags": []
   },
   "outputs": [
    {
     "name": "stdout",
     "output_type": "stream",
     "text": [
      "Median return: -0.0007805182641272834\n"
     ]
    }
   ],
   "source": [
    "np.random.seed(0)\n",
    "\n",
    "# Median (daily) return is VERY close to 0:\n",
    "print(\"Median return:\", df_forecast[\"return\"].median())\n",
    "\n",
    "# Cap returns at +- 10%...\n",
    "df_forecast[\"return\"] = df_forecast[\"return\"].clip(-0.1, 0.1)\n",
    "\n",
    "# ... then reduce signal...\n",
    "df_forecast[\"return\"] /= 10\n",
    "\n",
    "# ... then add guassian noise to daily returns\n",
    "std = df_actual[\"return\"].var() ** 0.5\n",
    "noise = np.random.normal(0, std, size=df_forecast.shape[0])\n",
    "\n",
    "df_forecast[\"return\"] = df_forecast[\"return\"] + noise"
   ]
  },
  {
   "cell_type": "code",
   "execution_count": 13,
   "id": "881fc104-83a2-4fab-ad04-7149e0a5afaa",
   "metadata": {
    "ExecuteTime": {
     "end_time": "2023-07-23T23:44:15.530084Z",
     "start_time": "2023-07-23T23:44:15.517165Z"
    },
    "execution": {
     "iopub.execute_input": "2023-10-31T07:20:32.449263Z",
     "iopub.status.busy": "2023-10-31T07:20:32.449152Z",
     "iopub.status.idle": "2023-10-31T07:20:32.456538Z",
     "shell.execute_reply": "2023-10-31T07:20:32.456232Z",
     "shell.execute_reply.started": "2023-10-31T07:20:32.449251Z"
    },
    "tags": []
   },
   "outputs": [
    {
     "name": "stdout",
     "output_type": "stream",
     "text": [
      "Return predictions have the right sign 52.4% of the time\n"
     ]
    }
   ],
   "source": [
    "# Make sure predictions aren't too accurate:\n",
    "\n",
    "agree_on_sign = np.sign(df_forecast[\"return\"]) == np.sign(df_actual[\"return\"])\n",
    "\n",
    "print(\n",
    "    \"Return predictions have the right sign %.1f%% of the time\"\n",
    "    % ((agree_on_sign.sum() / agree_on_sign.shape[0]) * 100)\n",
    ")"
   ]
  },
  {
   "cell_type": "code",
   "execution_count": 14,
   "id": "a160cfa3-139c-47c3-8ffd-d81ceae4d4bb",
   "metadata": {
    "execution": {
     "iopub.execute_input": "2023-10-31T07:20:32.457307Z",
     "iopub.status.busy": "2023-10-31T07:20:32.457155Z",
     "iopub.status.idle": "2023-10-31T07:20:32.562132Z",
     "shell.execute_reply": "2023-10-31T07:20:32.561794Z",
     "shell.execute_reply.started": "2023-10-31T07:20:32.457292Z"
    },
    "tags": []
   },
   "outputs": [],
   "source": [
    "df_actual_returns = pivot_and_fill(df_actual)\n",
    "df_forecast_returns = pivot_and_fill(df_forecast)\n",
    "\n",
    "cash_return = 0.03 / 252\n",
    "df_actual_returns[\"cash\"] = cash_return\n",
    "df_forecast_returns[\"cash\"] = cash_return"
   ]
  },
  {
   "cell_type": "code",
   "execution_count": 15,
   "id": "5b4ce84f-876c-49e4-b7aa-1ea443b63d5a",
   "metadata": {
    "execution": {
     "iopub.execute_input": "2023-10-31T07:20:32.562845Z",
     "iopub.status.busy": "2023-10-31T07:20:32.562742Z",
     "iopub.status.idle": "2023-10-31T07:20:32.565113Z",
     "shell.execute_reply": "2023-10-31T07:20:32.564828Z",
     "shell.execute_reply.started": "2023-10-31T07:20:32.562835Z"
    }
   },
   "outputs": [],
   "source": [
    "short_rates = pd.Series(index=df_forecast_returns.columns, data=0.003 / 252)\n",
    "# Borrowing rate assumed to be equal to cash return.\n",
    "# ELSE can set short rate on cash to number other than 0\n",
    "# for delta on long/short cash return\n",
    "short_rates[\"cash\"] = 0"
   ]
  },
  {
   "cell_type": "code",
   "execution_count": 16,
   "id": "7895fc2c-35d6-46ae-ab2e-b336e9f11133",
   "metadata": {
    "execution": {
     "iopub.execute_input": "2023-10-31T07:20:32.565669Z",
     "iopub.status.busy": "2023-10-31T07:20:32.565573Z",
     "iopub.status.idle": "2023-10-31T07:20:32.567759Z",
     "shell.execute_reply": "2023-10-31T07:20:32.567472Z",
     "shell.execute_reply.started": "2023-10-31T07:20:32.565660Z"
    },
    "tags": []
   },
   "outputs": [],
   "source": [
    "start_date_sample = \"2015-12-31\"\n",
    "end_date_sample = \"2016-12-31\""
   ]
  },
  {
   "cell_type": "code",
   "execution_count": 17,
   "id": "90892b2e-1248-495e-8e36-9d317df3f65a",
   "metadata": {
    "execution": {
     "iopub.execute_input": "2023-10-31T07:20:32.568233Z",
     "iopub.status.busy": "2023-10-31T07:20:32.568139Z",
     "iopub.status.idle": "2023-10-31T07:20:32.571767Z",
     "shell.execute_reply": "2023-10-31T07:20:32.571426Z",
     "shell.execute_reply.started": "2023-10-31T07:20:32.568224Z"
    },
    "tags": []
   },
   "outputs": [],
   "source": [
    "# std = df_actual['return'].var() ** 0.5\n",
    "std = (\n",
    "    df_actual_returns[\n",
    "        (df_actual_returns.index > start_date_sample)\n",
    "        & (df_actual_returns.index <= end_date_sample)\n",
    "    ].var()\n",
    "    ** 0.5\n",
    ")\n",
    "std[\"cash\"] = 0"
   ]
  },
  {
   "cell_type": "code",
   "execution_count": 18,
   "id": "a8f9f21e-2e89-484b-9b95-b1fe7e6ad2fe",
   "metadata": {
    "execution": {
     "iopub.execute_input": "2023-10-31T07:20:32.572492Z",
     "iopub.status.busy": "2023-10-31T07:20:32.572354Z",
     "iopub.status.idle": "2023-10-31T07:20:32.632900Z",
     "shell.execute_reply": "2023-10-31T07:20:32.632615Z",
     "shell.execute_reply.started": "2023-10-31T07:20:32.572481Z"
    },
    "tags": []
   },
   "outputs": [],
   "source": [
    "vol = pivot_and_fill(df_actual, values=\"volume\")\n",
    "vol = vol[(vol.index > start_date_sample) & (vol.index <= end_date_sample)].median()\n",
    "vol[\"cash\"] = 1"
   ]
  },
  {
   "cell_type": "code",
   "execution_count": 19,
   "id": "a516a62c-0e68-4028-a7c0-81f468f55873",
   "metadata": {
    "execution": {
     "iopub.execute_input": "2023-10-31T07:20:32.633364Z",
     "iopub.status.busy": "2023-10-31T07:20:32.633279Z",
     "iopub.status.idle": "2023-10-31T07:20:32.690842Z",
     "shell.execute_reply": "2023-10-31T07:20:32.690548Z",
     "shell.execute_reply.started": "2023-10-31T07:20:32.633355Z"
    }
   },
   "outputs": [],
   "source": [
    "price = pivot_and_fill(df_actual, values=\"price\")\n",
    "price[\"cash\"] = 1"
   ]
  },
  {
   "cell_type": "code",
   "execution_count": 20,
   "id": "9aad1f40-292d-4d61-89db-3e2a96503506",
   "metadata": {
    "execution": {
     "iopub.execute_input": "2023-10-31T07:20:32.691520Z",
     "iopub.status.busy": "2023-10-31T07:20:32.691430Z",
     "iopub.status.idle": "2023-10-31T07:20:32.741761Z",
     "shell.execute_reply": "2023-10-31T07:20:32.741446Z",
     "shell.execute_reply.started": "2023-10-31T07:20:32.691511Z"
    },
    "tags": []
   },
   "outputs": [],
   "source": [
    "spread = pivot_and_fill(df_actual, values=\"spread\")"
   ]
  },
  {
   "cell_type": "markdown",
   "id": "d026a06a-bc7e-44d2-8c38-d543ba262464",
   "metadata": {},
   "source": [
    "## 2. Portfolio optimization"
   ]
  },
  {
   "cell_type": "markdown",
   "id": "cc7758a2-6755-4612-a85a-ad1e1bd38dc0",
   "metadata": {},
   "source": [
    "#### 2.1 Create portfolio optimization instance"
   ]
  },
  {
   "cell_type": "code",
   "execution_count": 21,
   "id": "374f227a-45e5-4568-bbf8-a49fc34cdd45",
   "metadata": {
    "ExecuteTime": {
     "end_time": "2023-07-23T23:44:15.533359Z",
     "start_time": "2023-07-23T23:44:15.531342Z"
    },
    "execution": {
     "iopub.execute_input": "2023-10-31T07:20:32.742267Z",
     "iopub.status.busy": "2023-10-31T07:20:32.742175Z",
     "iopub.status.idle": "2023-10-31T07:20:32.744541Z",
     "shell.execute_reply": "2023-10-31T07:20:32.744253Z",
     "shell.execute_reply.started": "2023-10-31T07:20:32.742257Z"
    },
    "tags": []
   },
   "outputs": [],
   "source": [
    "from investos.portfolio.cost_model import *\n",
    "from investos.portfolio.constraint_model import *\n",
    "from investos.portfolio.risk_model import *"
   ]
  },
  {
   "cell_type": "code",
   "execution_count": 22,
   "id": "7285b37b-b49b-4ff6-8716-d21d74af7a66",
   "metadata": {
    "ExecuteTime": {
     "end_time": "2023-07-23T23:44:16.010169Z",
     "start_time": "2023-07-23T23:44:15.534323Z"
    },
    "execution": {
     "iopub.execute_input": "2023-10-31T07:20:32.747631Z",
     "iopub.status.busy": "2023-10-31T07:20:32.747518Z",
     "iopub.status.idle": "2023-10-31T07:20:32.753830Z",
     "shell.execute_reply": "2023-10-31T07:20:32.753402Z",
     "shell.execute_reply.started": "2023-10-31T07:20:32.747622Z"
    },
    "tags": []
   },
   "outputs": [],
   "source": [
    "strategy = inv.portfolio.strategy.SPO(\n",
    "    actual_returns=df_actual_returns,\n",
    "    forecast_returns=df_forecast_returns,\n",
    "    costs=[\n",
    "        ShortHoldingCost(short_rates=short_rates, exclude_assets=[\"cash\"]),\n",
    "        TradingCost(\n",
    "            exclude_assets=[\"cash\"],\n",
    "            forecast_volume=vol,\n",
    "            actual_prices=price,\n",
    "            half_spread=(spread / 2),\n",
    "            forecast_std_dev=std,\n",
    "        ),\n",
    "    ],\n",
    "    constraints=[\n",
    "        MaxShortLeverageConstraint(limit=0.3),\n",
    "        MaxLongLeverageConstraint(limit=1.3),\n",
    "        MinWeightConstraint(),\n",
    "        MaxWeightConstraint(),\n",
    "        LongCashConstraint(),\n",
    "    ],\n",
    "    cash_column_name=\"cash\",\n",
    ")\n",
    "\n",
    "portfolio = inv.portfolio.BacktestController(\n",
    "    strategy=strategy,\n",
    "    start_date=\"2017-01-01\",\n",
    "    end_date=\"2018-01-01\",\n",
    "    hooks={\n",
    "        \"after_trades\": [\n",
    "            lambda backtest, t, u, h_next: print(\".\", end=\"\"),\n",
    "        ]\n",
    "    },\n",
    ")"
   ]
  },
  {
   "cell_type": "code",
   "execution_count": null,
   "id": "d6db128d-c3e4-4264-a96c-8c756762b149",
   "metadata": {
    "ExecuteTime": {
     "end_time": "2023-07-23T23:45:05.579574Z",
     "start_time": "2023-07-23T23:44:16.011249Z"
    },
    "execution": {
     "iopub.execute_input": "2023-10-31T07:20:32.754497Z",
     "iopub.status.busy": "2023-10-31T07:20:32.754350Z"
    },
    "tags": []
   },
   "outputs": [
    {
     "name": "stdout",
     "output_type": "stream",
     "text": [
      "Generating historical portfolio trades and positions...\n",
      "......................................................."
     ]
    }
   ],
   "source": [
    "backtest_result = portfolio.generate_positions()"
   ]
  },
  {
   "cell_type": "code",
   "execution_count": null,
   "id": "0d846648-5f10-4a9b-a05b-bd0f95adfe58",
   "metadata": {
    "tags": []
   },
   "outputs": [],
   "source": [
    "backtest_result.v.plot()"
   ]
  },
  {
   "cell_type": "code",
   "execution_count": null,
   "id": "5774a8d1-6078-4c08-bcbe-f2adae803397",
   "metadata": {
    "tags": []
   },
   "outputs": [],
   "source": [
    "backtest_result.summary"
   ]
  },
  {
   "cell_type": "code",
   "execution_count": null,
   "id": "e93dae3f-7d95-4402-93d8-d17d19abc1fd",
   "metadata": {
    "tags": []
   },
   "outputs": [],
   "source": [
    "backtest_result.hit_rate().plot()"
   ]
  },
  {
   "cell_type": "code",
   "execution_count": null,
   "id": "0540e54b-3dbb-46c4-ae01-f8191696dfc5",
   "metadata": {},
   "outputs": [],
   "source": [
    "backtest_result.leverage.plot()"
   ]
  },
  {
   "cell_type": "code",
   "execution_count": null,
   "id": "c3156bdb-a216-4dcb-9f2a-113808a7fe9e",
   "metadata": {
    "tags": []
   },
   "outputs": [],
   "source": [
    "backtest_result.long_leverage.plot()"
   ]
  },
  {
   "cell_type": "code",
   "execution_count": null,
   "id": "1f9d12f0-b1e4-451a-9ed5-de5c771af884",
   "metadata": {
    "tags": []
   },
   "outputs": [],
   "source": [
    "backtest_result.short_leverage.plot()"
   ]
  },
  {
   "cell_type": "code",
   "execution_count": null,
   "id": "08838f5d-4d1d-44c1-917a-d4634c84a912",
   "metadata": {},
   "outputs": [],
   "source": []
  }
 ],
 "metadata": {
  "kernelspec": {
   "display_name": "Python 3 (ipykernel)",
   "language": "python",
   "name": "python3"
  },
  "language_info": {
   "codemirror_mode": {
    "name": "ipython",
    "version": 3
   },
   "file_extension": ".py",
   "mimetype": "text/x-python",
   "name": "python",
   "nbconvert_exporter": "python",
   "pygments_lexer": "ipython3",
   "version": "3.8.18"
  }
 },
 "nbformat": 4,
 "nbformat_minor": 5
}
