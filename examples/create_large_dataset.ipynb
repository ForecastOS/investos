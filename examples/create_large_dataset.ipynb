{
 "cells": [
  {
   "cell_type": "markdown",
   "id": "d97e2d2b-8dc8-40a0-af05-e2c24141cd5c",
   "metadata": {},
   "source": [
    "# Create Synthetic 10,000 Asset Dataset"
   ]
  },
  {
   "cell_type": "markdown",
   "id": "380449b3-d24a-4d9d-81be-4f4bea252489",
   "metadata": {},
   "source": [
    "#### 1.1 Create 10,000 fake tickers"
   ]
  },
  {
   "cell_type": "code",
   "execution_count": 1,
   "id": "5b7104b3-7d34-44f3-bfa8-40f786cb8b13",
   "metadata": {
    "execution": {
     "iopub.execute_input": "2023-06-06T00:59:34.031013Z",
     "iopub.status.busy": "2023-06-06T00:59:34.030437Z",
     "iopub.status.idle": "2023-06-06T00:59:34.101383Z",
     "shell.execute_reply": "2023-06-06T00:59:34.100795Z",
     "shell.execute_reply.started": "2023-06-06T00:59:34.030897Z"
    },
    "tags": []
   },
   "outputs": [],
   "source": [
    "import random\n",
    "import string\n",
    "import itertools\n",
    "\n",
    "n_stocks = 10_000\n",
    "\n",
    "# Create a list of all 4-letter strings\n",
    "all_strings = [\"\".join(x) for x in itertools.product(string.ascii_uppercase, repeat=4)]\n",
    "\n",
    "# Randomly select unique 4-letter strings\n",
    "tickers = random.sample(all_strings, n_stocks)"
   ]
  },
  {
   "cell_type": "markdown",
   "id": "1d02da32-4d0e-42d0-b6ce-da079292db52",
   "metadata": {
    "tags": []
   },
   "source": [
    "#### 1.2 Create trading days"
   ]
  },
  {
   "cell_type": "code",
   "execution_count": 2,
   "id": "75069ef5-c0fd-4c0e-b102-19aacc83cd77",
   "metadata": {
    "execution": {
     "iopub.execute_input": "2023-06-06T00:59:34.102252Z",
     "iopub.status.busy": "2023-06-06T00:59:34.102152Z",
     "iopub.status.idle": "2023-06-06T00:59:34.496241Z",
     "shell.execute_reply": "2023-06-06T00:59:34.495781Z",
     "shell.execute_reply.started": "2023-06-06T00:59:34.102240Z"
    },
    "tags": []
   },
   "outputs": [],
   "source": [
    "# [ ] Create trading days\n",
    "import pandas as pd\n",
    "import pandas_market_calendars as mcal\n",
    "import datetime\n",
    "\n",
    "# Create a calendar\n",
    "nyse = mcal.get_calendar(\"NYSE\")\n",
    "trading_dates = [\n",
    "    d.date() for d in nyse.valid_days(start_date=\"2012-01-01\", end_date=\"2022-12-31\")\n",
    "]"
   ]
  },
  {
   "cell_type": "markdown",
   "id": "66b0cbc3-7346-4917-ba2b-a39a9ea309fe",
   "metadata": {},
   "source": [
    "#### 1.3 Create market data"
   ]
  },
  {
   "cell_type": "code",
   "execution_count": 3,
   "id": "f09e6101-0287-40b7-8658-37bf6b00d5bf",
   "metadata": {
    "execution": {
     "iopub.execute_input": "2023-06-06T00:59:34.496869Z",
     "iopub.status.busy": "2023-06-06T00:59:34.496785Z",
     "iopub.status.idle": "2023-06-06T00:59:35.469257Z",
     "shell.execute_reply": "2023-06-06T00:59:35.468954Z",
     "shell.execute_reply.started": "2023-06-06T00:59:34.496859Z"
    },
    "tags": []
   },
   "outputs": [],
   "source": [
    "import numpy as np\n",
    "\n",
    "return_annualized = 0.08  # Will be slightly less due to greater geometric difference of negative returns\n",
    "return_per_period = (1 + return_annualized) ** (1 / 252) - 1\n",
    "return_std_dev = 0.015\n",
    "\n",
    "returns = np.random.normal(\n",
    "    return_per_period, return_std_dev, size=(len(trading_dates) * n_stocks)\n",
    ")\n",
    "\n",
    "min_volume = 100_000\n",
    "max_volume = 1_000_000\n",
    "volumes = np.random.randint(\n",
    "    min_volume, max_volume, size=(len(trading_dates) * n_stocks)\n",
    ")\n",
    "\n",
    "min_spread = 1 / 20_000\n",
    "max_spread = 1 / 4_000\n",
    "spreads = np.around(\n",
    "    np.random.uniform(min_spread, max_spread, size=(len(trading_dates) * n_stocks)),\n",
    "    decimals=7,\n",
    ")"
   ]
  },
  {
   "cell_type": "markdown",
   "id": "9cdf7d7b-cef9-44e0-82b6-0c1ed39fd09b",
   "metadata": {},
   "source": [
    "#### 1.4 Create dataframe"
   ]
  },
  {
   "cell_type": "code",
   "execution_count": 4,
   "id": "f3597fe4-1e1a-48ce-b52a-08abf6a66729",
   "metadata": {
    "execution": {
     "iopub.execute_input": "2023-06-06T00:59:35.470615Z",
     "iopub.status.busy": "2023-06-06T00:59:35.470480Z",
     "iopub.status.idle": "2023-06-06T01:00:04.047912Z",
     "shell.execute_reply": "2023-06-06T01:00:04.047569Z",
     "shell.execute_reply.started": "2023-06-06T00:59:35.470601Z"
    },
    "tags": []
   },
   "outputs": [],
   "source": [
    "df = pd.DataFrame(\n",
    "    {\n",
    "        \"asset\": np.array([[sym] * len(trading_dates) for sym in tickers]).flatten(),\n",
    "        \"date\": trading_dates * len(tickers),\n",
    "        \"return\": returns,\n",
    "        \"volume\": volumes,\n",
    "        \"spread\": spreads,\n",
    "    }\n",
    ")"
   ]
  },
  {
   "cell_type": "code",
   "execution_count": 5,
   "id": "4cd44ce6-4ab0-4d6d-ad61-c79db4e7cbcd",
   "metadata": {
    "execution": {
     "iopub.execute_input": "2023-06-06T01:00:04.048458Z",
     "iopub.status.busy": "2023-06-06T01:00:04.048379Z",
     "iopub.status.idle": "2023-06-06T01:00:07.147435Z",
     "shell.execute_reply": "2023-06-06T01:00:07.147089Z",
     "shell.execute_reply.started": "2023-06-06T01:00:04.048448Z"
    },
    "tags": []
   },
   "outputs": [],
   "source": [
    "# And price specifically\n",
    "df[\"return_lag\"] = df.groupby([\"asset\"])[\"return\"].shift(1)\n",
    "df[\"return_lag\"] = df[\"return_lag\"].fillna(0)\n",
    "df[\"return_factor\"] = df[\"return_lag\"] + 1\n",
    "df[\"cum_return_factor\"] = df.groupby([\"asset\"])[\"return_factor\"].cumprod()\n",
    "df[\"price\"] = 100 * df[\"cum_return_factor\"]\n",
    "\n",
    "df = df[[\"asset\", \"date\", \"price\", \"return\", \"volume\", \"spread\"]]"
   ]
  },
  {
   "cell_type": "markdown",
   "id": "d23e5a6e-7cff-42ba-a9f4-699ef841cf77",
   "metadata": {},
   "source": [
    "#### 1.5 Write out dataframe to data dir (as 2.5k, 5k, 7.5k, and 10k assets)"
   ]
  },
  {
   "cell_type": "code",
   "execution_count": 6,
   "id": "ce3c7af2-6cc9-4ffa-ae8c-df2a0b29e681",
   "metadata": {
    "execution": {
     "iopub.execute_input": "2023-06-06T01:00:07.148062Z",
     "iopub.status.busy": "2023-06-06T01:00:07.147977Z",
     "iopub.status.idle": "2023-06-06T01:00:11.142517Z",
     "shell.execute_reply": "2023-06-06T01:00:11.142182Z",
     "shell.execute_reply.started": "2023-06-06T01:00:07.148052Z"
    },
    "tags": []
   },
   "outputs": [],
   "source": [
    "# 10k assets\n",
    "dir_name = \"./data/\"\n",
    "df.to_parquet(dir_name + \"10k_synthetic.parquet\")"
   ]
  },
  {
   "cell_type": "code",
   "execution_count": 7,
   "id": "6bf7c8bf-ce48-4bfb-8913-ffa9ed933fd5",
   "metadata": {
    "execution": {
     "iopub.execute_input": "2023-06-06T01:00:11.143147Z",
     "iopub.status.busy": "2023-06-06T01:00:11.143067Z",
     "iopub.status.idle": "2023-06-06T01:00:13.939193Z",
     "shell.execute_reply": "2023-06-06T01:00:13.938846Z",
     "shell.execute_reply.started": "2023-06-06T01:00:11.143136Z"
    },
    "tags": []
   },
   "outputs": [],
   "source": [
    "# 7.5k assets\n",
    "p = 0.75\n",
    "\n",
    "rows_to_keep = int(len(df) * p)\n",
    "df_75p = df.iloc[:rows_to_keep]\n",
    "\n",
    "df_75p.to_parquet(dir_name + \"7_5k_synthetic.parquet\")"
   ]
  },
  {
   "cell_type": "code",
   "execution_count": 8,
   "id": "3d782459-5a74-4094-bf90-0260c4d38940",
   "metadata": {
    "execution": {
     "iopub.execute_input": "2023-06-06T01:00:13.939840Z",
     "iopub.status.busy": "2023-06-06T01:00:13.939764Z",
     "iopub.status.idle": "2023-06-06T01:00:15.800479Z",
     "shell.execute_reply": "2023-06-06T01:00:15.800183Z",
     "shell.execute_reply.started": "2023-06-06T01:00:13.939829Z"
    }
   },
   "outputs": [],
   "source": [
    "# 5k assets\n",
    "p = 0.5\n",
    "\n",
    "rows_to_keep = int(len(df) * p)\n",
    "df_50p = df.iloc[:rows_to_keep]\n",
    "\n",
    "df_50p.to_parquet(dir_name + \"5k_synthetic.parquet\")"
   ]
  },
  {
   "cell_type": "code",
   "execution_count": 9,
   "id": "d9796f95-a20c-4a94-8e7d-d20b5ad65e62",
   "metadata": {
    "execution": {
     "iopub.execute_input": "2023-06-06T01:00:15.801033Z",
     "iopub.status.busy": "2023-06-06T01:00:15.800955Z",
     "iopub.status.idle": "2023-06-06T01:00:16.829087Z",
     "shell.execute_reply": "2023-06-06T01:00:16.828795Z",
     "shell.execute_reply.started": "2023-06-06T01:00:15.801022Z"
    }
   },
   "outputs": [],
   "source": [
    "# 2.5k assets\n",
    "p = 0.25\n",
    "\n",
    "rows_to_keep = int(len(df) * p)\n",
    "df_25p = df.iloc[:rows_to_keep]\n",
    "\n",
    "df_25p.to_parquet(dir_name + \"2_5k_synthetic.parquet\")"
   ]
  },
  {
   "cell_type": "code",
   "execution_count": 10,
   "id": "ee61756a-9003-47b7-9947-892e0f6d081a",
   "metadata": {
    "execution": {
     "iopub.execute_input": "2023-06-06T01:00:16.829615Z",
     "iopub.status.busy": "2023-06-06T01:00:16.829537Z",
     "iopub.status.idle": "2023-06-06T01:00:16.840727Z",
     "shell.execute_reply": "2023-06-06T01:00:16.840408Z",
     "shell.execute_reply.started": "2023-06-06T01:00:16.829604Z"
    }
   },
   "outputs": [
    {
     "data": {
      "text/html": [
       "<div>\n",
       "<style scoped>\n",
       "    .dataframe tbody tr th:only-of-type {\n",
       "        vertical-align: middle;\n",
       "    }\n",
       "\n",
       "    .dataframe tbody tr th {\n",
       "        vertical-align: top;\n",
       "    }\n",
       "\n",
       "    .dataframe thead th {\n",
       "        text-align: right;\n",
       "    }\n",
       "</style>\n",
       "<table border=\"1\" class=\"dataframe\">\n",
       "  <thead>\n",
       "    <tr style=\"text-align: right;\">\n",
       "      <th></th>\n",
       "      <th>asset</th>\n",
       "      <th>date</th>\n",
       "      <th>price</th>\n",
       "      <th>return</th>\n",
       "      <th>volume</th>\n",
       "      <th>spread</th>\n",
       "    </tr>\n",
       "  </thead>\n",
       "  <tbody>\n",
       "    <tr>\n",
       "      <th>0</th>\n",
       "      <td>VDEM</td>\n",
       "      <td>2012-01-03</td>\n",
       "      <td>100.000000</td>\n",
       "      <td>0.000976</td>\n",
       "      <td>772050</td>\n",
       "      <td>0.000100</td>\n",
       "    </tr>\n",
       "    <tr>\n",
       "      <th>1</th>\n",
       "      <td>VDEM</td>\n",
       "      <td>2012-01-04</td>\n",
       "      <td>100.097589</td>\n",
       "      <td>-0.000350</td>\n",
       "      <td>633783</td>\n",
       "      <td>0.000238</td>\n",
       "    </tr>\n",
       "    <tr>\n",
       "      <th>2</th>\n",
       "      <td>VDEM</td>\n",
       "      <td>2012-01-05</td>\n",
       "      <td>100.062578</td>\n",
       "      <td>0.015726</td>\n",
       "      <td>849575</td>\n",
       "      <td>0.000205</td>\n",
       "    </tr>\n",
       "    <tr>\n",
       "      <th>3</th>\n",
       "      <td>VDEM</td>\n",
       "      <td>2012-01-06</td>\n",
       "      <td>101.636174</td>\n",
       "      <td>-0.001795</td>\n",
       "      <td>774688</td>\n",
       "      <td>0.000167</td>\n",
       "    </tr>\n",
       "    <tr>\n",
       "      <th>4</th>\n",
       "      <td>VDEM</td>\n",
       "      <td>2012-01-09</td>\n",
       "      <td>101.453781</td>\n",
       "      <td>0.009333</td>\n",
       "      <td>777982</td>\n",
       "      <td>0.000141</td>\n",
       "    </tr>\n",
       "    <tr>\n",
       "      <th>...</th>\n",
       "      <td>...</td>\n",
       "      <td>...</td>\n",
       "      <td>...</td>\n",
       "      <td>...</td>\n",
       "      <td>...</td>\n",
       "      <td>...</td>\n",
       "    </tr>\n",
       "    <tr>\n",
       "      <th>27679995</th>\n",
       "      <td>BUUP</td>\n",
       "      <td>2022-12-23</td>\n",
       "      <td>69.189483</td>\n",
       "      <td>0.005904</td>\n",
       "      <td>560596</td>\n",
       "      <td>0.000133</td>\n",
       "    </tr>\n",
       "    <tr>\n",
       "      <th>27679996</th>\n",
       "      <td>BUUP</td>\n",
       "      <td>2022-12-27</td>\n",
       "      <td>69.597946</td>\n",
       "      <td>-0.005376</td>\n",
       "      <td>770558</td>\n",
       "      <td>0.000100</td>\n",
       "    </tr>\n",
       "    <tr>\n",
       "      <th>27679997</th>\n",
       "      <td>BUUP</td>\n",
       "      <td>2022-12-28</td>\n",
       "      <td>69.223815</td>\n",
       "      <td>-0.011491</td>\n",
       "      <td>106948</td>\n",
       "      <td>0.000227</td>\n",
       "    </tr>\n",
       "    <tr>\n",
       "      <th>27679998</th>\n",
       "      <td>BUUP</td>\n",
       "      <td>2022-12-29</td>\n",
       "      <td>68.428397</td>\n",
       "      <td>0.037141</td>\n",
       "      <td>162551</td>\n",
       "      <td>0.000191</td>\n",
       "    </tr>\n",
       "    <tr>\n",
       "      <th>27679999</th>\n",
       "      <td>BUUP</td>\n",
       "      <td>2022-12-30</td>\n",
       "      <td>70.969902</td>\n",
       "      <td>-0.030872</td>\n",
       "      <td>324929</td>\n",
       "      <td>0.000131</td>\n",
       "    </tr>\n",
       "  </tbody>\n",
       "</table>\n",
       "<p>27680000 rows × 6 columns</p>\n",
       "</div>"
      ],
      "text/plain": [
       "         asset        date       price    return  volume    spread\n",
       "0         VDEM  2012-01-03  100.000000  0.000976  772050  0.000100\n",
       "1         VDEM  2012-01-04  100.097589 -0.000350  633783  0.000238\n",
       "2         VDEM  2012-01-05  100.062578  0.015726  849575  0.000205\n",
       "3         VDEM  2012-01-06  101.636174 -0.001795  774688  0.000167\n",
       "4         VDEM  2012-01-09  101.453781  0.009333  777982  0.000141\n",
       "...        ...         ...         ...       ...     ...       ...\n",
       "27679995  BUUP  2022-12-23   69.189483  0.005904  560596  0.000133\n",
       "27679996  BUUP  2022-12-27   69.597946 -0.005376  770558  0.000100\n",
       "27679997  BUUP  2022-12-28   69.223815 -0.011491  106948  0.000227\n",
       "27679998  BUUP  2022-12-29   68.428397  0.037141  162551  0.000191\n",
       "27679999  BUUP  2022-12-30   70.969902 -0.030872  324929  0.000131\n",
       "\n",
       "[27680000 rows x 6 columns]"
      ]
     },
     "execution_count": 10,
     "metadata": {},
     "output_type": "execute_result"
    }
   ],
   "source": [
    "df"
   ]
  },
  {
   "cell_type": "code",
   "execution_count": 11,
   "id": "e0424347-2c65-4b9c-a7a8-511243d3b1f8",
   "metadata": {
    "execution": {
     "iopub.execute_input": "2023-06-06T01:00:16.841510Z",
     "iopub.status.busy": "2023-06-06T01:00:16.841338Z",
     "iopub.status.idle": "2023-06-06T01:00:16.848562Z",
     "shell.execute_reply": "2023-06-06T01:00:16.848160Z",
     "shell.execute_reply.started": "2023-06-06T01:00:16.841487Z"
    },
    "tags": []
   },
   "outputs": [
    {
     "data": {
      "text/html": [
       "<div>\n",
       "<style scoped>\n",
       "    .dataframe tbody tr th:only-of-type {\n",
       "        vertical-align: middle;\n",
       "    }\n",
       "\n",
       "    .dataframe tbody tr th {\n",
       "        vertical-align: top;\n",
       "    }\n",
       "\n",
       "    .dataframe thead th {\n",
       "        text-align: right;\n",
       "    }\n",
       "</style>\n",
       "<table border=\"1\" class=\"dataframe\">\n",
       "  <thead>\n",
       "    <tr style=\"text-align: right;\">\n",
       "      <th></th>\n",
       "      <th>asset</th>\n",
       "      <th>date</th>\n",
       "      <th>price</th>\n",
       "      <th>return</th>\n",
       "      <th>volume</th>\n",
       "      <th>spread</th>\n",
       "    </tr>\n",
       "  </thead>\n",
       "  <tbody>\n",
       "    <tr>\n",
       "      <th>0</th>\n",
       "      <td>VDEM</td>\n",
       "      <td>2012-01-03</td>\n",
       "      <td>100.000000</td>\n",
       "      <td>0.000976</td>\n",
       "      <td>772050</td>\n",
       "      <td>0.000100</td>\n",
       "    </tr>\n",
       "    <tr>\n",
       "      <th>1</th>\n",
       "      <td>VDEM</td>\n",
       "      <td>2012-01-04</td>\n",
       "      <td>100.097589</td>\n",
       "      <td>-0.000350</td>\n",
       "      <td>633783</td>\n",
       "      <td>0.000238</td>\n",
       "    </tr>\n",
       "    <tr>\n",
       "      <th>2</th>\n",
       "      <td>VDEM</td>\n",
       "      <td>2012-01-05</td>\n",
       "      <td>100.062578</td>\n",
       "      <td>0.015726</td>\n",
       "      <td>849575</td>\n",
       "      <td>0.000205</td>\n",
       "    </tr>\n",
       "    <tr>\n",
       "      <th>3</th>\n",
       "      <td>VDEM</td>\n",
       "      <td>2012-01-06</td>\n",
       "      <td>101.636174</td>\n",
       "      <td>-0.001795</td>\n",
       "      <td>774688</td>\n",
       "      <td>0.000167</td>\n",
       "    </tr>\n",
       "    <tr>\n",
       "      <th>4</th>\n",
       "      <td>VDEM</td>\n",
       "      <td>2012-01-09</td>\n",
       "      <td>101.453781</td>\n",
       "      <td>0.009333</td>\n",
       "      <td>777982</td>\n",
       "      <td>0.000141</td>\n",
       "    </tr>\n",
       "    <tr>\n",
       "      <th>...</th>\n",
       "      <td>...</td>\n",
       "      <td>...</td>\n",
       "      <td>...</td>\n",
       "      <td>...</td>\n",
       "      <td>...</td>\n",
       "      <td>...</td>\n",
       "    </tr>\n",
       "    <tr>\n",
       "      <th>6919995</th>\n",
       "      <td>SMTQ</td>\n",
       "      <td>2022-12-23</td>\n",
       "      <td>89.465507</td>\n",
       "      <td>0.012943</td>\n",
       "      <td>549176</td>\n",
       "      <td>0.000057</td>\n",
       "    </tr>\n",
       "    <tr>\n",
       "      <th>6919996</th>\n",
       "      <td>SMTQ</td>\n",
       "      <td>2022-12-27</td>\n",
       "      <td>90.623472</td>\n",
       "      <td>0.010199</td>\n",
       "      <td>748745</td>\n",
       "      <td>0.000137</td>\n",
       "    </tr>\n",
       "    <tr>\n",
       "      <th>6919997</th>\n",
       "      <td>SMTQ</td>\n",
       "      <td>2022-12-28</td>\n",
       "      <td>91.547709</td>\n",
       "      <td>0.011040</td>\n",
       "      <td>466528</td>\n",
       "      <td>0.000060</td>\n",
       "    </tr>\n",
       "    <tr>\n",
       "      <th>6919998</th>\n",
       "      <td>SMTQ</td>\n",
       "      <td>2022-12-29</td>\n",
       "      <td>92.558401</td>\n",
       "      <td>-0.007328</td>\n",
       "      <td>923612</td>\n",
       "      <td>0.000146</td>\n",
       "    </tr>\n",
       "    <tr>\n",
       "      <th>6919999</th>\n",
       "      <td>SMTQ</td>\n",
       "      <td>2022-12-30</td>\n",
       "      <td>91.880144</td>\n",
       "      <td>-0.014102</td>\n",
       "      <td>442005</td>\n",
       "      <td>0.000088</td>\n",
       "    </tr>\n",
       "  </tbody>\n",
       "</table>\n",
       "<p>6920000 rows × 6 columns</p>\n",
       "</div>"
      ],
      "text/plain": [
       "        asset        date       price    return  volume    spread\n",
       "0        VDEM  2012-01-03  100.000000  0.000976  772050  0.000100\n",
       "1        VDEM  2012-01-04  100.097589 -0.000350  633783  0.000238\n",
       "2        VDEM  2012-01-05  100.062578  0.015726  849575  0.000205\n",
       "3        VDEM  2012-01-06  101.636174 -0.001795  774688  0.000167\n",
       "4        VDEM  2012-01-09  101.453781  0.009333  777982  0.000141\n",
       "...       ...         ...         ...       ...     ...       ...\n",
       "6919995  SMTQ  2022-12-23   89.465507  0.012943  549176  0.000057\n",
       "6919996  SMTQ  2022-12-27   90.623472  0.010199  748745  0.000137\n",
       "6919997  SMTQ  2022-12-28   91.547709  0.011040  466528  0.000060\n",
       "6919998  SMTQ  2022-12-29   92.558401 -0.007328  923612  0.000146\n",
       "6919999  SMTQ  2022-12-30   91.880144 -0.014102  442005  0.000088\n",
       "\n",
       "[6920000 rows x 6 columns]"
      ]
     },
     "execution_count": 11,
     "metadata": {},
     "output_type": "execute_result"
    }
   ],
   "source": [
    "df_25p"
   ]
  }
 ],
 "metadata": {
  "kernelspec": {
   "display_name": "Python 3 (ipykernel)",
   "language": "python",
   "name": "python3"
  },
  "language_info": {
   "codemirror_mode": {
    "name": "ipython",
    "version": 3
   },
   "file_extension": ".py",
   "mimetype": "text/x-python",
   "name": "python",
   "nbconvert_exporter": "python",
   "pygments_lexer": "ipython3",
   "version": "3.9.13"
  }
 },
 "nbformat": 4,
 "nbformat_minor": 5
}
