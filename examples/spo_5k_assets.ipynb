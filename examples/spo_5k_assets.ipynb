{
 "cells": [
  {
   "cell_type": "markdown",
   "id": "d97e2d2b-8dc8-40a0-af05-e2c24141cd5c",
   "metadata": {},
   "source": [
    "# 2.5k Asset Backtest Example - SPO"
   ]
  },
  {
   "cell_type": "markdown",
   "id": "abeaeead-9e67-4f5b-b093-63e2682ae766",
   "metadata": {},
   "source": [
    "## 1. Setup"
   ]
  },
  {
   "cell_type": "markdown",
   "id": "b755c267-921f-4a7c-9e06-36cc6e21fd66",
   "metadata": {
    "execution": {
     "iopub.execute_input": "2023-04-04T00:53:04.140680Z",
     "iopub.status.busy": "2023-04-04T00:53:04.139992Z",
     "iopub.status.idle": "2023-04-04T00:53:04.147601Z",
     "shell.execute_reply": "2023-04-04T00:53:04.146761Z",
     "shell.execute_reply.started": "2023-04-04T00:53:04.140628Z"
    }
   },
   "source": [
    "#### 1.1 Load InvestOS module"
   ]
  },
  {
   "cell_type": "code",
   "execution_count": 1,
   "id": "1bebdccf-dc6a-4007-848f-82ab2147192f",
   "metadata": {
    "execution": {
     "iopub.execute_input": "2023-06-23T00:00:12.522547Z",
     "iopub.status.busy": "2023-06-23T00:00:12.521748Z",
     "iopub.status.idle": "2023-06-23T00:00:12.810977Z",
     "shell.execute_reply": "2023-06-23T00:00:12.810682Z",
     "shell.execute_reply.started": "2023-06-23T00:00:12.522451Z"
    },
    "tags": []
   },
   "outputs": [],
   "source": [
    "# Add relative path to module lookup path...\n",
    "import os\n",
    "import sys\n",
    "sys.path.insert(0, os.path.abspath('..'))\n",
    "\n",
    "# ... then import module\n",
    "import investos as inv\n",
    "\n",
    "# Import other required modules\n",
    "import pandas as pd\n",
    "pd.options.mode.chained_assignment = None  # default='warn'\n",
    "pd.options.plotting.backend = \"plotly\"\n",
    "import numpy as np"
   ]
  },
  {
   "cell_type": "markdown",
   "id": "bbab7ef5-59d7-4e9a-b2a3-fd026a9f0f29",
   "metadata": {},
   "source": [
    "#### 1.2 Load historical stock prices and volumes"
   ]
  },
  {
   "cell_type": "markdown",
   "id": "2b66d7e2-bf1c-4b44-b943-20ba8b60eba9",
   "metadata": {},
   "source": [
    "Place in examples/data directory [data from Kaggle](https://www.kaggle.com/datasets/camnugent/sandp500/download?datasetVersionNumber=4)\n",
    "\n",
    "Note: you will need to create (and sign into) a free Kaggle account"
   ]
  },
  {
   "cell_type": "code",
   "execution_count": 2,
   "id": "beb942da-0c08-4b24-b118-a1cc6c1f0e9c",
   "metadata": {
    "execution": {
     "iopub.execute_input": "2023-06-23T00:00:12.811447Z",
     "iopub.status.busy": "2023-06-23T00:00:12.811385Z",
     "iopub.status.idle": "2023-06-23T00:00:13.409394Z",
     "shell.execute_reply": "2023-06-23T00:00:13.408981Z",
     "shell.execute_reply.started": "2023-06-23T00:00:12.811438Z"
    },
    "tags": []
   },
   "outputs": [],
   "source": [
    "# A. Load S&P 500 tickers, names, and industries\n",
    "dir_name = './data/'\n",
    "\n",
    "df = pd.read_parquet(\n",
    "    dir_name + '5k_synthetic.parquet'\n",
    ")"
   ]
  },
  {
   "cell_type": "markdown",
   "id": "e4be3e90-e195-417e-86de-58f5cd935cd0",
   "metadata": {},
   "source": [
    "#### 1.3 Split dfs into historical and forecast"
   ]
  },
  {
   "cell_type": "code",
   "execution_count": 3,
   "id": "a29c4d5c-c305-42e7-8725-f0b3d80ce0f5",
   "metadata": {
    "execution": {
     "iopub.execute_input": "2023-06-23T00:00:13.410116Z",
     "iopub.status.busy": "2023-06-23T00:00:13.410037Z",
     "iopub.status.idle": "2023-06-23T00:00:13.857131Z",
     "shell.execute_reply": "2023-06-23T00:00:13.856687Z",
     "shell.execute_reply.started": "2023-06-23T00:00:13.410106Z"
    },
    "tags": []
   },
   "outputs": [],
   "source": [
    "import datetime\n",
    "\n",
    "date_split_forecasts = datetime.date(2022, 1, 1)\n",
    "\n",
    "df_forecast = df[df.date >= date_split_forecasts][['asset', 'date', 'return']]\n",
    "df_actual = df"
   ]
  },
  {
   "cell_type": "markdown",
   "id": "13f44c8a-31af-48ed-a637-dc89d6dafe9b",
   "metadata": {},
   "source": [
    "#### 1.4 Create (fake) forecasts"
   ]
  },
  {
   "cell_type": "code",
   "execution_count": 4,
   "id": "a58d829d-72ee-4cdc-9d34-fdb23be33579",
   "metadata": {
    "execution": {
     "iopub.execute_input": "2023-06-23T00:00:13.858764Z",
     "iopub.status.busy": "2023-06-23T00:00:13.858656Z",
     "iopub.status.idle": "2023-06-23T00:00:14.269274Z",
     "shell.execute_reply": "2023-06-23T00:00:14.268808Z",
     "shell.execute_reply.started": "2023-06-23T00:00:13.858753Z"
    },
    "tags": []
   },
   "outputs": [
    {
     "name": "stdout",
     "output_type": "stream",
     "text": [
      "Median return: 0.00025906686439636803\n"
     ]
    }
   ],
   "source": [
    "np.random.seed(0)\n",
    "\n",
    "# Median (daily) return is VERY close to 0:\n",
    "print(\"Median return:\", df_forecast['return'].median())\n",
    "\n",
    "# Cap returns at +- 10%...\n",
    "df_forecast['return'] = df_forecast['return'].clip(-0.1, 0.1)\n",
    "\n",
    "# ... then reduce signal...\n",
    "df_forecast['return'] /= 10\n",
    "\n",
    "# ... then add guassian noise to daily returns\n",
    "std = df_actual[df_actual.date >= date_split_forecasts]['return'].var() ** 0.5\n",
    "noise = np.random.normal(0, std, size=df_forecast.shape[0])\n",
    "\n",
    "df_forecast['return'] = df_forecast['return'] + noise"
   ]
  },
  {
   "cell_type": "code",
   "execution_count": 5,
   "id": "881fc104-83a2-4fab-ad04-7149e0a5afaa",
   "metadata": {
    "execution": {
     "iopub.execute_input": "2023-06-23T00:00:14.269986Z",
     "iopub.status.busy": "2023-06-23T00:00:14.269890Z",
     "iopub.status.idle": "2023-06-23T00:00:14.643994Z",
     "shell.execute_reply": "2023-06-23T00:00:14.643660Z",
     "shell.execute_reply.started": "2023-06-23T00:00:14.269976Z"
    },
    "tags": []
   },
   "outputs": [
    {
     "name": "stdout",
     "output_type": "stream",
     "text": [
      "Return predictions have the right sign 53.1% of the time\n"
     ]
    }
   ],
   "source": [
    "# Make sure predictions aren't too accurate:\n",
    "\n",
    "agree_on_sign = np.sign(df_forecast['return']) == np.sign(\n",
    "    df_actual[df_actual.date >= date_split_forecasts]['return']\n",
    ")\n",
    "\n",
    "print(\n",
    "    \"Return predictions have the right sign %.1f%% of the time\" %\n",
    "    ((agree_on_sign.sum() / agree_on_sign.shape[0]) * 100)\n",
    ")"
   ]
  },
  {
   "cell_type": "markdown",
   "id": "d026a06a-bc7e-44d2-8c38-d543ba262464",
   "metadata": {},
   "source": [
    "## 2. Portfolio optimization"
   ]
  },
  {
   "cell_type": "markdown",
   "id": "cc7758a2-6755-4612-a85a-ad1e1bd38dc0",
   "metadata": {},
   "source": [
    "#### 2.1 Create portfolio optimization instance"
   ]
  },
  {
   "cell_type": "code",
   "execution_count": 6,
   "id": "374f227a-45e5-4568-bbf8-a49fc34cdd45",
   "metadata": {
    "execution": {
     "iopub.execute_input": "2023-06-23T00:00:14.644609Z",
     "iopub.status.busy": "2023-06-23T00:00:14.644530Z",
     "iopub.status.idle": "2023-06-23T00:00:14.647202Z",
     "shell.execute_reply": "2023-06-23T00:00:14.646806Z",
     "shell.execute_reply.started": "2023-06-23T00:00:14.644599Z"
    },
    "tags": []
   },
   "outputs": [],
   "source": [
    "from investos.portfolio.cost_model import *\n",
    "from investos.portfolio.constraint_model import *\n",
    "from investos.portfolio.risk_model import *"
   ]
  },
  {
   "cell_type": "code",
   "execution_count": 7,
   "id": "7285b37b-b49b-4ff6-8716-d21d74af7a66",
   "metadata": {
    "execution": {
     "iopub.execute_input": "2023-06-23T00:00:14.648079Z",
     "iopub.status.busy": "2023-06-23T00:00:14.647888Z",
     "iopub.status.idle": "2023-06-23T00:00:36.218928Z",
     "shell.execute_reply": "2023-06-23T00:00:36.218606Z",
     "shell.execute_reply.started": "2023-06-23T00:00:14.648068Z"
    },
    "tags": []
   },
   "outputs": [],
   "source": [
    "strategy = inv.portfolio.strategy.SPO(risk_model = None)\n",
    "\n",
    "portfolio = inv.portfolio.Controller(\n",
    "    df_forecast,\n",
    "    df_actual,\n",
    "    strategy=strategy,\n",
    "    after_step=[\n",
    "        lambda backtest, t, u, h_next: print(\"Optimizing for month\", f\"{t.year}-{t.month}\") if t.day == 1 else None,\n",
    "        lambda backtest, t, u, h_next: print(t),\n",
    "\n",
    "    ]\n",
    ")"
   ]
  },
  {
   "cell_type": "code",
   "execution_count": 8,
   "id": "d6db128d-c3e4-4264-a96c-8c756762b149",
   "metadata": {
    "execution": {
     "iopub.execute_input": "2023-06-23T00:00:36.219621Z",
     "iopub.status.busy": "2023-06-23T00:00:36.219534Z",
     "iopub.status.idle": "2023-06-23T00:01:16.671016Z",
     "shell.execute_reply": "2023-06-23T00:01:16.670317Z",
     "shell.execute_reply.started": "2023-06-23T00:00:36.219613Z"
    },
    "tags": []
   },
   "outputs": [
    {
     "name": "stdout",
     "output_type": "stream",
     "text": [
      "Optimizing...\n"
     ]
    },
    {
     "name": "stderr",
     "output_type": "stream",
     "text": [
      "/opt/homebrew/lib/python3.9/site-packages/cvxpy/problems/problem.py:161: UserWarning: Constraint #3 contains too many subexpressions. Consider vectorizing your CVXPY code to speed up compilation.\n",
      "  warnings.warn(f\"Constraint #{i} contains too many subexpressions. \"\n",
      "/opt/homebrew/lib/python3.9/site-packages/cvxpy/problems/problem.py:161: UserWarning: Constraint #11 contains too many subexpressions. Consider vectorizing your CVXPY code to speed up compilation.\n",
      "  warnings.warn(f\"Constraint #{i} contains too many subexpressions. \"\n"
     ]
    },
    {
     "name": "stdout",
     "output_type": "stream",
     "text": [
      "2022-01-03\n",
      "2022-01-04\n",
      "2022-01-05\n",
      "Solver interrupted\n"
     ]
    },
    {
     "ename": "ValueError",
     "evalue": "OSQP solve error!",
     "output_type": "error",
     "traceback": [
      "\u001b[0;31m---------------------------------------------------------------------------\u001b[0m",
      "\u001b[0;31mValueError\u001b[0m                                Traceback (most recent call last)",
      "Input \u001b[0;32mIn [8]\u001b[0m, in \u001b[0;36m<module>\u001b[0;34m\u001b[0m\n\u001b[1;32m      1\u001b[0m \u001b[38;5;66;03m# Started at 6:15 pm\u001b[39;00m\n\u001b[1;32m      2\u001b[0m \u001b[38;5;66;03m# Ended at []\u001b[39;00m\n\u001b[0;32m----> 3\u001b[0m backtest_result \u001b[38;5;241m=\u001b[39m \u001b[43mportfolio\u001b[49m\u001b[38;5;241;43m.\u001b[39;49m\u001b[43mgenerate_positions\u001b[49m\u001b[43m(\u001b[49m\u001b[43m)\u001b[49m\n",
      "File \u001b[0;32m~/workspace/investos/investos/investos/portfolio/controller.py:230\u001b[0m, in \u001b[0;36mController.generate_positions\u001b[0;34m(self)\u001b[0m\n\u001b[1;32m    228\u001b[0m \u001b[38;5;66;03m# Walk through time and calculate future trades, estimated and actual costs and returns, and resulting positions\u001b[39;00m\n\u001b[1;32m    229\u001b[0m \u001b[38;5;28;01mfor\u001b[39;00m t \u001b[38;5;129;01min\u001b[39;00m \u001b[38;5;28mself\u001b[39m\u001b[38;5;241m.\u001b[39mforecast[\u001b[38;5;124m'\u001b[39m\u001b[38;5;124mreturn\u001b[39m\u001b[38;5;124m'\u001b[39m]\u001b[38;5;241m.\u001b[39mindex:\n\u001b[0;32m--> 230\u001b[0m     u \u001b[38;5;241m=\u001b[39m \u001b[38;5;28;43mself\u001b[39;49m\u001b[38;5;241;43m.\u001b[39;49m\u001b[43mstrategy\u001b[49m\u001b[38;5;241;43m.\u001b[39;49m\u001b[43mgenerate_trade_list\u001b[49m\u001b[43m(\u001b[49m\u001b[43mh_next\u001b[49m\u001b[43m,\u001b[49m\u001b[43m \u001b[49m\u001b[43mt\u001b[49m\u001b[43m)\u001b[49m\n\u001b[1;32m    231\u001b[0m     h_next, u \u001b[38;5;241m=\u001b[39m \u001b[38;5;28mself\u001b[39m\u001b[38;5;241m.\u001b[39mget_actual_positions_for_t(h_next, u, t)\n\u001b[1;32m    232\u001b[0m     \u001b[38;5;28mself\u001b[39m\u001b[38;5;241m.\u001b[39mbacktest\u001b[38;5;241m.\u001b[39msave_position(t, u, h_next)\n",
      "File \u001b[0;32m~/workspace/investos/investos/investos/portfolio/strategy/spo.py:93\u001b[0m, in \u001b[0;36mSPO.generate_trade_list\u001b[0;34m(self, holdings, t)\u001b[0m\n\u001b[1;32m     90\u001b[0m \u001b[38;5;28mself\u001b[39m\u001b[38;5;241m.\u001b[39mprob \u001b[38;5;241m=\u001b[39m cvx\u001b[38;5;241m.\u001b[39mProblem(objective, constraints) \u001b[38;5;66;03m# Trades need to 0 out, i.e. cash account must adjust to make everything net to 0\u001b[39;00m\n\u001b[1;32m     92\u001b[0m \u001b[38;5;28;01mtry\u001b[39;00m:\n\u001b[0;32m---> 93\u001b[0m     \u001b[38;5;28;43mself\u001b[39;49m\u001b[38;5;241;43m.\u001b[39;49m\u001b[43mprob\u001b[49m\u001b[38;5;241;43m.\u001b[39;49m\u001b[43msolve\u001b[49m\u001b[43m(\u001b[49m\u001b[43msolver\u001b[49m\u001b[38;5;241;43m=\u001b[39;49m\u001b[38;5;28;43mself\u001b[39;49m\u001b[38;5;241;43m.\u001b[39;49m\u001b[43msolver\u001b[49m\u001b[43m,\u001b[49m\u001b[43m \u001b[49m\u001b[38;5;241;43m*\u001b[39;49m\u001b[38;5;241;43m*\u001b[39;49m\u001b[38;5;28;43mself\u001b[39;49m\u001b[38;5;241;43m.\u001b[39;49m\u001b[43msolver_opts\u001b[49m\u001b[43m)\u001b[49m\n\u001b[1;32m     95\u001b[0m     \u001b[38;5;28;01mif\u001b[39;00m \u001b[38;5;28mself\u001b[39m\u001b[38;5;241m.\u001b[39mprob\u001b[38;5;241m.\u001b[39mstatus \u001b[38;5;241m==\u001b[39m \u001b[38;5;124m'\u001b[39m\u001b[38;5;124munbounded\u001b[39m\u001b[38;5;124m'\u001b[39m:\n\u001b[1;32m     96\u001b[0m         \u001b[38;5;28mprint\u001b[39m(\u001b[38;5;124mf\u001b[39m\u001b[38;5;124m\"\u001b[39m\u001b[38;5;124mThe problem is unbounded at \u001b[39m\u001b[38;5;132;01m{\u001b[39;00mt\u001b[38;5;132;01m}\u001b[39;00m\u001b[38;5;124m.\u001b[39m\u001b[38;5;124m\"\u001b[39m)\n",
      "File \u001b[0;32m/opt/homebrew/lib/python3.9/site-packages/cvxpy/problems/problem.py:493\u001b[0m, in \u001b[0;36mProblem.solve\u001b[0;34m(self, *args, **kwargs)\u001b[0m\n\u001b[1;32m    491\u001b[0m \u001b[38;5;28;01melse\u001b[39;00m:\n\u001b[1;32m    492\u001b[0m     solve_func \u001b[38;5;241m=\u001b[39m Problem\u001b[38;5;241m.\u001b[39m_solve\n\u001b[0;32m--> 493\u001b[0m \u001b[38;5;28;01mreturn\u001b[39;00m \u001b[43msolve_func\u001b[49m\u001b[43m(\u001b[49m\u001b[38;5;28;43mself\u001b[39;49m\u001b[43m,\u001b[49m\u001b[43m \u001b[49m\u001b[38;5;241;43m*\u001b[39;49m\u001b[43margs\u001b[49m\u001b[43m,\u001b[49m\u001b[43m \u001b[49m\u001b[38;5;241;43m*\u001b[39;49m\u001b[38;5;241;43m*\u001b[39;49m\u001b[43mkwargs\u001b[49m\u001b[43m)\u001b[49m\n",
      "File \u001b[0;32m/opt/homebrew/lib/python3.9/site-packages/cvxpy/problems/problem.py:1064\u001b[0m, in \u001b[0;36mProblem._solve\u001b[0;34m(self, solver, warm_start, verbose, gp, qcp, requires_grad, enforce_dpp, ignore_dpp, canon_backend, **kwargs)\u001b[0m\n\u001b[1;32m   1060\u001b[0m     s\u001b[38;5;241m.\u001b[39mLOGGER\u001b[38;5;241m.\u001b[39minfo(\n\u001b[1;32m   1061\u001b[0m             \u001b[38;5;124m'\u001b[39m\u001b[38;5;124mInvoking solver \u001b[39m\u001b[38;5;132;01m%s\u001b[39;00m\u001b[38;5;124m  to obtain a solution.\u001b[39m\u001b[38;5;124m'\u001b[39m,\n\u001b[1;32m   1062\u001b[0m             solving_chain\u001b[38;5;241m.\u001b[39mreductions[\u001b[38;5;241m-\u001b[39m\u001b[38;5;241m1\u001b[39m]\u001b[38;5;241m.\u001b[39mname())\n\u001b[1;32m   1063\u001b[0m start \u001b[38;5;241m=\u001b[39m time\u001b[38;5;241m.\u001b[39mtime()\n\u001b[0;32m-> 1064\u001b[0m solution \u001b[38;5;241m=\u001b[39m \u001b[43msolving_chain\u001b[49m\u001b[38;5;241;43m.\u001b[39;49m\u001b[43msolve_via_data\u001b[49m\u001b[43m(\u001b[49m\n\u001b[1;32m   1065\u001b[0m \u001b[43m    \u001b[49m\u001b[38;5;28;43mself\u001b[39;49m\u001b[43m,\u001b[49m\u001b[43m \u001b[49m\u001b[43mdata\u001b[49m\u001b[43m,\u001b[49m\u001b[43m \u001b[49m\u001b[43mwarm_start\u001b[49m\u001b[43m,\u001b[49m\u001b[43m \u001b[49m\u001b[43mverbose\u001b[49m\u001b[43m,\u001b[49m\u001b[43m \u001b[49m\u001b[43mkwargs\u001b[49m\u001b[43m)\u001b[49m\n\u001b[1;32m   1066\u001b[0m end \u001b[38;5;241m=\u001b[39m time\u001b[38;5;241m.\u001b[39mtime()\n\u001b[1;32m   1067\u001b[0m \u001b[38;5;28mself\u001b[39m\u001b[38;5;241m.\u001b[39m_solve_time \u001b[38;5;241m=\u001b[39m end \u001b[38;5;241m-\u001b[39m start\n",
      "File \u001b[0;32m/opt/homebrew/lib/python3.9/site-packages/cvxpy/reductions/solvers/solving_chain.py:410\u001b[0m, in \u001b[0;36mSolvingChain.solve_via_data\u001b[0;34m(self, problem, data, warm_start, verbose, solver_opts)\u001b[0m\n\u001b[1;32m    374\u001b[0m \u001b[38;5;28;01mdef\u001b[39;00m \u001b[38;5;21msolve_via_data\u001b[39m(\u001b[38;5;28mself\u001b[39m, problem, data, warm_start: \u001b[38;5;28mbool\u001b[39m \u001b[38;5;241m=\u001b[39m \u001b[38;5;28;01mFalse\u001b[39;00m, verbose: \u001b[38;5;28mbool\u001b[39m \u001b[38;5;241m=\u001b[39m \u001b[38;5;28;01mFalse\u001b[39;00m,\n\u001b[1;32m    375\u001b[0m                    solver_opts\u001b[38;5;241m=\u001b[39m{}):\n\u001b[1;32m    376\u001b[0m     \u001b[38;5;124;03m\"\"\"Solves the problem using the data output by the an apply invocation.\u001b[39;00m\n\u001b[1;32m    377\u001b[0m \n\u001b[1;32m    378\u001b[0m \u001b[38;5;124;03m    The semantics are:\u001b[39;00m\n\u001b[0;32m   (...)\u001b[0m\n\u001b[1;32m    408\u001b[0m \u001b[38;5;124;03m        a Solution object.\u001b[39;00m\n\u001b[1;32m    409\u001b[0m \u001b[38;5;124;03m    \"\"\"\u001b[39;00m\n\u001b[0;32m--> 410\u001b[0m     \u001b[38;5;28;01mreturn\u001b[39;00m \u001b[38;5;28;43mself\u001b[39;49m\u001b[38;5;241;43m.\u001b[39;49m\u001b[43msolver\u001b[49m\u001b[38;5;241;43m.\u001b[39;49m\u001b[43msolve_via_data\u001b[49m\u001b[43m(\u001b[49m\u001b[43mdata\u001b[49m\u001b[43m,\u001b[49m\u001b[43m \u001b[49m\u001b[43mwarm_start\u001b[49m\u001b[43m,\u001b[49m\u001b[43m \u001b[49m\u001b[43mverbose\u001b[49m\u001b[43m,\u001b[49m\n\u001b[1;32m    411\u001b[0m \u001b[43m                                      \u001b[49m\u001b[43msolver_opts\u001b[49m\u001b[43m,\u001b[49m\u001b[43m \u001b[49m\u001b[43mproblem\u001b[49m\u001b[38;5;241;43m.\u001b[39;49m\u001b[43m_solver_cache\u001b[49m\u001b[43m)\u001b[49m\n",
      "File \u001b[0;32m/opt/homebrew/lib/python3.9/site-packages/cvxpy/reductions/solvers/qp_solvers/osqp_qpif.py:106\u001b[0m, in \u001b[0;36mOSQP.solve_via_data\u001b[0;34m(self, data, warm_start, verbose, solver_opts, solver_cache)\u001b[0m\n\u001b[1;32m    103\u001b[0m     \u001b[38;5;28;01mexcept\u001b[39;00m \u001b[38;5;167;01mValueError\u001b[39;00m \u001b[38;5;28;01mas\u001b[39;00m e:\n\u001b[1;32m    104\u001b[0m         \u001b[38;5;28;01mraise\u001b[39;00m SolverError(e)\n\u001b[0;32m--> 106\u001b[0m results \u001b[38;5;241m=\u001b[39m \u001b[43msolver\u001b[49m\u001b[38;5;241;43m.\u001b[39;49m\u001b[43msolve\u001b[49m\u001b[43m(\u001b[49m\u001b[43m)\u001b[49m\n\u001b[1;32m    108\u001b[0m \u001b[38;5;28;01mif\u001b[39;00m solver_cache \u001b[38;5;129;01mis\u001b[39;00m \u001b[38;5;129;01mnot\u001b[39;00m \u001b[38;5;28;01mNone\u001b[39;00m:\n\u001b[1;32m    109\u001b[0m     solver_cache[\u001b[38;5;28mself\u001b[39m\u001b[38;5;241m.\u001b[39mname()] \u001b[38;5;241m=\u001b[39m (solver, data, results)\n",
      "File \u001b[0;32m/opt/homebrew/lib/python3.9/site-packages/osqp/interface.py:235\u001b[0m, in \u001b[0;36mOSQP.solve\u001b[0;34m(self)\u001b[0m\n\u001b[1;32m    231\u001b[0m \u001b[38;5;124;03m\"\"\"\u001b[39;00m\n\u001b[1;32m    232\u001b[0m \u001b[38;5;124;03mSolve QP Problem\u001b[39;00m\n\u001b[1;32m    233\u001b[0m \u001b[38;5;124;03m\"\"\"\u001b[39;00m\n\u001b[1;32m    234\u001b[0m \u001b[38;5;66;03m# Solve QP\u001b[39;00m\n\u001b[0;32m--> 235\u001b[0m results \u001b[38;5;241m=\u001b[39m \u001b[38;5;28;43mself\u001b[39;49m\u001b[38;5;241;43m.\u001b[39;49m\u001b[43m_model\u001b[49m\u001b[38;5;241;43m.\u001b[39;49m\u001b[43msolve\u001b[49m\u001b[43m(\u001b[49m\u001b[43m)\u001b[49m\n\u001b[1;32m    237\u001b[0m \u001b[38;5;66;03m# TODO(bart): this will be unnecessary when the derivative will be in C\u001b[39;00m\n\u001b[1;32m    238\u001b[0m \u001b[38;5;28mself\u001b[39m\u001b[38;5;241m.\u001b[39m_derivative_cache[\u001b[38;5;124m'\u001b[39m\u001b[38;5;124mresults\u001b[39m\u001b[38;5;124m'\u001b[39m] \u001b[38;5;241m=\u001b[39m results\n",
      "\u001b[0;31mValueError\u001b[0m: OSQP solve error!"
     ]
    }
   ],
   "source": [
    "backtest_result = portfolio.generate_positions()"
   ]
  },
  {
   "cell_type": "markdown",
   "id": "1758586f-6633-4c9b-a4ce-57a559d6c791",
   "metadata": {},
   "source": [
    "#### 2.2 Backtest results"
   ]
  },
  {
   "cell_type": "code",
   "execution_count": null,
   "id": "60fc8feb-1f18-4538-a512-9efaa9ebba9e",
   "metadata": {
    "execution": {
     "iopub.status.busy": "2023-06-23T00:01:16.671340Z",
     "iopub.status.idle": "2023-06-23T00:01:16.671473Z",
     "shell.execute_reply": "2023-06-23T00:01:16.671390Z",
     "shell.execute_reply.started": "2023-06-23T00:01:16.671385Z"
    },
    "tags": []
   },
   "outputs": [],
   "source": [
    "fig = backtest_result.v.plot()\n",
    "fig.layout.update(showlegend=False)\n",
    "fig.show()"
   ]
  },
  {
   "cell_type": "code",
   "execution_count": null,
   "id": "4aa6fd1b-fb36-4cbe-95d0-89492e13467b",
   "metadata": {
    "execution": {
     "iopub.status.busy": "2023-06-23T00:01:16.672059Z",
     "iopub.status.idle": "2023-06-23T00:01:16.673033Z",
     "shell.execute_reply": "2023-06-23T00:01:16.672876Z",
     "shell.execute_reply.started": "2023-06-23T00:01:16.672864Z"
    },
    "tags": []
   },
   "outputs": [],
   "source": [
    "backtest_result.summary"
   ]
  },
  {
   "cell_type": "code",
   "execution_count": null,
   "id": "bdfc64d0-d80b-49e5-b834-b94aa175326d",
   "metadata": {},
   "outputs": [],
   "source": []
  }
 ],
 "metadata": {
  "kernelspec": {
   "display_name": "Python 3 (ipykernel)",
   "language": "python",
   "name": "python3"
  },
  "language_info": {
   "codemirror_mode": {
    "name": "ipython",
    "version": 3
   },
   "file_extension": ".py",
   "mimetype": "text/x-python",
   "name": "python",
   "nbconvert_exporter": "python",
   "pygments_lexer": "ipython3",
   "version": "3.9.13"
  }
 },
 "nbformat": 4,
 "nbformat_minor": 5
}
