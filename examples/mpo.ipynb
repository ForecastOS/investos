{
 "cells": [
  {
   "cell_type": "markdown",
   "id": "d97e2d2b-8dc8-40a0-af05-e2c24141cd5c",
   "metadata": {},
   "source": [
    "# Simple Multi-Period Portfolio Optimization Example"
   ]
  },
  {
   "cell_type": "markdown",
   "id": "abeaeead-9e67-4f5b-b093-63e2682ae766",
   "metadata": {},
   "source": [
    "## 1. Setup"
   ]
  },
  {
   "cell_type": "markdown",
   "id": "b755c267-921f-4a7c-9e06-36cc6e21fd66",
   "metadata": {
    "execution": {
     "iopub.execute_input": "2023-04-04T00:53:04.140680Z",
     "iopub.status.busy": "2023-04-04T00:53:04.139992Z",
     "iopub.status.idle": "2023-04-04T00:53:04.147601Z",
     "shell.execute_reply": "2023-04-04T00:53:04.146761Z",
     "shell.execute_reply.started": "2023-04-04T00:53:04.140628Z"
    }
   },
   "source": [
    "#### 1.1 Load InvestOS module"
   ]
  },
  {
   "cell_type": "code",
   "execution_count": 1,
   "id": "1bebdccf-dc6a-4007-848f-82ab2147192f",
   "metadata": {
    "execution": {
     "iopub.execute_input": "2023-04-05T23:06:02.275509Z",
     "iopub.status.busy": "2023-04-05T23:06:02.275107Z",
     "iopub.status.idle": "2023-04-05T23:06:02.444855Z",
     "shell.execute_reply": "2023-04-05T23:06:02.444517Z",
     "shell.execute_reply.started": "2023-04-05T23:06:02.275413Z"
    },
    "tags": []
   },
   "outputs": [],
   "source": [
    "# Add relative path to module lookup path...\n",
    "import os\n",
    "import sys\n",
    "sys.path.insert(0, os.path.abspath('..'))\n",
    "\n",
    "# ... then import module\n",
    "import invest_os as inv\n",
    "\n",
    "# Import other required modules\n",
    "import pandas as pd\n",
    "pd.options.mode.chained_assignment = None  # default='warn'\n",
    "import numpy as np"
   ]
  },
  {
   "cell_type": "markdown",
   "id": "bbab7ef5-59d7-4e9a-b2a3-fd026a9f0f29",
   "metadata": {},
   "source": [
    "#### 1.2 Load historical stock prices and volumes"
   ]
  },
  {
   "cell_type": "markdown",
   "id": "2b66d7e2-bf1c-4b44-b943-20ba8b60eba9",
   "metadata": {},
   "source": [
    "Place in examples/data directory [data from Kaggle](https://www.kaggle.com/datasets/camnugent/sandp500/download?datasetVersionNumber=4)\n",
    "\n",
    "Note: you will need to create (and sign into) a free Kaggle account"
   ]
  },
  {
   "cell_type": "code",
   "execution_count": 2,
   "id": "beb942da-0c08-4b24-b118-a1cc6c1f0e9c",
   "metadata": {
    "execution": {
     "iopub.execute_input": "2023-04-05T23:06:02.445365Z",
     "iopub.status.busy": "2023-04-05T23:06:02.445303Z",
     "iopub.status.idle": "2023-04-05T23:06:02.618871Z",
     "shell.execute_reply": "2023-04-05T23:06:02.618531Z",
     "shell.execute_reply.started": "2023-04-05T23:06:02.445356Z"
    },
    "tags": []
   },
   "outputs": [],
   "source": [
    "# A. Load S&P 500 tickers, names, and industries\n",
    "dir_name = './data/'\n",
    "\n",
    "df = pd.read_csv(\n",
    "    dir_name + 'all_stocks_5yr.csv'\n",
    ").rename(columns={'Name': 'asset'})"
   ]
  },
  {
   "cell_type": "code",
   "execution_count": 3,
   "id": "39ba1824-354e-4b7e-b3a3-dad99a90fca6",
   "metadata": {
    "execution": {
     "iopub.execute_input": "2023-04-05T23:06:02.619377Z",
     "iopub.status.busy": "2023-04-05T23:06:02.619305Z",
     "iopub.status.idle": "2023-04-05T23:06:02.635608Z",
     "shell.execute_reply": "2023-04-05T23:06:02.635360Z",
     "shell.execute_reply.started": "2023-04-05T23:06:02.619368Z"
    },
    "tags": []
   },
   "outputs": [],
   "source": [
    "# B. Keep date, price (mid-way between bid and ask), and volume only\n",
    "df = df[['asset', 'date', 'open', 'volume']]\n",
    "df = df.rename(columns={'open': 'price'})"
   ]
  },
  {
   "cell_type": "markdown",
   "id": "daeb7eb7-1a64-40f2-8966-8ac6bbf26bab",
   "metadata": {
    "execution": {
     "iopub.execute_input": "2023-04-04T00:54:56.284843Z",
     "iopub.status.busy": "2023-04-04T00:54:56.284243Z",
     "iopub.status.idle": "2023-04-04T00:54:56.292375Z",
     "shell.execute_reply": "2023-04-04T00:54:56.290599Z",
     "shell.execute_reply.started": "2023-04-04T00:54:56.284807Z"
    }
   },
   "source": [
    "#### 1.3 Create (fake) historical stock bid/ask spreads"
   ]
  },
  {
   "cell_type": "code",
   "execution_count": 4,
   "id": "2dbb8135-f647-48aa-a4ec-58a3d2132d76",
   "metadata": {
    "execution": {
     "iopub.execute_input": "2023-04-05T23:06:02.636886Z",
     "iopub.status.busy": "2023-04-05T23:06:02.636754Z",
     "iopub.status.idle": "2023-04-05T23:06:02.639253Z",
     "shell.execute_reply": "2023-04-05T23:06:02.638975Z",
     "shell.execute_reply.started": "2023-04-05T23:06:02.636866Z"
    },
    "tags": []
   },
   "outputs": [],
   "source": [
    "# Note: real data should be used for this, wherever possible\n",
    "# For now, assume 1 cent per share\n",
    "df['spread'] = 0.01"
   ]
  },
  {
   "cell_type": "markdown",
   "id": "79ae6ec4-d133-4295-95fa-a99afc6f1012",
   "metadata": {
    "execution": {
     "iopub.execute_input": "2023-04-04T22:40:59.809426Z",
     "iopub.status.busy": "2023-04-04T22:40:59.808815Z",
     "iopub.status.idle": "2023-04-04T22:40:59.818522Z",
     "shell.execute_reply": "2023-04-04T22:40:59.817612Z",
     "shell.execute_reply.started": "2023-04-04T22:40:59.809385Z"
    },
    "tags": []
   },
   "source": [
    "#### 1.4 Clean DF"
   ]
  },
  {
   "cell_type": "code",
   "execution_count": 5,
   "id": "d24d3772-a7c7-4400-b1b1-368394cdc7c3",
   "metadata": {
    "execution": {
     "iopub.execute_input": "2023-04-05T23:06:02.639658Z",
     "iopub.status.busy": "2023-04-05T23:06:02.639597Z",
     "iopub.status.idle": "2023-04-05T23:06:02.739388Z",
     "shell.execute_reply": "2023-04-05T23:06:02.739062Z",
     "shell.execute_reply.started": "2023-04-05T23:06:02.639650Z"
    },
    "tags": []
   },
   "outputs": [],
   "source": [
    "# Keep stocks (assets) with less than 10 price nulls only\n",
    "df = df.groupby('asset').filter(lambda g: g['price'].isnull().sum().sum() < 10)"
   ]
  },
  {
   "cell_type": "markdown",
   "id": "bd4ecdb6-498d-4f4b-8175-7a3a0fe0ba52",
   "metadata": {},
   "source": [
    "#### 1.5 Calculate returns"
   ]
  },
  {
   "cell_type": "code",
   "execution_count": 6,
   "id": "303e16c1-1bb4-4376-bf06-5424f48e4ccb",
   "metadata": {
    "execution": {
     "iopub.execute_input": "2023-04-05T23:06:02.739973Z",
     "iopub.status.busy": "2023-04-05T23:06:02.739907Z",
     "iopub.status.idle": "2023-04-05T23:06:02.761104Z",
     "shell.execute_reply": "2023-04-05T23:06:02.760836Z",
     "shell.execute_reply.started": "2023-04-05T23:06:02.739965Z"
    },
    "tags": []
   },
   "outputs": [],
   "source": [
    "df['price_t-1'] = df.groupby(['asset'])['price'].shift(1)"
   ]
  },
  {
   "cell_type": "code",
   "execution_count": 7,
   "id": "47807ffe-bbee-47ef-a614-da2f0463c826",
   "metadata": {
    "execution": {
     "iopub.execute_input": "2023-04-05T23:06:02.761575Z",
     "iopub.status.busy": "2023-04-05T23:06:02.761516Z",
     "iopub.status.idle": "2023-04-05T23:06:02.765534Z",
     "shell.execute_reply": "2023-04-05T23:06:02.765231Z",
     "shell.execute_reply.started": "2023-04-05T23:06:02.761567Z"
    },
    "tags": []
   },
   "outputs": [],
   "source": [
    "df['return'] = df['price'] / df['price_t-1'] - 1"
   ]
  },
  {
   "cell_type": "code",
   "execution_count": 8,
   "id": "4706962b-4f19-41d8-9920-647cc3515e3d",
   "metadata": {
    "execution": {
     "iopub.execute_input": "2023-04-05T23:06:02.766051Z",
     "iopub.status.busy": "2023-04-05T23:06:02.765985Z",
     "iopub.status.idle": "2023-04-05T23:06:02.794227Z",
     "shell.execute_reply": "2023-04-05T23:06:02.793939Z",
     "shell.execute_reply.started": "2023-04-05T23:06:02.766042Z"
    },
    "tags": []
   },
   "outputs": [],
   "source": [
    "# Keep required columns only\n",
    "df = df[['asset', 'date', 'price', 'return', 'volume', 'spread']]\n",
    "\n",
    "# Drop null returns\n",
    "df = df[df['return'].notnull()]"
   ]
  },
  {
   "cell_type": "markdown",
   "id": "e4be3e90-e195-417e-86de-58f5cd935cd0",
   "metadata": {},
   "source": [
    "#### 1.6 Split dfs into historical and forecast"
   ]
  },
  {
   "cell_type": "code",
   "execution_count": 9,
   "id": "a29c4d5c-c305-42e7-8725-f0b3d80ce0f5",
   "metadata": {
    "execution": {
     "iopub.execute_input": "2023-04-05T23:06:02.794778Z",
     "iopub.status.busy": "2023-04-05T23:06:02.794710Z",
     "iopub.status.idle": "2023-04-05T23:06:02.845331Z",
     "shell.execute_reply": "2023-04-05T23:06:02.845051Z",
     "shell.execute_reply.started": "2023-04-05T23:06:02.794769Z"
    },
    "tags": []
   },
   "outputs": [],
   "source": [
    "date_split_forecasts = '2016-01-01'\n",
    "\n",
    "df_historical = df[df.date < date_split_forecasts]\n",
    "df_forecast = df[df.date >= date_split_forecasts][['asset', 'date', 'return']]"
   ]
  },
  {
   "cell_type": "markdown",
   "id": "13f44c8a-31af-48ed-a637-dc89d6dafe9b",
   "metadata": {},
   "source": [
    "#### 1.7 Create (fake) forecasts"
   ]
  },
  {
   "cell_type": "code",
   "execution_count": 10,
   "id": "a58d829d-72ee-4cdc-9d34-fdb23be33579",
   "metadata": {
    "execution": {
     "iopub.execute_input": "2023-04-05T23:06:02.845890Z",
     "iopub.status.busy": "2023-04-05T23:06:02.845824Z",
     "iopub.status.idle": "2023-04-05T23:06:02.854996Z",
     "shell.execute_reply": "2023-04-05T23:06:02.854760Z",
     "shell.execute_reply.started": "2023-04-05T23:06:02.845882Z"
    },
    "tags": []
   },
   "outputs": [],
   "source": [
    "np.random.seed(0)\n",
    "\n",
    "# Add guassian noise to daily returns\n",
    "std = df_historical['return'].var() ** 0.5\n",
    "noise = np.random.normal(0, std, size=df_forecast.shape[0])\n",
    "\n",
    "df_forecast['return'] = df_forecast['return'] + noise"
   ]
  },
  {
   "cell_type": "markdown",
   "id": "d026a06a-bc7e-44d2-8c38-d543ba262464",
   "metadata": {},
   "source": [
    "## 2. Portfolio optimization"
   ]
  },
  {
   "cell_type": "markdown",
   "id": "cc7758a2-6755-4612-a85a-ad1e1bd38dc0",
   "metadata": {},
   "source": [
    "#### 2.1 Create portfolio optimization instance"
   ]
  },
  {
   "cell_type": "code",
   "execution_count": 11,
   "id": "374f227a-45e5-4568-bbf8-a49fc34cdd45",
   "metadata": {
    "execution": {
     "iopub.execute_input": "2023-04-05T23:06:02.855586Z",
     "iopub.status.busy": "2023-04-05T23:06:02.855474Z",
     "iopub.status.idle": "2023-04-05T23:06:03.298430Z",
     "shell.execute_reply": "2023-04-05T23:06:03.298156Z",
     "shell.execute_reply.started": "2023-04-05T23:06:02.855574Z"
    },
    "tags": []
   },
   "outputs": [],
   "source": [
    "po = inv.PortfolioOptimization(\n",
    "    df_historical,\n",
    "    df_forecast,\n",
    "    type=inv.portfolio_optimization.type.RankLongShort\n",
    ")"
   ]
  },
  {
   "cell_type": "code",
   "execution_count": 12,
   "id": "d6db128d-c3e4-4264-a96c-8c756762b149",
   "metadata": {
    "execution": {
     "iopub.execute_input": "2023-04-05T23:06:03.299006Z",
     "iopub.status.busy": "2023-04-05T23:06:03.298935Z",
     "iopub.status.idle": "2023-04-05T23:06:03.300958Z",
     "shell.execute_reply": "2023-04-05T23:06:03.300742Z",
     "shell.execute_reply.started": "2023-04-05T23:06:03.298997Z"
    },
    "tags": []
   },
   "outputs": [
    {
     "name": "stdout",
     "output_type": "stream",
     "text": [
      "Optimizing...\n",
      "Done optimizing. Check backtest_result object for more information\n"
     ]
    }
   ],
   "source": [
    "# last historical values: po.historical['price'].index.max()\n",
    "\n",
    "po.optimize()"
   ]
  },
  {
   "cell_type": "code",
   "execution_count": 21,
   "id": "86db5692-e529-4cf6-989a-1618e0eef97f",
   "metadata": {
    "execution": {
     "iopub.execute_input": "2023-04-06T04:48:24.903583Z",
     "iopub.status.busy": "2023-04-06T04:48:24.903289Z",
     "iopub.status.idle": "2023-04-06T04:48:24.913196Z",
     "shell.execute_reply": "2023-04-06T04:48:24.911097Z",
     "shell.execute_reply.started": "2023-04-06T04:48:24.903560Z"
    },
    "tags": []
   },
   "outputs": [
    {
     "data": {
      "text/plain": [
       "asset\n",
       "A       0\n",
       "AAL     0\n",
       "AAP     0\n",
       "AAPL    0\n",
       "ABBV    0\n",
       "       ..\n",
       "XYL     0\n",
       "YUM     0\n",
       "ZBH     0\n",
       "ZION    0\n",
       "ZTS     0\n",
       "Length: 505, dtype: int64"
      ]
     },
     "execution_count": 21,
     "metadata": {},
     "output_type": "execute_result"
    }
   ],
   "source": [
    "pd.Series(index=po.forecast['return'].columns, data=0)"
   ]
  },
  {
   "cell_type": "code",
   "execution_count": 13,
   "id": "096a0b28-77f4-4635-a791-da7e5515de81",
   "metadata": {
    "execution": {
     "iopub.execute_input": "2023-04-05T23:06:03.302579Z",
     "iopub.status.busy": "2023-04-05T23:06:03.302519Z",
     "iopub.status.idle": "2023-04-05T23:06:03.304243Z",
     "shell.execute_reply": "2023-04-05T23:06:03.303995Z",
     "shell.execute_reply.started": "2023-04-05T23:06:03.302571Z"
    },
    "tags": []
   },
   "outputs": [],
   "source": [
    "# TBUS:\n",
    "\n",
    "# [ ] Check that all inputs passed in (required or otherwise) are in correct format\n",
    "# [ ] --> Else throw error with message saying as much"
   ]
  }
 ],
 "metadata": {
  "kernelspec": {
   "display_name": "Python 3 (ipykernel)",
   "language": "python",
   "name": "python3"
  },
  "language_info": {
   "codemirror_mode": {
    "name": "ipython",
    "version": 3
   },
   "file_extension": ".py",
   "mimetype": "text/x-python",
   "name": "python",
   "nbconvert_exporter": "python",
   "pygments_lexer": "ipython3",
   "version": "3.9.13"
  }
 },
 "nbformat": 4,
 "nbformat_minor": 5
}
