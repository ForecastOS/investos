{
 "cells": [
  {
   "cell_type": "markdown",
   "id": "d97e2d2b-8dc8-40a0-af05-e2c24141cd5c",
   "metadata": {},
   "source": [
    "# Simple Multi-Period Portfolio Optimization Example"
   ]
  },
  {
   "cell_type": "markdown",
   "id": "abeaeead-9e67-4f5b-b093-63e2682ae766",
   "metadata": {},
   "source": [
    "## 1. Setup"
   ]
  },
  {
   "cell_type": "markdown",
   "id": "b755c267-921f-4a7c-9e06-36cc6e21fd66",
   "metadata": {
    "execution": {
     "iopub.execute_input": "2023-04-04T00:53:04.140680Z",
     "iopub.status.busy": "2023-04-04T00:53:04.139992Z",
     "iopub.status.idle": "2023-04-04T00:53:04.147601Z",
     "shell.execute_reply": "2023-04-04T00:53:04.146761Z",
     "shell.execute_reply.started": "2023-04-04T00:53:04.140628Z"
    }
   },
   "source": [
    "#### 1.1 Load InvestOS module"
   ]
  },
  {
   "cell_type": "code",
   "execution_count": 1,
   "id": "1bebdccf-dc6a-4007-848f-82ab2147192f",
   "metadata": {
    "execution": {
     "iopub.execute_input": "2023-04-13T04:22:42.626886Z",
     "iopub.status.busy": "2023-04-13T04:22:42.626363Z",
     "iopub.status.idle": "2023-04-13T04:22:42.793707Z",
     "shell.execute_reply": "2023-04-13T04:22:42.793449Z",
     "shell.execute_reply.started": "2023-04-13T04:22:42.626737Z"
    },
    "tags": []
   },
   "outputs": [],
   "source": [
    "# Add relative path to module lookup path...\n",
    "import os\n",
    "import sys\n",
    "sys.path.insert(0, os.path.abspath('..'))\n",
    "\n",
    "# ... then import module\n",
    "import invest_os as inv\n",
    "\n",
    "# Import other required modules\n",
    "import pandas as pd\n",
    "pd.options.mode.chained_assignment = None  # default='warn'\n",
    "import numpy as np"
   ]
  },
  {
   "cell_type": "markdown",
   "id": "bbab7ef5-59d7-4e9a-b2a3-fd026a9f0f29",
   "metadata": {},
   "source": [
    "#### 1.2 Load historical stock prices and volumes"
   ]
  },
  {
   "cell_type": "markdown",
   "id": "2b66d7e2-bf1c-4b44-b943-20ba8b60eba9",
   "metadata": {},
   "source": [
    "Place in examples/data directory [data from Kaggle](https://www.kaggle.com/datasets/camnugent/sandp500/download?datasetVersionNumber=4)\n",
    "\n",
    "Note: you will need to create (and sign into) a free Kaggle account"
   ]
  },
  {
   "cell_type": "code",
   "execution_count": 2,
   "id": "beb942da-0c08-4b24-b118-a1cc6c1f0e9c",
   "metadata": {
    "execution": {
     "iopub.execute_input": "2023-04-13T04:22:42.794184Z",
     "iopub.status.busy": "2023-04-13T04:22:42.794116Z",
     "iopub.status.idle": "2023-04-13T04:22:42.966407Z",
     "shell.execute_reply": "2023-04-13T04:22:42.966052Z",
     "shell.execute_reply.started": "2023-04-13T04:22:42.794175Z"
    },
    "tags": []
   },
   "outputs": [],
   "source": [
    "# A. Load S&P 500 tickers, names, and industries\n",
    "dir_name = './data/'\n",
    "\n",
    "df = pd.read_csv(\n",
    "    dir_name + 'all_stocks_5yr.csv'\n",
    ").rename(columns={'Name': 'asset'})"
   ]
  },
  {
   "cell_type": "code",
   "execution_count": 3,
   "id": "39ba1824-354e-4b7e-b3a3-dad99a90fca6",
   "metadata": {
    "execution": {
     "iopub.execute_input": "2023-04-13T04:22:42.966957Z",
     "iopub.status.busy": "2023-04-13T04:22:42.966890Z",
     "iopub.status.idle": "2023-04-13T04:22:42.983622Z",
     "shell.execute_reply": "2023-04-13T04:22:42.983320Z",
     "shell.execute_reply.started": "2023-04-13T04:22:42.966948Z"
    },
    "tags": []
   },
   "outputs": [],
   "source": [
    "# B. Keep date, price (mid-way between bid and ask), and volume only\n",
    "df = df[['asset', 'date', 'open', 'volume']]\n",
    "df = df.rename(columns={'open': 'price'})"
   ]
  },
  {
   "cell_type": "markdown",
   "id": "daeb7eb7-1a64-40f2-8966-8ac6bbf26bab",
   "metadata": {
    "execution": {
     "iopub.execute_input": "2023-04-04T00:54:56.284843Z",
     "iopub.status.busy": "2023-04-04T00:54:56.284243Z",
     "iopub.status.idle": "2023-04-04T00:54:56.292375Z",
     "shell.execute_reply": "2023-04-04T00:54:56.290599Z",
     "shell.execute_reply.started": "2023-04-04T00:54:56.284807Z"
    }
   },
   "source": [
    "#### 1.3 Create (fake) historical stock bid/ask spreads"
   ]
  },
  {
   "cell_type": "code",
   "execution_count": 4,
   "id": "2dbb8135-f647-48aa-a4ec-58a3d2132d76",
   "metadata": {
    "execution": {
     "iopub.execute_input": "2023-04-13T04:22:42.985018Z",
     "iopub.status.busy": "2023-04-13T04:22:42.984917Z",
     "iopub.status.idle": "2023-04-13T04:22:42.987481Z",
     "shell.execute_reply": "2023-04-13T04:22:42.987233Z",
     "shell.execute_reply.started": "2023-04-13T04:22:42.985005Z"
    },
    "tags": []
   },
   "outputs": [],
   "source": [
    "# Note: real data should be used for this, wherever possible\n",
    "# For now, assume 0.01% (i.e. 1 cent on $100.00 stock)\n",
    "df['spread'] = 1/10_000"
   ]
  },
  {
   "cell_type": "markdown",
   "id": "79ae6ec4-d133-4295-95fa-a99afc6f1012",
   "metadata": {
    "execution": {
     "iopub.execute_input": "2023-04-04T22:40:59.809426Z",
     "iopub.status.busy": "2023-04-04T22:40:59.808815Z",
     "iopub.status.idle": "2023-04-04T22:40:59.818522Z",
     "shell.execute_reply": "2023-04-04T22:40:59.817612Z",
     "shell.execute_reply.started": "2023-04-04T22:40:59.809385Z"
    },
    "tags": []
   },
   "source": [
    "#### 1.4 Clean DF"
   ]
  },
  {
   "cell_type": "code",
   "execution_count": 5,
   "id": "d24d3772-a7c7-4400-b1b1-368394cdc7c3",
   "metadata": {
    "execution": {
     "iopub.execute_input": "2023-04-13T04:22:42.987898Z",
     "iopub.status.busy": "2023-04-13T04:22:42.987833Z",
     "iopub.status.idle": "2023-04-13T04:22:43.136160Z",
     "shell.execute_reply": "2023-04-13T04:22:43.135795Z",
     "shell.execute_reply.started": "2023-04-13T04:22:42.987889Z"
    },
    "tags": []
   },
   "outputs": [],
   "source": [
    "# Keep stocks (assets) with less than 10 price nulls only\n",
    "df = df.groupby('asset').filter(lambda g: g['price'].isnull().sum().sum() < 10)\n",
    "# Make date type datetime\n",
    "df['date'] = pd.to_datetime(df['date'])"
   ]
  },
  {
   "cell_type": "markdown",
   "id": "bd4ecdb6-498d-4f4b-8175-7a3a0fe0ba52",
   "metadata": {},
   "source": [
    "#### 1.5 Calculate returns"
   ]
  },
  {
   "cell_type": "code",
   "execution_count": 6,
   "id": "303e16c1-1bb4-4376-bf06-5424f48e4ccb",
   "metadata": {
    "execution": {
     "iopub.execute_input": "2023-04-13T04:22:43.136647Z",
     "iopub.status.busy": "2023-04-13T04:22:43.136590Z",
     "iopub.status.idle": "2023-04-13T04:22:43.157701Z",
     "shell.execute_reply": "2023-04-13T04:22:43.157450Z",
     "shell.execute_reply.started": "2023-04-13T04:22:43.136639Z"
    },
    "tags": []
   },
   "outputs": [],
   "source": [
    "df['price_t+1'] = df.groupby(['asset'])['price'].shift(-1)"
   ]
  },
  {
   "cell_type": "code",
   "execution_count": 7,
   "id": "47807ffe-bbee-47ef-a614-da2f0463c826",
   "metadata": {
    "execution": {
     "iopub.execute_input": "2023-04-13T04:22:43.158269Z",
     "iopub.status.busy": "2023-04-13T04:22:43.158161Z",
     "iopub.status.idle": "2023-04-13T04:22:43.162632Z",
     "shell.execute_reply": "2023-04-13T04:22:43.162364Z",
     "shell.execute_reply.started": "2023-04-13T04:22:43.158260Z"
    },
    "tags": []
   },
   "outputs": [],
   "source": [
    "df['return'] = df['price'] / df['price_t+1'] - 1 # fwd looking return"
   ]
  },
  {
   "cell_type": "code",
   "execution_count": 8,
   "id": "4706962b-4f19-41d8-9920-647cc3515e3d",
   "metadata": {
    "execution": {
     "iopub.execute_input": "2023-04-13T04:22:43.163198Z",
     "iopub.status.busy": "2023-04-13T04:22:43.163120Z",
     "iopub.status.idle": "2023-04-13T04:22:43.193470Z",
     "shell.execute_reply": "2023-04-13T04:22:43.193192Z",
     "shell.execute_reply.started": "2023-04-13T04:22:43.163188Z"
    },
    "tags": []
   },
   "outputs": [],
   "source": [
    "# Keep required columns only\n",
    "df = df[['asset', 'date', 'price', 'return', 'volume', 'spread']]\n",
    "\n",
    "# Drop null returns\n",
    "df = df[df['return'].notnull()]"
   ]
  },
  {
   "cell_type": "code",
   "execution_count": 9,
   "id": "b273b9e3-73c9-4cf2-a806-5b8c059609b1",
   "metadata": {
    "execution": {
     "iopub.execute_input": "2023-04-13T04:22:43.193989Z",
     "iopub.status.busy": "2023-04-13T04:22:43.193928Z",
     "iopub.status.idle": "2023-04-13T04:22:43.570904Z",
     "shell.execute_reply": "2023-04-13T04:22:43.570672Z",
     "shell.execute_reply.started": "2023-04-13T04:22:43.193981Z"
    },
    "tags": []
   },
   "outputs": [],
   "source": [
    "# Drop where return data insufficient\n",
    "UNIQUE_RETURNS_P_THRESHOLD = 0.99\n",
    "\n",
    "s_nunique = df.groupby(['asset']).nunique()['return']\n",
    "max_unique_returns = s_nunique.max()\n",
    "df_percent_returns_unique = (s_nunique / max_unique_returns).reset_index()\n",
    "df_percent_returns_unique = df_percent_returns_unique.rename(columns={'return': 'p_unique'})\n",
    "df = df.merge(df_percent_returns_unique, on=['asset'], how='left')\n",
    "df = df[df['p_unique'] >= UNIQUE_RETURNS_P_THRESHOLD]\n",
    "df = df.drop(columns=['p_unique'])"
   ]
  },
  {
   "cell_type": "markdown",
   "id": "e4be3e90-e195-417e-86de-58f5cd935cd0",
   "metadata": {},
   "source": [
    "#### 1.6 Split dfs into historical and forecast"
   ]
  },
  {
   "cell_type": "code",
   "execution_count": 10,
   "id": "a29c4d5c-c305-42e7-8725-f0b3d80ce0f5",
   "metadata": {
    "execution": {
     "iopub.execute_input": "2023-04-13T04:22:43.571509Z",
     "iopub.status.busy": "2023-04-13T04:22:43.571435Z",
     "iopub.status.idle": "2023-04-13T04:22:43.587988Z",
     "shell.execute_reply": "2023-04-13T04:22:43.587692Z",
     "shell.execute_reply.started": "2023-04-13T04:22:43.571500Z"
    },
    "tags": []
   },
   "outputs": [],
   "source": [
    "date_split_forecasts = '2016-01-01'\n",
    "\n",
    "df_historical = df[df.date < date_split_forecasts]\n",
    "df_forecast = df[df.date >= date_split_forecasts][['asset', 'date', 'return']]\n",
    "df_actual = df_forecast.copy()"
   ]
  },
  {
   "cell_type": "markdown",
   "id": "13f44c8a-31af-48ed-a637-dc89d6dafe9b",
   "metadata": {},
   "source": [
    "#### 1.7 Create (fake) forecasts"
   ]
  },
  {
   "cell_type": "code",
   "execution_count": 11,
   "id": "a58d829d-72ee-4cdc-9d34-fdb23be33579",
   "metadata": {
    "execution": {
     "iopub.execute_input": "2023-04-13T04:22:43.588641Z",
     "iopub.status.busy": "2023-04-13T04:22:43.588515Z",
     "iopub.status.idle": "2023-04-13T04:22:43.599934Z",
     "shell.execute_reply": "2023-04-13T04:22:43.599680Z",
     "shell.execute_reply.started": "2023-04-13T04:22:43.588630Z"
    },
    "tags": []
   },
   "outputs": [
    {
     "name": "stdout",
     "output_type": "stream",
     "text": [
      "Median return: -0.0008741769337591299\n"
     ]
    }
   ],
   "source": [
    "np.random.seed(0)\n",
    "\n",
    "# Median return should be VERY close to 0...\n",
    "print(\"Median return:\", df_forecast['return'].median())\n",
    "\n",
    "# ... so divide by 20x to reduce signal...\n",
    "df_forecast['return'] /= 20\n",
    "\n",
    "# ... then add guassian noise to daily returns\n",
    "std = df_historical['return'].var() ** 0.5\n",
    "noise = np.random.normal(0, std, size=df_forecast.shape[0])\n",
    "\n",
    "df_forecast['return'] = df_forecast['return'] + noise"
   ]
  },
  {
   "cell_type": "code",
   "execution_count": 12,
   "id": "881fc104-83a2-4fab-ad04-7149e0a5afaa",
   "metadata": {
    "execution": {
     "iopub.execute_input": "2023-04-13T04:22:43.600715Z",
     "iopub.status.busy": "2023-04-13T04:22:43.600572Z",
     "iopub.status.idle": "2023-04-13T04:22:43.605436Z",
     "shell.execute_reply": "2023-04-13T04:22:43.605215Z",
     "shell.execute_reply.started": "2023-04-13T04:22:43.600705Z"
    },
    "tags": []
   },
   "outputs": [
    {
     "name": "stdout",
     "output_type": "stream",
     "text": [
      "Return predictions have the right sign 51.1% of the time\n"
     ]
    }
   ],
   "source": [
    "# Make sure predictions aren't too accurate:\n",
    "\n",
    "agree_on_sign = np.sign(df_forecast['return']) == np.sign(df_actual['return'])\n",
    "\n",
    "print(\n",
    "    \"Return predictions have the right sign %.1f%% of the time\" %\n",
    "    ((agree_on_sign.sum() / agree_on_sign.shape[0]) * 100)\n",
    ")"
   ]
  },
  {
   "cell_type": "markdown",
   "id": "d026a06a-bc7e-44d2-8c38-d543ba262464",
   "metadata": {},
   "source": [
    "## 2. Portfolio optimization"
   ]
  },
  {
   "cell_type": "markdown",
   "id": "cc7758a2-6755-4612-a85a-ad1e1bd38dc0",
   "metadata": {},
   "source": [
    "#### 2.1 Create portfolio optimization instance"
   ]
  },
  {
   "cell_type": "code",
   "execution_count": 13,
   "id": "374f227a-45e5-4568-bbf8-a49fc34cdd45",
   "metadata": {
    "execution": {
     "iopub.execute_input": "2023-04-13T04:22:43.607540Z",
     "iopub.status.busy": "2023-04-13T04:22:43.607418Z",
     "iopub.status.idle": "2023-04-13T04:22:43.958707Z",
     "shell.execute_reply": "2023-04-13T04:22:43.958392Z",
     "shell.execute_reply.started": "2023-04-13T04:22:43.607529Z"
    },
    "tags": []
   },
   "outputs": [],
   "source": [
    "strategy = inv.portfolio_optimization.strategy.RankLongShort(\n",
    "    n_periods_held = 1,\n",
    "    leverage = 1\n",
    ")\n",
    "\n",
    "po = inv.portfolio_optimization.Optimizer(\n",
    "    df_forecast,\n",
    "    df_actual,\n",
    "    df_historical,\n",
    "    strategy=strategy\n",
    ")"
   ]
  },
  {
   "cell_type": "code",
   "execution_count": 14,
   "id": "d6db128d-c3e4-4264-a96c-8c756762b149",
   "metadata": {
    "execution": {
     "iopub.execute_input": "2023-04-13T04:22:43.959180Z",
     "iopub.status.busy": "2023-04-13T04:22:43.959114Z",
     "iopub.status.idle": "2023-04-13T04:22:46.442724Z",
     "shell.execute_reply": "2023-04-13T04:22:46.442515Z",
     "shell.execute_reply.started": "2023-04-13T04:22:43.959171Z"
    },
    "tags": []
   },
   "outputs": [
    {
     "name": "stdout",
     "output_type": "stream",
     "text": [
      "Optimizing...\n",
      "Done simulating.\n"
     ]
    }
   ],
   "source": [
    "backtest = po.optimize()"
   ]
  },
  {
   "cell_type": "code",
   "execution_count": 15,
   "id": "0024a1fe-96c9-4754-80b3-1b69078d9a25",
   "metadata": {
    "execution": {
     "iopub.execute_input": "2023-04-13T04:22:46.443190Z",
     "iopub.status.busy": "2023-04-13T04:22:46.443124Z",
     "iopub.status.idle": "2023-04-13T04:22:46.449575Z",
     "shell.execute_reply": "2023-04-13T04:22:46.449229Z",
     "shell.execute_reply.started": "2023-04-13T04:22:46.443181Z"
    },
    "tags": []
   },
   "outputs": [
    {
     "data": {
      "text/plain": [
       "2016-01-04    1.000000e+08\n",
       "2016-01-05    1.000553e+08\n",
       "2016-01-06    9.998904e+07\n",
       "2016-01-07    9.986177e+07\n",
       "2016-01-08    9.976282e+07\n",
       "                  ...     \n",
       "2018-01-31    1.455942e+08\n",
       "2018-02-01    1.460500e+08\n",
       "2018-02-02    1.461240e+08\n",
       "2018-02-05    1.461915e+08\n",
       "2018-02-06    1.467001e+08\n",
       "Length: 528, dtype: float64"
      ]
     },
     "execution_count": 15,
     "metadata": {},
     "output_type": "execute_result"
    }
   ],
   "source": [
    "# po.backtest.h[\"cash\"][165:200]\n",
    "\n",
    "# po.backtest.h[\"AAPL\"][-20:]\n",
    "\n",
    "# po.backtest.h\n",
    "\n",
    "# po.backtest.h[np.abs(po.backtest.h) < 0.001]\n",
    "\n",
    "po.backtest.v\n",
    "\n",
    "# po.backtest.u[po.backtest.u.index != \"cash\"].iloc[5, :]"
   ]
  },
  {
   "cell_type": "code",
   "execution_count": null,
   "id": "11afa109-0f9e-45f8-9380-49a23099e225",
   "metadata": {},
   "outputs": [],
   "source": []
  }
 ],
 "metadata": {
  "kernelspec": {
   "display_name": "Python 3 (ipykernel)",
   "language": "python",
   "name": "python3"
  },
  "language_info": {
   "codemirror_mode": {
    "name": "ipython",
    "version": 3
   },
   "file_extension": ".py",
   "mimetype": "text/x-python",
   "name": "python",
   "nbconvert_exporter": "python",
   "pygments_lexer": "ipython3",
   "version": "3.9.13"
  }
 },
 "nbformat": 4,
 "nbformat_minor": 5
}
