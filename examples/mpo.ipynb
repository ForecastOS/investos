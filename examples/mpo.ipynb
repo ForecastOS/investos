{
 "cells": [
  {
   "cell_type": "markdown",
   "id": "d97e2d2b-8dc8-40a0-af05-e2c24141cd5c",
   "metadata": {},
   "source": [
    "# Simple Multi-Period Portfolio Optimization Example"
   ]
  },
  {
   "cell_type": "markdown",
   "id": "abeaeead-9e67-4f5b-b093-63e2682ae766",
   "metadata": {},
   "source": [
    "## 1. Setup"
   ]
  },
  {
   "cell_type": "markdown",
   "id": "b755c267-921f-4a7c-9e06-36cc6e21fd66",
   "metadata": {
    "execution": {
     "iopub.execute_input": "2023-04-04T00:53:04.140680Z",
     "iopub.status.busy": "2023-04-04T00:53:04.139992Z",
     "iopub.status.idle": "2023-04-04T00:53:04.147601Z",
     "shell.execute_reply": "2023-04-04T00:53:04.146761Z",
     "shell.execute_reply.started": "2023-04-04T00:53:04.140628Z"
    }
   },
   "source": [
    "#### 1.1 Load InvestOS module"
   ]
  },
  {
   "cell_type": "code",
   "execution_count": 1,
   "id": "1bebdccf-dc6a-4007-848f-82ab2147192f",
   "metadata": {
    "execution": {
     "iopub.execute_input": "2023-04-07T07:24:48.317537Z",
     "iopub.status.busy": "2023-04-07T07:24:48.316745Z",
     "iopub.status.idle": "2023-04-07T07:24:48.489873Z",
     "shell.execute_reply": "2023-04-07T07:24:48.489556Z",
     "shell.execute_reply.started": "2023-04-07T07:24:48.317410Z"
    },
    "tags": []
   },
   "outputs": [],
   "source": [
    "# Add relative path to module lookup path...\n",
    "import os\n",
    "import sys\n",
    "sys.path.insert(0, os.path.abspath('..'))\n",
    "\n",
    "# ... then import module\n",
    "import invest_os as inv\n",
    "\n",
    "# Import other required modules\n",
    "import pandas as pd\n",
    "pd.options.mode.chained_assignment = None  # default='warn'\n",
    "import numpy as np"
   ]
  },
  {
   "cell_type": "markdown",
   "id": "bbab7ef5-59d7-4e9a-b2a3-fd026a9f0f29",
   "metadata": {},
   "source": [
    "#### 1.2 Load historical stock prices and volumes"
   ]
  },
  {
   "cell_type": "markdown",
   "id": "2b66d7e2-bf1c-4b44-b943-20ba8b60eba9",
   "metadata": {},
   "source": [
    "Place in examples/data directory [data from Kaggle](https://www.kaggle.com/datasets/camnugent/sandp500/download?datasetVersionNumber=4)\n",
    "\n",
    "Note: you will need to create (and sign into) a free Kaggle account"
   ]
  },
  {
   "cell_type": "code",
   "execution_count": 2,
   "id": "beb942da-0c08-4b24-b118-a1cc6c1f0e9c",
   "metadata": {
    "execution": {
     "iopub.execute_input": "2023-04-07T07:24:48.490375Z",
     "iopub.status.busy": "2023-04-07T07:24:48.490303Z",
     "iopub.status.idle": "2023-04-07T07:24:48.662270Z",
     "shell.execute_reply": "2023-04-07T07:24:48.661878Z",
     "shell.execute_reply.started": "2023-04-07T07:24:48.490366Z"
    },
    "tags": []
   },
   "outputs": [],
   "source": [
    "# A. Load S&P 500 tickers, names, and industries\n",
    "dir_name = './data/'\n",
    "\n",
    "df = pd.read_csv(\n",
    "    dir_name + 'all_stocks_5yr.csv'\n",
    ").rename(columns={'Name': 'asset'})"
   ]
  },
  {
   "cell_type": "code",
   "execution_count": 3,
   "id": "39ba1824-354e-4b7e-b3a3-dad99a90fca6",
   "metadata": {
    "execution": {
     "iopub.execute_input": "2023-04-07T07:24:48.662753Z",
     "iopub.status.busy": "2023-04-07T07:24:48.662690Z",
     "iopub.status.idle": "2023-04-07T07:24:48.678687Z",
     "shell.execute_reply": "2023-04-07T07:24:48.678385Z",
     "shell.execute_reply.started": "2023-04-07T07:24:48.662744Z"
    },
    "tags": []
   },
   "outputs": [],
   "source": [
    "# B. Keep date, price (mid-way between bid and ask), and volume only\n",
    "df = df[['asset', 'date', 'open', 'volume']]\n",
    "df = df.rename(columns={'open': 'price'})"
   ]
  },
  {
   "cell_type": "markdown",
   "id": "daeb7eb7-1a64-40f2-8966-8ac6bbf26bab",
   "metadata": {
    "execution": {
     "iopub.execute_input": "2023-04-04T00:54:56.284843Z",
     "iopub.status.busy": "2023-04-04T00:54:56.284243Z",
     "iopub.status.idle": "2023-04-04T00:54:56.292375Z",
     "shell.execute_reply": "2023-04-04T00:54:56.290599Z",
     "shell.execute_reply.started": "2023-04-04T00:54:56.284807Z"
    }
   },
   "source": [
    "#### 1.3 Create (fake) historical stock bid/ask spreads"
   ]
  },
  {
   "cell_type": "code",
   "execution_count": 4,
   "id": "2dbb8135-f647-48aa-a4ec-58a3d2132d76",
   "metadata": {
    "execution": {
     "iopub.execute_input": "2023-04-07T07:24:48.680098Z",
     "iopub.status.busy": "2023-04-07T07:24:48.680007Z",
     "iopub.status.idle": "2023-04-07T07:24:48.682698Z",
     "shell.execute_reply": "2023-04-07T07:24:48.682270Z",
     "shell.execute_reply.started": "2023-04-07T07:24:48.680085Z"
    },
    "tags": []
   },
   "outputs": [],
   "source": [
    "# Note: real data should be used for this, wherever possible\n",
    "# For now, assume 1 cent per share\n",
    "df['spread'] = 0.01"
   ]
  },
  {
   "cell_type": "markdown",
   "id": "79ae6ec4-d133-4295-95fa-a99afc6f1012",
   "metadata": {
    "execution": {
     "iopub.execute_input": "2023-04-04T22:40:59.809426Z",
     "iopub.status.busy": "2023-04-04T22:40:59.808815Z",
     "iopub.status.idle": "2023-04-04T22:40:59.818522Z",
     "shell.execute_reply": "2023-04-04T22:40:59.817612Z",
     "shell.execute_reply.started": "2023-04-04T22:40:59.809385Z"
    },
    "tags": []
   },
   "source": [
    "#### 1.4 Clean DF"
   ]
  },
  {
   "cell_type": "code",
   "execution_count": 5,
   "id": "d24d3772-a7c7-4400-b1b1-368394cdc7c3",
   "metadata": {
    "execution": {
     "iopub.execute_input": "2023-04-07T07:24:48.683491Z",
     "iopub.status.busy": "2023-04-07T07:24:48.683395Z",
     "iopub.status.idle": "2023-04-07T07:24:48.832161Z",
     "shell.execute_reply": "2023-04-07T07:24:48.831903Z",
     "shell.execute_reply.started": "2023-04-07T07:24:48.683481Z"
    },
    "tags": []
   },
   "outputs": [],
   "source": [
    "# Keep stocks (assets) with less than 10 price nulls only\n",
    "df = df.groupby('asset').filter(lambda g: g['price'].isnull().sum().sum() < 10)\n",
    "# Make date type datetime\n",
    "df['date'] = pd.to_datetime(df['date'])"
   ]
  },
  {
   "cell_type": "markdown",
   "id": "bd4ecdb6-498d-4f4b-8175-7a3a0fe0ba52",
   "metadata": {},
   "source": [
    "#### 1.5 Calculate returns"
   ]
  },
  {
   "cell_type": "code",
   "execution_count": 6,
   "id": "303e16c1-1bb4-4376-bf06-5424f48e4ccb",
   "metadata": {
    "execution": {
     "iopub.execute_input": "2023-04-07T07:24:48.832650Z",
     "iopub.status.busy": "2023-04-07T07:24:48.832579Z",
     "iopub.status.idle": "2023-04-07T07:24:48.854480Z",
     "shell.execute_reply": "2023-04-07T07:24:48.854190Z",
     "shell.execute_reply.started": "2023-04-07T07:24:48.832641Z"
    },
    "tags": []
   },
   "outputs": [],
   "source": [
    "df['price_t+1'] = df.groupby(['asset'])['price'].shift(-1)"
   ]
  },
  {
   "cell_type": "code",
   "execution_count": 7,
   "id": "47807ffe-bbee-47ef-a614-da2f0463c826",
   "metadata": {
    "execution": {
     "iopub.execute_input": "2023-04-07T07:24:48.854972Z",
     "iopub.status.busy": "2023-04-07T07:24:48.854906Z",
     "iopub.status.idle": "2023-04-07T07:24:48.859065Z",
     "shell.execute_reply": "2023-04-07T07:24:48.858722Z",
     "shell.execute_reply.started": "2023-04-07T07:24:48.854963Z"
    },
    "tags": []
   },
   "outputs": [],
   "source": [
    "df['return'] = df['price'] / df['price_t+1'] - 1 # fwd looking return"
   ]
  },
  {
   "cell_type": "code",
   "execution_count": 8,
   "id": "4706962b-4f19-41d8-9920-647cc3515e3d",
   "metadata": {
    "execution": {
     "iopub.execute_input": "2023-04-07T07:24:48.859693Z",
     "iopub.status.busy": "2023-04-07T07:24:48.859616Z",
     "iopub.status.idle": "2023-04-07T07:24:48.887736Z",
     "shell.execute_reply": "2023-04-07T07:24:48.887482Z",
     "shell.execute_reply.started": "2023-04-07T07:24:48.859683Z"
    },
    "tags": []
   },
   "outputs": [],
   "source": [
    "# Keep required columns only\n",
    "df = df[['asset', 'date', 'price', 'return', 'volume', 'spread']]\n",
    "\n",
    "# Drop null returns\n",
    "df = df[df['return'].notnull()]"
   ]
  },
  {
   "cell_type": "markdown",
   "id": "e4be3e90-e195-417e-86de-58f5cd935cd0",
   "metadata": {},
   "source": [
    "#### 1.6 Split dfs into historical and forecast"
   ]
  },
  {
   "cell_type": "code",
   "execution_count": 9,
   "id": "a29c4d5c-c305-42e7-8725-f0b3d80ce0f5",
   "metadata": {
    "execution": {
     "iopub.execute_input": "2023-04-07T07:24:48.888170Z",
     "iopub.status.busy": "2023-04-07T07:24:48.888108Z",
     "iopub.status.idle": "2023-04-07T07:24:48.910803Z",
     "shell.execute_reply": "2023-04-07T07:24:48.910526Z",
     "shell.execute_reply.started": "2023-04-07T07:24:48.888161Z"
    },
    "tags": []
   },
   "outputs": [],
   "source": [
    "date_split_forecasts = '2016-01-01'\n",
    "\n",
    "df_historical = df[df.date < date_split_forecasts]\n",
    "df_forecast = df[df.date >= date_split_forecasts][['asset', 'date', 'return']]\n",
    "df_actual = df_forecast.copy()"
   ]
  },
  {
   "cell_type": "markdown",
   "id": "13f44c8a-31af-48ed-a637-dc89d6dafe9b",
   "metadata": {},
   "source": [
    "#### 1.7 Create (fake) forecasts"
   ]
  },
  {
   "cell_type": "code",
   "execution_count": 10,
   "id": "a58d829d-72ee-4cdc-9d34-fdb23be33579",
   "metadata": {
    "execution": {
     "iopub.execute_input": "2023-04-07T07:24:48.911302Z",
     "iopub.status.busy": "2023-04-07T07:24:48.911229Z",
     "iopub.status.idle": "2023-04-07T07:24:48.926912Z",
     "shell.execute_reply": "2023-04-07T07:24:48.926671Z",
     "shell.execute_reply.started": "2023-04-07T07:24:48.911293Z"
    },
    "tags": []
   },
   "outputs": [
    {
     "name": "stdout",
     "output_type": "stream",
     "text": [
      "Median return: -0.0008328128253174416\n"
     ]
    }
   ],
   "source": [
    "np.random.seed(0)\n",
    "\n",
    "# Median return should be VERY close to 0...\n",
    "print(\"Median return:\", df_forecast['return'].median())\n",
    "\n",
    "# ... so divide by 5x to reduce signal...\n",
    "df_forecast['return'] /= 5\n",
    "\n",
    "# ... then add guassian noise to daily returns\n",
    "std = df_historical['return'].var() ** 0.5\n",
    "noise = np.random.normal(0, std, size=df_forecast.shape[0])\n",
    "\n",
    "df_forecast['return'] = df_forecast['return'] + noise"
   ]
  },
  {
   "cell_type": "code",
   "execution_count": 11,
   "id": "881fc104-83a2-4fab-ad04-7149e0a5afaa",
   "metadata": {
    "execution": {
     "iopub.execute_input": "2023-04-07T07:24:48.927629Z",
     "iopub.status.busy": "2023-04-07T07:24:48.927487Z",
     "iopub.status.idle": "2023-04-07T07:24:48.933149Z",
     "shell.execute_reply": "2023-04-07T07:24:48.932791Z",
     "shell.execute_reply.started": "2023-04-07T07:24:48.927619Z"
    },
    "tags": []
   },
   "outputs": [
    {
     "name": "stdout",
     "output_type": "stream",
     "text": [
      "Return predictions have the right sign 54.8% of the time\n"
     ]
    }
   ],
   "source": [
    "# Make sure predictions aren't too accurate:\n",
    "\n",
    "agree_on_sign = np.sign(df_forecast['return']) == np.sign(df_actual['return'])\n",
    "\n",
    "print(\n",
    "    \"Return predictions have the right sign %.1f%% of the time\" %\n",
    "    ((agree_on_sign.sum() / agree_on_sign.shape[0]) * 100)\n",
    ")"
   ]
  },
  {
   "cell_type": "markdown",
   "id": "d026a06a-bc7e-44d2-8c38-d543ba262464",
   "metadata": {},
   "source": [
    "## 2. Portfolio optimization"
   ]
  },
  {
   "cell_type": "markdown",
   "id": "cc7758a2-6755-4612-a85a-ad1e1bd38dc0",
   "metadata": {},
   "source": [
    "#### 2.1 Create portfolio optimization instance"
   ]
  },
  {
   "cell_type": "code",
   "execution_count": 12,
   "id": "374f227a-45e5-4568-bbf8-a49fc34cdd45",
   "metadata": {
    "execution": {
     "iopub.execute_input": "2023-04-07T07:24:48.933851Z",
     "iopub.status.busy": "2023-04-07T07:24:48.933773Z",
     "iopub.status.idle": "2023-04-07T07:24:49.363324Z",
     "shell.execute_reply": "2023-04-07T07:24:49.363014Z",
     "shell.execute_reply.started": "2023-04-07T07:24:48.933842Z"
    },
    "tags": []
   },
   "outputs": [],
   "source": [
    "strategy = inv.portfolio_optimization.strategy.RankLongShort(\n",
    "    n_periods_held = 1,\n",
    "    leverage = 1\n",
    ")\n",
    "\n",
    "po = inv.portfolio_optimization.Optimizer(\n",
    "    df_forecast,\n",
    "    df_actual,\n",
    "    df_historical,\n",
    "    strategy=strategy\n",
    ")"
   ]
  },
  {
   "cell_type": "code",
   "execution_count": 13,
   "id": "d6db128d-c3e4-4264-a96c-8c756762b149",
   "metadata": {
    "execution": {
     "iopub.execute_input": "2023-04-07T07:24:49.365265Z",
     "iopub.status.busy": "2023-04-07T07:24:49.365157Z",
     "iopub.status.idle": "2023-04-07T07:24:50.514300Z",
     "shell.execute_reply": "2023-04-07T07:24:50.514064Z",
     "shell.execute_reply.started": "2023-04-07T07:24:49.365255Z"
    },
    "tags": []
   },
   "outputs": [
    {
     "name": "stdout",
     "output_type": "stream",
     "text": [
      "Optimizing...\n",
      "Done simulating.\n"
     ]
    }
   ],
   "source": [
    "backtest = po.optimize()"
   ]
  },
  {
   "cell_type": "code",
   "execution_count": 14,
   "id": "0024a1fe-96c9-4754-80b3-1b69078d9a25",
   "metadata": {
    "execution": {
     "iopub.execute_input": "2023-04-07T07:24:50.514791Z",
     "iopub.status.busy": "2023-04-07T07:24:50.514725Z",
     "iopub.status.idle": "2023-04-07T07:24:50.530290Z",
     "shell.execute_reply": "2023-04-07T07:24:50.530030Z",
     "shell.execute_reply.started": "2023-04-07T07:24:50.514783Z"
    },
    "tags": []
   },
   "outputs": [
    {
     "data": {
      "text/html": [
       "<div>\n",
       "<style scoped>\n",
       "    .dataframe tbody tr th:only-of-type {\n",
       "        vertical-align: middle;\n",
       "    }\n",
       "\n",
       "    .dataframe tbody tr th {\n",
       "        vertical-align: top;\n",
       "    }\n",
       "\n",
       "    .dataframe thead th {\n",
       "        text-align: right;\n",
       "    }\n",
       "</style>\n",
       "<table border=\"1\" class=\"dataframe\">\n",
       "  <thead>\n",
       "    <tr style=\"text-align: right;\">\n",
       "      <th>asset</th>\n",
       "      <th>A</th>\n",
       "      <th>AAL</th>\n",
       "      <th>AAP</th>\n",
       "      <th>AAPL</th>\n",
       "      <th>ABBV</th>\n",
       "      <th>ABC</th>\n",
       "      <th>ABT</th>\n",
       "      <th>ACN</th>\n",
       "      <th>ADBE</th>\n",
       "      <th>ADI</th>\n",
       "      <th>...</th>\n",
       "      <th>XLNX</th>\n",
       "      <th>XOM</th>\n",
       "      <th>XRAY</th>\n",
       "      <th>XRX</th>\n",
       "      <th>XYL</th>\n",
       "      <th>YUM</th>\n",
       "      <th>ZBH</th>\n",
       "      <th>ZION</th>\n",
       "      <th>ZTS</th>\n",
       "      <th>cash</th>\n",
       "    </tr>\n",
       "  </thead>\n",
       "  <tbody>\n",
       "    <tr>\n",
       "      <th>2016-01-04</th>\n",
       "      <td>0.000000e+00</td>\n",
       "      <td>0.000000e+00</td>\n",
       "      <td>0.000000e+00</td>\n",
       "      <td>0.000000e+00</td>\n",
       "      <td>0.000000e+00</td>\n",
       "      <td>0.000000e+00</td>\n",
       "      <td>0.000000e+00</td>\n",
       "      <td>0.000000e+00</td>\n",
       "      <td>0.000000e+00</td>\n",
       "      <td>0.000000e+00</td>\n",
       "      <td>...</td>\n",
       "      <td>0.000000e+00</td>\n",
       "      <td>0.000000e+00</td>\n",
       "      <td>0.000000e+00</td>\n",
       "      <td>0.000000e+00</td>\n",
       "      <td>0.000000e+00</td>\n",
       "      <td>0.000000e+00</td>\n",
       "      <td>0.000000e+00</td>\n",
       "      <td>0.000000e+00</td>\n",
       "      <td>0.000000e+00</td>\n",
       "      <td>1.000000e+08</td>\n",
       "    </tr>\n",
       "    <tr>\n",
       "      <th>2016-01-05</th>\n",
       "      <td>0.000000e+00</td>\n",
       "      <td>3.978854e+05</td>\n",
       "      <td>-3.887508e+05</td>\n",
       "      <td>-3.850426e+05</td>\n",
       "      <td>-3.973044e+05</td>\n",
       "      <td>0.000000e+00</td>\n",
       "      <td>4.058777e+05</td>\n",
       "      <td>-3.993549e+05</td>\n",
       "      <td>0.000000e+00</td>\n",
       "      <td>0.000000e+00</td>\n",
       "      <td>...</td>\n",
       "      <td>0.000000e+00</td>\n",
       "      <td>3.984191e+05</td>\n",
       "      <td>-3.965575e+05</td>\n",
       "      <td>4.010633e+05</td>\n",
       "      <td>0.000000e+00</td>\n",
       "      <td>-3.885979e+05</td>\n",
       "      <td>-3.934018e+05</td>\n",
       "      <td>0.000000e+00</td>\n",
       "      <td>3.920645e+05</td>\n",
       "      <td>1.005000e+08</td>\n",
       "    </tr>\n",
       "    <tr>\n",
       "      <th>2016-01-06</th>\n",
       "      <td>4.059924e+05</td>\n",
       "      <td>1.089907e+03</td>\n",
       "      <td>4.164817e+05</td>\n",
       "      <td>4.342006e+05</td>\n",
       "      <td>-4.927759e+02</td>\n",
       "      <td>-4.040336e+05</td>\n",
       "      <td>9.191418e+03</td>\n",
       "      <td>4.031650e+05</td>\n",
       "      <td>-4.051148e+05</td>\n",
       "      <td>0.000000e+00</td>\n",
       "      <td>...</td>\n",
       "      <td>0.000000e+00</td>\n",
       "      <td>4.055918e+05</td>\n",
       "      <td>-3.986870e+05</td>\n",
       "      <td>-4.035304e+05</td>\n",
       "      <td>3.970343e+05</td>\n",
       "      <td>8.414638e+03</td>\n",
       "      <td>-3.957060e+05</td>\n",
       "      <td>0.000000e+00</td>\n",
       "      <td>-4.785075e+03</td>\n",
       "      <td>1.010025e+08</td>\n",
       "    </tr>\n",
       "    <tr>\n",
       "      <th>2016-01-07</th>\n",
       "      <td>-4.018923e+05</td>\n",
       "      <td>3.889799e+05</td>\n",
       "      <td>-3.943074e+05</td>\n",
       "      <td>-7.841711e+05</td>\n",
       "      <td>-8.009647e+05</td>\n",
       "      <td>-4.110939e+05</td>\n",
       "      <td>4.121538e+05</td>\n",
       "      <td>-8.090535e+05</td>\n",
       "      <td>-4.175769e+05</td>\n",
       "      <td>0.000000e+00</td>\n",
       "      <td>...</td>\n",
       "      <td>0.000000e+00</td>\n",
       "      <td>4.043692e+05</td>\n",
       "      <td>-4.029959e+05</td>\n",
       "      <td>-1.158052e+04</td>\n",
       "      <td>-4.219790e+03</td>\n",
       "      <td>-3.962001e+05</td>\n",
       "      <td>-3.927643e+05</td>\n",
       "      <td>4.210535e+05</td>\n",
       "      <td>3.943764e+05</td>\n",
       "      <td>1.015075e+08</td>\n",
       "    </tr>\n",
       "    <tr>\n",
       "      <th>2016-01-08</th>\n",
       "      <td>4.144938e+05</td>\n",
       "      <td>4.048660e+05</td>\n",
       "      <td>-8.539440e+03</td>\n",
       "      <td>4.200937e+05</td>\n",
       "      <td>4.066431e+05</td>\n",
       "      <td>-8.329600e+05</td>\n",
       "      <td>1.526252e+04</td>\n",
       "      <td>3.957290e+05</td>\n",
       "      <td>-4.116179e+05</td>\n",
       "      <td>0.000000e+00</td>\n",
       "      <td>...</td>\n",
       "      <td>0.000000e+00</td>\n",
       "      <td>-3.748793e+03</td>\n",
       "      <td>5.084953e+03</td>\n",
       "      <td>-4.041423e+05</td>\n",
       "      <td>-1.566029e+04</td>\n",
       "      <td>6.304274e+02</td>\n",
       "      <td>1.536051e+04</td>\n",
       "      <td>1.514818e+04</td>\n",
       "      <td>-2.451627e+03</td>\n",
       "      <td>1.020151e+08</td>\n",
       "    </tr>\n",
       "    <tr>\n",
       "      <th>...</th>\n",
       "      <td>...</td>\n",
       "      <td>...</td>\n",
       "      <td>...</td>\n",
       "      <td>...</td>\n",
       "      <td>...</td>\n",
       "      <td>...</td>\n",
       "      <td>...</td>\n",
       "      <td>...</td>\n",
       "      <td>...</td>\n",
       "      <td>...</td>\n",
       "      <td>...</td>\n",
       "      <td>...</td>\n",
       "      <td>...</td>\n",
       "      <td>...</td>\n",
       "      <td>...</td>\n",
       "      <td>...</td>\n",
       "      <td>...</td>\n",
       "      <td>...</td>\n",
       "      <td>...</td>\n",
       "      <td>...</td>\n",
       "      <td>...</td>\n",
       "    </tr>\n",
       "    <tr>\n",
       "      <th>2018-01-31</th>\n",
       "      <td>-1.633875e+54</td>\n",
       "      <td>-1.082706e+53</td>\n",
       "      <td>-4.906097e+53</td>\n",
       "      <td>1.843579e+53</td>\n",
       "      <td>1.836171e+53</td>\n",
       "      <td>3.008155e+52</td>\n",
       "      <td>-9.206833e+53</td>\n",
       "      <td>-2.718463e+53</td>\n",
       "      <td>-9.659662e+53</td>\n",
       "      <td>3.647060e+52</td>\n",
       "      <td>...</td>\n",
       "      <td>1.373770e+54</td>\n",
       "      <td>-1.729878e+53</td>\n",
       "      <td>-2.226944e+53</td>\n",
       "      <td>1.245584e+54</td>\n",
       "      <td>-2.819122e+53</td>\n",
       "      <td>-8.435994e+53</td>\n",
       "      <td>3.974596e+53</td>\n",
       "      <td>-2.579529e+52</td>\n",
       "      <td>3.708821e+52</td>\n",
       "      <td>-2.625421e+40</td>\n",
       "    </tr>\n",
       "    <tr>\n",
       "      <th>2018-02-01</th>\n",
       "      <td>5.361356e+52</td>\n",
       "      <td>-8.597769e+53</td>\n",
       "      <td>8.055722e+53</td>\n",
       "      <td>2.322908e+53</td>\n",
       "      <td>1.940806e+52</td>\n",
       "      <td>-1.924727e+53</td>\n",
       "      <td>-8.324255e+53</td>\n",
       "      <td>2.489384e+53</td>\n",
       "      <td>-7.569051e+53</td>\n",
       "      <td>-3.222692e+53</td>\n",
       "      <td>...</td>\n",
       "      <td>-5.645718e+53</td>\n",
       "      <td>-2.169384e+53</td>\n",
       "      <td>-6.374567e+53</td>\n",
       "      <td>-3.335221e+53</td>\n",
       "      <td>1.996531e+53</td>\n",
       "      <td>3.208393e+53</td>\n",
       "      <td>7.423153e+53</td>\n",
       "      <td>-1.445844e+54</td>\n",
       "      <td>1.027085e+54</td>\n",
       "      <td>-9.115296e+39</td>\n",
       "    </tr>\n",
       "    <tr>\n",
       "      <th>2018-02-02</th>\n",
       "      <td>-1.836909e+54</td>\n",
       "      <td>-9.425892e+52</td>\n",
       "      <td>-2.851897e+53</td>\n",
       "      <td>1.852382e+53</td>\n",
       "      <td>2.336992e+51</td>\n",
       "      <td>2.001143e+52</td>\n",
       "      <td>-9.260241e+53</td>\n",
       "      <td>-2.722449e+53</td>\n",
       "      <td>-7.834933e+53</td>\n",
       "      <td>3.441841e+52</td>\n",
       "      <td>...</td>\n",
       "      <td>1.392492e+54</td>\n",
       "      <td>1.155629e+52</td>\n",
       "      <td>-2.328875e+53</td>\n",
       "      <td>1.308775e+54</td>\n",
       "      <td>-2.706935e+53</td>\n",
       "      <td>-8.455714e+53</td>\n",
       "      <td>5.777753e+53</td>\n",
       "      <td>-2.980734e+52</td>\n",
       "      <td>2.384138e+53</td>\n",
       "      <td>-2.266923e+40</td>\n",
       "    </tr>\n",
       "    <tr>\n",
       "      <th>2018-02-05</th>\n",
       "      <td>-1.590021e+53</td>\n",
       "      <td>-1.078736e+54</td>\n",
       "      <td>1.017805e+54</td>\n",
       "      <td>4.396761e+53</td>\n",
       "      <td>1.976806e+52</td>\n",
       "      <td>-1.997439e+53</td>\n",
       "      <td>-8.337195e+53</td>\n",
       "      <td>4.472508e+53</td>\n",
       "      <td>-7.768212e+53</td>\n",
       "      <td>-3.292986e+53</td>\n",
       "      <td>...</td>\n",
       "      <td>-3.676873e+53</td>\n",
       "      <td>-4.134284e+53</td>\n",
       "      <td>-4.529811e+53</td>\n",
       "      <td>-2.785812e+53</td>\n",
       "      <td>2.090669e+52</td>\n",
       "      <td>1.324979e+53</td>\n",
       "      <td>7.525000e+53</td>\n",
       "      <td>-1.478504e+54</td>\n",
       "      <td>1.036847e+54</td>\n",
       "      <td>-1.372001e+40</td>\n",
       "    </tr>\n",
       "    <tr>\n",
       "      <th>2018-02-06</th>\n",
       "      <td>-1.947294e+54</td>\n",
       "      <td>7.087257e+52</td>\n",
       "      <td>-2.714437e+53</td>\n",
       "      <td>4.061568e+53</td>\n",
       "      <td>2.095064e+53</td>\n",
       "      <td>1.344409e+52</td>\n",
       "      <td>-7.894883e+53</td>\n",
       "      <td>-7.241545e+52</td>\n",
       "      <td>-8.282482e+53</td>\n",
       "      <td>-1.734374e+53</td>\n",
       "      <td>...</td>\n",
       "      <td>1.478137e+54</td>\n",
       "      <td>2.728140e+51</td>\n",
       "      <td>-2.481558e+53</td>\n",
       "      <td>1.338900e+54</td>\n",
       "      <td>-8.296397e+52</td>\n",
       "      <td>-6.818452e+53</td>\n",
       "      <td>4.119294e+53</td>\n",
       "      <td>-2.705711e+53</td>\n",
       "      <td>2.637370e+53</td>\n",
       "      <td>-2.216721e+40</td>\n",
       "    </tr>\n",
       "  </tbody>\n",
       "</table>\n",
       "<p>528 rows × 506 columns</p>\n",
       "</div>"
      ],
      "text/plain": [
       "asset                  A           AAL           AAP          AAPL  \\\n",
       "2016-01-04  0.000000e+00  0.000000e+00  0.000000e+00  0.000000e+00   \n",
       "2016-01-05  0.000000e+00  3.978854e+05 -3.887508e+05 -3.850426e+05   \n",
       "2016-01-06  4.059924e+05  1.089907e+03  4.164817e+05  4.342006e+05   \n",
       "2016-01-07 -4.018923e+05  3.889799e+05 -3.943074e+05 -7.841711e+05   \n",
       "2016-01-08  4.144938e+05  4.048660e+05 -8.539440e+03  4.200937e+05   \n",
       "...                  ...           ...           ...           ...   \n",
       "2018-01-31 -1.633875e+54 -1.082706e+53 -4.906097e+53  1.843579e+53   \n",
       "2018-02-01  5.361356e+52 -8.597769e+53  8.055722e+53  2.322908e+53   \n",
       "2018-02-02 -1.836909e+54 -9.425892e+52 -2.851897e+53  1.852382e+53   \n",
       "2018-02-05 -1.590021e+53 -1.078736e+54  1.017805e+54  4.396761e+53   \n",
       "2018-02-06 -1.947294e+54  7.087257e+52 -2.714437e+53  4.061568e+53   \n",
       "\n",
       "asset               ABBV           ABC           ABT           ACN  \\\n",
       "2016-01-04  0.000000e+00  0.000000e+00  0.000000e+00  0.000000e+00   \n",
       "2016-01-05 -3.973044e+05  0.000000e+00  4.058777e+05 -3.993549e+05   \n",
       "2016-01-06 -4.927759e+02 -4.040336e+05  9.191418e+03  4.031650e+05   \n",
       "2016-01-07 -8.009647e+05 -4.110939e+05  4.121538e+05 -8.090535e+05   \n",
       "2016-01-08  4.066431e+05 -8.329600e+05  1.526252e+04  3.957290e+05   \n",
       "...                  ...           ...           ...           ...   \n",
       "2018-01-31  1.836171e+53  3.008155e+52 -9.206833e+53 -2.718463e+53   \n",
       "2018-02-01  1.940806e+52 -1.924727e+53 -8.324255e+53  2.489384e+53   \n",
       "2018-02-02  2.336992e+51  2.001143e+52 -9.260241e+53 -2.722449e+53   \n",
       "2018-02-05  1.976806e+52 -1.997439e+53 -8.337195e+53  4.472508e+53   \n",
       "2018-02-06  2.095064e+53  1.344409e+52 -7.894883e+53 -7.241545e+52   \n",
       "\n",
       "asset               ADBE           ADI  ...          XLNX           XOM  \\\n",
       "2016-01-04  0.000000e+00  0.000000e+00  ...  0.000000e+00  0.000000e+00   \n",
       "2016-01-05  0.000000e+00  0.000000e+00  ...  0.000000e+00  3.984191e+05   \n",
       "2016-01-06 -4.051148e+05  0.000000e+00  ...  0.000000e+00  4.055918e+05   \n",
       "2016-01-07 -4.175769e+05  0.000000e+00  ...  0.000000e+00  4.043692e+05   \n",
       "2016-01-08 -4.116179e+05  0.000000e+00  ...  0.000000e+00 -3.748793e+03   \n",
       "...                  ...           ...  ...           ...           ...   \n",
       "2018-01-31 -9.659662e+53  3.647060e+52  ...  1.373770e+54 -1.729878e+53   \n",
       "2018-02-01 -7.569051e+53 -3.222692e+53  ... -5.645718e+53 -2.169384e+53   \n",
       "2018-02-02 -7.834933e+53  3.441841e+52  ...  1.392492e+54  1.155629e+52   \n",
       "2018-02-05 -7.768212e+53 -3.292986e+53  ... -3.676873e+53 -4.134284e+53   \n",
       "2018-02-06 -8.282482e+53 -1.734374e+53  ...  1.478137e+54  2.728140e+51   \n",
       "\n",
       "asset               XRAY           XRX           XYL           YUM  \\\n",
       "2016-01-04  0.000000e+00  0.000000e+00  0.000000e+00  0.000000e+00   \n",
       "2016-01-05 -3.965575e+05  4.010633e+05  0.000000e+00 -3.885979e+05   \n",
       "2016-01-06 -3.986870e+05 -4.035304e+05  3.970343e+05  8.414638e+03   \n",
       "2016-01-07 -4.029959e+05 -1.158052e+04 -4.219790e+03 -3.962001e+05   \n",
       "2016-01-08  5.084953e+03 -4.041423e+05 -1.566029e+04  6.304274e+02   \n",
       "...                  ...           ...           ...           ...   \n",
       "2018-01-31 -2.226944e+53  1.245584e+54 -2.819122e+53 -8.435994e+53   \n",
       "2018-02-01 -6.374567e+53 -3.335221e+53  1.996531e+53  3.208393e+53   \n",
       "2018-02-02 -2.328875e+53  1.308775e+54 -2.706935e+53 -8.455714e+53   \n",
       "2018-02-05 -4.529811e+53 -2.785812e+53  2.090669e+52  1.324979e+53   \n",
       "2018-02-06 -2.481558e+53  1.338900e+54 -8.296397e+52 -6.818452e+53   \n",
       "\n",
       "asset                ZBH          ZION           ZTS          cash  \n",
       "2016-01-04  0.000000e+00  0.000000e+00  0.000000e+00  1.000000e+08  \n",
       "2016-01-05 -3.934018e+05  0.000000e+00  3.920645e+05  1.005000e+08  \n",
       "2016-01-06 -3.957060e+05  0.000000e+00 -4.785075e+03  1.010025e+08  \n",
       "2016-01-07 -3.927643e+05  4.210535e+05  3.943764e+05  1.015075e+08  \n",
       "2016-01-08  1.536051e+04  1.514818e+04 -2.451627e+03  1.020151e+08  \n",
       "...                  ...           ...           ...           ...  \n",
       "2018-01-31  3.974596e+53 -2.579529e+52  3.708821e+52 -2.625421e+40  \n",
       "2018-02-01  7.423153e+53 -1.445844e+54  1.027085e+54 -9.115296e+39  \n",
       "2018-02-02  5.777753e+53 -2.980734e+52  2.384138e+53 -2.266923e+40  \n",
       "2018-02-05  7.525000e+53 -1.478504e+54  1.036847e+54 -1.372001e+40  \n",
       "2018-02-06  4.119294e+53 -2.705711e+53  2.637370e+53 -2.216721e+40  \n",
       "\n",
       "[528 rows x 506 columns]"
      ]
     },
     "execution_count": 14,
     "metadata": {},
     "output_type": "execute_result"
    }
   ],
   "source": [
    "po.backtest.h"
   ]
  },
  {
   "cell_type": "code",
   "execution_count": 35,
   "id": "6ec2b2e3-1ef4-4716-9c3b-a9c6bc519430",
   "metadata": {
    "execution": {
     "iopub.execute_input": "2023-04-07T07:28:42.939229Z",
     "iopub.status.busy": "2023-04-07T07:28:42.938624Z",
     "iopub.status.idle": "2023-04-07T07:28:42.954964Z",
     "shell.execute_reply": "2023-04-07T07:28:42.953640Z",
     "shell.execute_reply.started": "2023-04-07T07:28:42.939196Z"
    },
    "tags": []
   },
   "outputs": [
    {
     "data": {
      "text/plain": [
       "-5.80170738974912e+22"
      ]
     },
     "execution_count": 35,
     "metadata": {},
     "output_type": "execute_result"
    }
   ],
   "source": []
  },
  {
   "cell_type": "code",
   "execution_count": 16,
   "id": "096a0b28-77f4-4635-a791-da7e5515de81",
   "metadata": {
    "execution": {
     "iopub.execute_input": "2023-04-07T07:24:50.543737Z",
     "iopub.status.busy": "2023-04-07T07:24:50.543665Z",
     "iopub.status.idle": "2023-04-07T07:24:50.545356Z",
     "shell.execute_reply": "2023-04-07T07:24:50.545106Z",
     "shell.execute_reply.started": "2023-04-07T07:24:50.543729Z"
    },
    "tags": []
   },
   "outputs": [],
   "source": [
    "# TBUS:\n",
    "\n",
    "# [ ] Check that all inputs passed in (required or otherwise) are in correct format\n",
    "# [ ] --> Else throw error with message saying as much"
   ]
  }
 ],
 "metadata": {
  "kernelspec": {
   "display_name": "Python 3 (ipykernel)",
   "language": "python",
   "name": "python3"
  },
  "language_info": {
   "codemirror_mode": {
    "name": "ipython",
    "version": 3
   },
   "file_extension": ".py",
   "mimetype": "text/x-python",
   "name": "python",
   "nbconvert_exporter": "python",
   "pygments_lexer": "ipython3",
   "version": "3.9.13"
  }
 },
 "nbformat": 4,
 "nbformat_minor": 5
}
