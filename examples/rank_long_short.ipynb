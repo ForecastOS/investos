{
 "cells": [
  {
   "cell_type": "code",
   "execution_count": null,
   "id": "8bf7da3d-4666-42f6-a41c-a4acc3930191",
   "metadata": {},
   "outputs": [],
   "source": [
    "# From investos.io/guides/0.4/simple_examples/rank_long_short/"
   ]
  },
  {
   "cell_type": "code",
   "execution_count": 1,
   "id": "adfc1a6f-3805-40bc-bc2a-81093827ada0",
   "metadata": {
    "execution": {
     "iopub.execute_input": "2024-07-16T17:35:40.773727Z",
     "iopub.status.busy": "2024-07-16T17:35:40.772467Z",
     "iopub.status.idle": "2024-07-16T17:36:07.232707Z",
     "shell.execute_reply": "2024-07-16T17:36:07.232420Z",
     "shell.execute_reply.started": "2024-07-16T17:35:40.773669Z"
    },
    "tags": []
   },
   "outputs": [],
   "source": [
    "import pandas as pd\n",
    "import investos as inv"
   ]
  },
  {
   "cell_type": "code",
   "execution_count": 2,
   "id": "8b102414-abc8-4ede-b657-453605cd5586",
   "metadata": {
    "execution": {
     "iopub.execute_input": "2024-07-16T17:36:07.233573Z",
     "iopub.status.busy": "2024-07-16T17:36:07.233420Z",
     "iopub.status.idle": "2024-07-16T17:36:10.710706Z",
     "shell.execute_reply": "2024-07-16T17:36:10.709960Z",
     "shell.execute_reply.started": "2024-07-16T17:36:07.233564Z"
    },
    "tags": []
   },
   "outputs": [],
   "source": [
    "actual_returns = pd.read_parquet(\"https://investos.io/example_actual_returns.parquet\")\n",
    "forecast_returns = pd.read_parquet(\"https://investos.io/example_forecast_returns.parquet\")"
   ]
  },
  {
   "cell_type": "code",
   "execution_count": 15,
   "id": "46280ac6-d647-4a82-b2fb-ad77296d221f",
   "metadata": {
    "execution": {
     "iopub.execute_input": "2024-07-16T17:41:15.344226Z",
     "iopub.status.busy": "2024-07-16T17:41:15.343635Z",
     "iopub.status.idle": "2024-07-16T17:41:15.350045Z",
     "shell.execute_reply": "2024-07-16T17:41:15.349111Z",
     "shell.execute_reply.started": "2024-07-16T17:41:15.344189Z"
    },
    "tags": []
   },
   "outputs": [],
   "source": [
    "strategy = inv.portfolio.strategy.RankLongShort(\n",
    "    actual_returns = actual_returns,\n",
    "    metric_to_rank = forecast_returns,\n",
    "    leverage=1.6,\n",
    "    ratio_long=130,\n",
    "    ratio_short=30,\n",
    "    percent_long=0.2,\n",
    "    percent_short=0.2,\n",
    "    n_periods_held=60,\n",
    "    cash_column_name=\"cash\"\n",
    ")"
   ]
  },
  {
   "cell_type": "code",
   "execution_count": 16,
   "id": "ccccfe79-5b86-495d-b7f9-846721907004",
   "metadata": {
    "execution": {
     "iopub.execute_input": "2024-07-16T17:41:15.818515Z",
     "iopub.status.busy": "2024-07-16T17:41:15.817707Z",
     "iopub.status.idle": "2024-07-16T17:41:15.824825Z",
     "shell.execute_reply": "2024-07-16T17:41:15.823945Z",
     "shell.execute_reply.started": "2024-07-16T17:41:15.818481Z"
    },
    "tags": []
   },
   "outputs": [],
   "source": [
    "portfolio = inv.portfolio.BacktestController(\n",
    "    strategy=strategy,\n",
    "    start_date='2017-01-01',\n",
    "    end_date='2018-01-01',\n",
    "    aum=100_000_000\n",
    ")"
   ]
  },
  {
   "cell_type": "code",
   "execution_count": 17,
   "id": "19631ae7-0d98-46c5-8054-3708b2c9b833",
   "metadata": {
    "execution": {
     "iopub.execute_input": "2024-07-16T17:41:16.326630Z",
     "iopub.status.busy": "2024-07-16T17:41:16.325500Z",
     "iopub.status.idle": "2024-07-16T17:41:16.838414Z",
     "shell.execute_reply": "2024-07-16T17:41:16.838185Z",
     "shell.execute_reply.started": "2024-07-16T17:41:16.326575Z"
    },
    "tags": []
   },
   "outputs": [
    {
     "name": "stdout",
     "output_type": "stream",
     "text": [
      "Generating historical portfolio trades and positions...\n",
      "Done simulating.\n"
     ]
    }
   ],
   "source": [
    "backtest_result = portfolio.generate_positions()"
   ]
  },
  {
   "cell_type": "code",
   "execution_count": 18,
   "id": "481729a6-63c6-47d8-8f76-19ab9058e532",
   "metadata": {
    "execution": {
     "iopub.execute_input": "2024-07-16T17:41:16.839145Z",
     "iopub.status.busy": "2024-07-16T17:41:16.839073Z",
     "iopub.status.idle": "2024-07-16T17:41:16.857432Z",
     "shell.execute_reply": "2024-07-16T17:41:16.857223Z",
     "shell.execute_reply.started": "2024-07-16T17:41:16.839137Z"
    },
    "tags": []
   },
   "outputs": [
    {
     "name": "stdout",
     "output_type": "stream",
     "text": [
      "Initial timestamp                         2017-01-03 00:00:00\n",
      "Final timestamp                           2017-12-29 00:00:00\n",
      "Total portfolio return (%)                             17.22%\n",
      "Annualized portfolio return (%)                        17.49%\n",
      "Annualized excess portfolio return (%)                 14.42%\n",
      "Annualized excess risk (%)                              6.09%\n",
      "Information ratio (x)                                   2.37x\n",
      "Annualized risk over risk-free (%)                      6.09%\n",
      "Sharpe ratio (x)                                        2.37x\n",
      "Max drawdown (%)                                        3.21%\n",
      "Annual turnover (x)                                     9.97x\n",
      "Portfolio hit rate (%)                                  60.0%\n"
     ]
    }
   ],
   "source": [
    "backtest_result.summary"
   ]
  },
  {
   "cell_type": "code",
   "execution_count": null,
   "id": "e1aa49c9-c9f7-41d3-afe2-27c96de46b78",
   "metadata": {},
   "outputs": [],
   "source": []
  }
 ],
 "metadata": {
  "kernelspec": {
   "display_name": "Python 3 (ipykernel)",
   "language": "python",
   "name": "python3"
  },
  "language_info": {
   "codemirror_mode": {
    "name": "ipython",
    "version": 3
   },
   "file_extension": ".py",
   "mimetype": "text/x-python",
   "name": "python",
   "nbconvert_exporter": "python",
   "pygments_lexer": "ipython3",
   "version": "3.11.9"
  }
 },
 "nbformat": 4,
 "nbformat_minor": 5
}
