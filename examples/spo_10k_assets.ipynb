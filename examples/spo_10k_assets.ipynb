{
 "cells": [
  {
   "cell_type": "markdown",
   "id": "d97e2d2b-8dc8-40a0-af05-e2c24141cd5c",
   "metadata": {},
   "source": [
    "# 2.5k Asset Backtest Example - SPO"
   ]
  },
  {
   "cell_type": "markdown",
   "id": "abeaeead-9e67-4f5b-b093-63e2682ae766",
   "metadata": {},
   "source": [
    "## 1. Setup"
   ]
  },
  {
   "cell_type": "markdown",
   "id": "b755c267-921f-4a7c-9e06-36cc6e21fd66",
   "metadata": {
    "execution": {
     "iopub.execute_input": "2023-04-04T00:53:04.140680Z",
     "iopub.status.busy": "2023-04-04T00:53:04.139992Z",
     "iopub.status.idle": "2023-04-04T00:53:04.147601Z",
     "shell.execute_reply": "2023-04-04T00:53:04.146761Z",
     "shell.execute_reply.started": "2023-04-04T00:53:04.140628Z"
    }
   },
   "source": [
    "#### 1.1 Load InvestOS module"
   ]
  },
  {
   "cell_type": "code",
   "execution_count": 1,
   "id": "1bebdccf-dc6a-4007-848f-82ab2147192f",
   "metadata": {
    "execution": {
     "iopub.execute_input": "2023-06-07T01:04:41.968258Z",
     "iopub.status.busy": "2023-06-07T01:04:41.967280Z",
     "iopub.status.idle": "2023-06-07T01:04:42.408227Z",
     "shell.execute_reply": "2023-06-07T01:04:42.407952Z",
     "shell.execute_reply.started": "2023-06-07T01:04:41.968125Z"
    },
    "tags": []
   },
   "outputs": [],
   "source": [
    "# Add relative path to module lookup path...\n",
    "import os\n",
    "import sys\n",
    "sys.path.insert(0, os.path.abspath('..'))\n",
    "\n",
    "# ... then import module\n",
    "import investos as inv\n",
    "\n",
    "# Import other required modules\n",
    "import pandas as pd\n",
    "pd.options.mode.chained_assignment = None  # default='warn'\n",
    "pd.options.plotting.backend = \"plotly\"\n",
    "import numpy as np"
   ]
  },
  {
   "cell_type": "markdown",
   "id": "bbab7ef5-59d7-4e9a-b2a3-fd026a9f0f29",
   "metadata": {},
   "source": [
    "#### 1.2 Load historical stock prices and volumes"
   ]
  },
  {
   "cell_type": "markdown",
   "id": "2b66d7e2-bf1c-4b44-b943-20ba8b60eba9",
   "metadata": {},
   "source": [
    "Place in examples/data directory [data from Kaggle](https://www.kaggle.com/datasets/camnugent/sandp500/download?datasetVersionNumber=4)\n",
    "\n",
    "Note: you will need to create (and sign into) a free Kaggle account"
   ]
  },
  {
   "cell_type": "code",
   "execution_count": 2,
   "id": "beb942da-0c08-4b24-b118-a1cc6c1f0e9c",
   "metadata": {
    "execution": {
     "iopub.execute_input": "2023-06-07T01:04:42.408921Z",
     "iopub.status.busy": "2023-06-07T01:04:42.408793Z",
     "iopub.status.idle": "2023-06-07T01:04:43.347658Z",
     "shell.execute_reply": "2023-06-07T01:04:43.347242Z",
     "shell.execute_reply.started": "2023-06-07T01:04:42.408909Z"
    },
    "tags": []
   },
   "outputs": [],
   "source": [
    "# A. Load S&P 500 tickers, names, and industries\n",
    "dir_name = './data/'\n",
    "\n",
    "df = pd.read_parquet(\n",
    "    dir_name + '10k_synthetic.parquet'\n",
    ")"
   ]
  },
  {
   "cell_type": "markdown",
   "id": "e4be3e90-e195-417e-86de-58f5cd935cd0",
   "metadata": {},
   "source": [
    "#### 1.3 Split dfs into historical and forecast"
   ]
  },
  {
   "cell_type": "code",
   "execution_count": 3,
   "id": "a29c4d5c-c305-42e7-8725-f0b3d80ce0f5",
   "metadata": {
    "execution": {
     "iopub.execute_input": "2023-06-07T01:04:43.348221Z",
     "iopub.status.busy": "2023-06-07T01:04:43.348143Z",
     "iopub.status.idle": "2023-06-07T01:04:44.286946Z",
     "shell.execute_reply": "2023-06-07T01:04:44.286532Z",
     "shell.execute_reply.started": "2023-06-07T01:04:43.348210Z"
    },
    "tags": []
   },
   "outputs": [],
   "source": [
    "import datetime\n",
    "\n",
    "date_split_forecasts = datetime.date(2022, 1, 1)\n",
    "\n",
    "df_forecast = df[df.date >= date_split_forecasts][['asset', 'date', 'return']]\n",
    "df_actual = df"
   ]
  },
  {
   "cell_type": "markdown",
   "id": "13f44c8a-31af-48ed-a637-dc89d6dafe9b",
   "metadata": {},
   "source": [
    "#### 1.4 Create (fake) forecasts"
   ]
  },
  {
   "cell_type": "code",
   "execution_count": 4,
   "id": "a58d829d-72ee-4cdc-9d34-fdb23be33579",
   "metadata": {
    "execution": {
     "iopub.execute_input": "2023-06-07T01:04:44.288204Z",
     "iopub.status.busy": "2023-06-07T01:04:44.288125Z",
     "iopub.status.idle": "2023-06-07T01:04:45.276167Z",
     "shell.execute_reply": "2023-06-07T01:04:45.275816Z",
     "shell.execute_reply.started": "2023-06-07T01:04:44.288193Z"
    },
    "tags": []
   },
   "outputs": [
    {
     "name": "stdout",
     "output_type": "stream",
     "text": [
      "Median return: 0.0002618778449523214\n"
     ]
    }
   ],
   "source": [
    "np.random.seed(0)\n",
    "\n",
    "# Median (daily) return is VERY close to 0:\n",
    "print(\"Median return:\", df_forecast['return'].median())\n",
    "\n",
    "# Cap returns at +- 10%...\n",
    "df_forecast['return'] = df_forecast['return'].clip(-0.1, 0.1)\n",
    "\n",
    "# ... then reduce signal...\n",
    "df_forecast['return'] /= 10\n",
    "\n",
    "# ... then add guassian noise to daily returns\n",
    "std = df_actual[df_actual.date >= date_split_forecasts]['return'].var() ** 0.5\n",
    "noise = np.random.normal(0, std, size=df_forecast.shape[0])\n",
    "\n",
    "df_forecast['return'] = df_forecast['return'] + noise"
   ]
  },
  {
   "cell_type": "code",
   "execution_count": 5,
   "id": "881fc104-83a2-4fab-ad04-7149e0a5afaa",
   "metadata": {
    "execution": {
     "iopub.execute_input": "2023-06-07T01:04:45.276695Z",
     "iopub.status.busy": "2023-06-07T01:04:45.276623Z",
     "iopub.status.idle": "2023-06-07T01:04:46.171757Z",
     "shell.execute_reply": "2023-06-07T01:04:46.171488Z",
     "shell.execute_reply.started": "2023-06-07T01:04:45.276685Z"
    },
    "tags": []
   },
   "outputs": [
    {
     "name": "stdout",
     "output_type": "stream",
     "text": [
      "Return predictions have the right sign 53.2% of the time\n"
     ]
    }
   ],
   "source": [
    "# Make sure predictions aren't too accurate:\n",
    "\n",
    "agree_on_sign = np.sign(df_forecast['return']) == np.sign(\n",
    "    df_actual[df_actual.date >= date_split_forecasts]['return']\n",
    ")\n",
    "\n",
    "print(\n",
    "    \"Return predictions have the right sign %.1f%% of the time\" %\n",
    "    ((agree_on_sign.sum() / agree_on_sign.shape[0]) * 100)\n",
    ")"
   ]
  },
  {
   "cell_type": "markdown",
   "id": "d026a06a-bc7e-44d2-8c38-d543ba262464",
   "metadata": {},
   "source": [
    "## 2. Portfolio optimization"
   ]
  },
  {
   "cell_type": "markdown",
   "id": "cc7758a2-6755-4612-a85a-ad1e1bd38dc0",
   "metadata": {},
   "source": [
    "#### 2.1 Create portfolio optimization instance"
   ]
  },
  {
   "cell_type": "code",
   "execution_count": 6,
   "id": "374f227a-45e5-4568-bbf8-a49fc34cdd45",
   "metadata": {
    "execution": {
     "iopub.execute_input": "2023-06-07T01:04:46.172365Z",
     "iopub.status.busy": "2023-06-07T01:04:46.172278Z",
     "iopub.status.idle": "2023-06-07T01:04:46.174413Z",
     "shell.execute_reply": "2023-06-07T01:04:46.174115Z",
     "shell.execute_reply.started": "2023-06-07T01:04:46.172354Z"
    },
    "tags": []
   },
   "outputs": [],
   "source": [
    "from investos.portfolio_optimization.cost_model import *\n",
    "from investos.portfolio_optimization.constraint_model import *\n",
    "from investos.portfolio_optimization.risk_model import *"
   ]
  },
  {
   "cell_type": "code",
   "execution_count": 7,
   "id": "7285b37b-b49b-4ff6-8716-d21d74af7a66",
   "metadata": {
    "execution": {
     "iopub.execute_input": "2023-06-07T01:04:46.174891Z",
     "iopub.status.busy": "2023-06-07T01:04:46.174809Z",
     "iopub.status.idle": "2023-06-07T01:05:32.632036Z",
     "shell.execute_reply": "2023-06-07T01:05:32.631611Z",
     "shell.execute_reply.started": "2023-06-07T01:04:46.174881Z"
    },
    "tags": []
   },
   "outputs": [],
   "source": [
    "strategy = inv.portfolio_optimization.strategy.SPO(\n",
    "    costs = [\n",
    "        TradingCost() * 10, \n",
    "        HoldingCost(),\n",
    "    ],\n",
    "    constraints = [\n",
    "        MaxLeverageConstraint(limit=3.0),\n",
    "        MinWeightConstraint(), \n",
    "        MaxWeightConstraint(), \n",
    "        EqualLongShortConstraint() \n",
    "    ],\n",
    "    risk_model = None,\n",
    ")\n",
    "\n",
    "backtest = inv.portfolio_optimization.Backtester(\n",
    "    df_forecast,\n",
    "    df_actual,\n",
    "    strategy=strategy,\n",
    "    start_date=datetime.date(2022, 1, 1),\n",
    "    end_date=datetime.date(2022, 12, 30),\n",
    "    aum=300_000_000,\n",
    ")"
   ]
  },
  {
   "cell_type": "code",
   "execution_count": 8,
   "id": "d6db128d-c3e4-4264-a96c-8c756762b149",
   "metadata": {
    "execution": {
     "iopub.execute_input": "2023-06-07T01:05:32.632540Z",
     "iopub.status.busy": "2023-06-07T01:05:32.632466Z",
     "iopub.status.idle": "2023-06-07T01:44:16.284316Z",
     "shell.execute_reply": "2023-06-07T01:44:16.283733Z",
     "shell.execute_reply.started": "2023-06-07T01:05:32.632529Z"
    },
    "tags": []
   },
   "outputs": [
    {
     "name": "stdout",
     "output_type": "stream",
     "text": [
      "Optimizing...\n"
     ]
    },
    {
     "name": "stderr",
     "output_type": "stream",
     "text": [
      "/opt/homebrew/lib/python3.9/site-packages/cvxpy/problems/problem.py:161: UserWarning: Constraint #3 contains too many subexpressions. Consider vectorizing your CVXPY code to speed up compilation.\n",
      "  warnings.warn(f\"Constraint #{i} contains too many subexpressions. \"\n",
      "/opt/homebrew/lib/python3.9/site-packages/cvxpy/problems/problem.py:161: UserWarning: Constraint #11 contains too many subexpressions. Consider vectorizing your CVXPY code to speed up compilation.\n",
      "  warnings.warn(f\"Constraint #{i} contains too many subexpressions. \"\n"
     ]
    },
    {
     "name": "stdout",
     "output_type": "stream",
     "text": [
      "Propagating for 2022-01-03\n",
      "Propagating for 2022-01-04\n",
      "Propagating for 2022-01-05\n",
      "Propagating for 2022-01-06\n",
      "Propagating for 2022-01-07\n",
      "Propagating for 2022-01-10\n",
      "Propagating for 2022-01-11\n",
      "Propagating for 2022-01-12\n",
      "Propagating for 2022-01-13\n",
      "Propagating for 2022-01-14\n",
      "Propagating for 2022-01-18\n",
      "Propagating for 2022-01-19\n",
      "Propagating for 2022-01-20\n",
      "Propagating for 2022-01-21\n",
      "Propagating for 2022-01-24\n",
      "Propagating for 2022-01-25\n",
      "Propagating for 2022-01-26\n",
      "Propagating for 2022-01-27\n",
      "Propagating for 2022-01-28\n",
      "Propagating for 2022-01-31\n",
      "Propagating for 2022-02-01\n",
      "Propagating for 2022-02-02\n",
      "Propagating for 2022-02-03\n",
      "Propagating for 2022-02-04\n",
      "Propagating for 2022-02-07\n",
      "Propagating for 2022-02-08\n",
      "Propagating for 2022-02-09\n",
      "Propagating for 2022-02-10\n",
      "Propagating for 2022-02-11\n"
     ]
    },
    {
     "name": "stderr",
     "output_type": "stream",
     "text": [
      "/opt/homebrew/lib/python3.9/site-packages/cvxpy/problems/problem.py:1385: UserWarning: Solution may be inaccurate. Try another solver, adjusting the solver settings, or solve with verbose=True for more information.\n",
      "  warnings.warn(\n"
     ]
    },
    {
     "name": "stdout",
     "output_type": "stream",
     "text": [
      "Propagating for 2022-02-14\n",
      "Propagating for 2022-02-15\n",
      "Propagating for 2022-02-16\n",
      "Propagating for 2022-02-17\n",
      "Propagating for 2022-02-18\n",
      "Propagating for 2022-02-22\n",
      "Propagating for 2022-02-23\n",
      "Propagating for 2022-02-24\n",
      "Propagating for 2022-02-25\n",
      "Propagating for 2022-02-28\n",
      "Propagating for 2022-03-01\n",
      "Propagating for 2022-03-02\n",
      "Propagating for 2022-03-03\n",
      "Propagating for 2022-03-04\n",
      "Propagating for 2022-03-07\n",
      "Propagating for 2022-03-08\n",
      "Propagating for 2022-03-09\n",
      "Propagating for 2022-03-10\n",
      "Propagating for 2022-03-11\n",
      "Propagating for 2022-03-14\n",
      "Propagating for 2022-03-15\n",
      "Propagating for 2022-03-16\n",
      "Propagating for 2022-03-17\n",
      "Propagating for 2022-03-18\n",
      "Propagating for 2022-03-21\n",
      "Propagating for 2022-03-22\n",
      "Propagating for 2022-03-23\n",
      "Propagating for 2022-03-24\n",
      "Propagating for 2022-03-25\n",
      "Propagating for 2022-03-28\n",
      "Propagating for 2022-03-29\n",
      "Propagating for 2022-03-30\n",
      "Propagating for 2022-03-31\n",
      "Propagating for 2022-04-01\n",
      "Propagating for 2022-04-04\n",
      "Propagating for 2022-04-05\n",
      "Propagating for 2022-04-06\n",
      "Propagating for 2022-04-07\n",
      "Propagating for 2022-04-08\n",
      "Propagating for 2022-04-11\n",
      "Propagating for 2022-04-12\n",
      "Propagating for 2022-04-13\n",
      "Propagating for 2022-04-14\n",
      "Propagating for 2022-04-18\n",
      "Propagating for 2022-04-19\n",
      "Propagating for 2022-04-20\n",
      "Propagating for 2022-04-21\n",
      "Propagating for 2022-04-22\n",
      "Propagating for 2022-04-25\n",
      "Propagating for 2022-04-26\n",
      "Propagating for 2022-04-27\n",
      "Propagating for 2022-04-28\n",
      "Propagating for 2022-04-29\n",
      "Propagating for 2022-05-02\n",
      "Propagating for 2022-05-03\n",
      "Propagating for 2022-05-04\n"
     ]
    },
    {
     "ename": "KeyboardInterrupt",
     "evalue": "",
     "output_type": "error",
     "traceback": [
      "\u001b[0;31m---------------------------------------------------------------------------\u001b[0m",
      "\u001b[0;31mKeyboardInterrupt\u001b[0m                         Traceback (most recent call last)",
      "Input \u001b[0;32mIn [8]\u001b[0m, in \u001b[0;36m<module>\u001b[0;34m\u001b[0m\n\u001b[1;32m      1\u001b[0m \u001b[38;5;66;03m# Started at 6:15 pm\u001b[39;00m\n\u001b[1;32m      2\u001b[0m \u001b[38;5;66;03m# Ended at []\u001b[39;00m\n\u001b[0;32m----> 3\u001b[0m report \u001b[38;5;241m=\u001b[39m \u001b[43mbacktest\u001b[49m\u001b[38;5;241;43m.\u001b[39;49m\u001b[43moptimize\u001b[49m\u001b[43m(\u001b[49m\u001b[43m)\u001b[49m\n",
      "File \u001b[0;32m~/workspace/investos/investos/investos/portfolio_optimization/backtester.py:258\u001b[0m, in \u001b[0;36mBacktester.optimize\u001b[0;34m(self)\u001b[0m\n\u001b[1;32m    256\u001b[0m \u001b[38;5;66;03m# Propagate through future trades and resulting positions\u001b[39;00m\n\u001b[1;32m    257\u001b[0m \u001b[38;5;28;01mfor\u001b[39;00m t \u001b[38;5;129;01min\u001b[39;00m \u001b[38;5;28mself\u001b[39m\u001b[38;5;241m.\u001b[39mforecast[\u001b[38;5;124m'\u001b[39m\u001b[38;5;124mreturn\u001b[39m\u001b[38;5;124m'\u001b[39m]\u001b[38;5;241m.\u001b[39mindex:\n\u001b[0;32m--> 258\u001b[0m     u \u001b[38;5;241m=\u001b[39m \u001b[38;5;28;43mself\u001b[39;49m\u001b[38;5;241;43m.\u001b[39;49m\u001b[43mstrategy\u001b[49m\u001b[38;5;241;43m.\u001b[39;49m\u001b[43mgenerate_trade_list\u001b[49m\u001b[43m(\u001b[49m\u001b[43mh_next\u001b[49m\u001b[43m,\u001b[49m\u001b[43m \u001b[49m\u001b[43mt\u001b[49m\u001b[43m)\u001b[49m\n\u001b[1;32m    259\u001b[0m     h_next, u \u001b[38;5;241m=\u001b[39m \u001b[38;5;28mself\u001b[39m\u001b[38;5;241m.\u001b[39mpropagate(h_next, u, t)\n\u001b[1;32m    260\u001b[0m     \u001b[38;5;28mself\u001b[39m\u001b[38;5;241m.\u001b[39mbacktest\u001b[38;5;241m.\u001b[39msave_position(t, u, h_next)\n",
      "File \u001b[0;32m~/workspace/investos/investos/investos/portfolio_optimization/strategy/spo.py:93\u001b[0m, in \u001b[0;36mSPO.generate_trade_list\u001b[0;34m(self, holdings, t)\u001b[0m\n\u001b[1;32m     90\u001b[0m \u001b[38;5;28mself\u001b[39m\u001b[38;5;241m.\u001b[39mprob \u001b[38;5;241m=\u001b[39m cvx\u001b[38;5;241m.\u001b[39mProblem(objective, constraints) \u001b[38;5;66;03m# Trades need to 0 out, i.e. cash account must adjust to make everything net to 0\u001b[39;00m\n\u001b[1;32m     92\u001b[0m \u001b[38;5;28;01mtry\u001b[39;00m:\n\u001b[0;32m---> 93\u001b[0m     \u001b[38;5;28;43mself\u001b[39;49m\u001b[38;5;241;43m.\u001b[39;49m\u001b[43mprob\u001b[49m\u001b[38;5;241;43m.\u001b[39;49m\u001b[43msolve\u001b[49m\u001b[43m(\u001b[49m\u001b[43msolver\u001b[49m\u001b[38;5;241;43m=\u001b[39;49m\u001b[38;5;28;43mself\u001b[39;49m\u001b[38;5;241;43m.\u001b[39;49m\u001b[43msolver\u001b[49m\u001b[43m,\u001b[49m\u001b[43m \u001b[49m\u001b[38;5;241;43m*\u001b[39;49m\u001b[38;5;241;43m*\u001b[39;49m\u001b[38;5;28;43mself\u001b[39;49m\u001b[38;5;241;43m.\u001b[39;49m\u001b[43msolver_opts\u001b[49m\u001b[43m)\u001b[49m\n\u001b[1;32m     95\u001b[0m     \u001b[38;5;28;01mif\u001b[39;00m \u001b[38;5;28mself\u001b[39m\u001b[38;5;241m.\u001b[39mprob\u001b[38;5;241m.\u001b[39mstatus \u001b[38;5;241m==\u001b[39m \u001b[38;5;124m'\u001b[39m\u001b[38;5;124munbounded\u001b[39m\u001b[38;5;124m'\u001b[39m:\n\u001b[1;32m     96\u001b[0m         \u001b[38;5;28mprint\u001b[39m(\u001b[38;5;124mf\u001b[39m\u001b[38;5;124m\"\u001b[39m\u001b[38;5;124mThe problem is unbounded at \u001b[39m\u001b[38;5;132;01m{\u001b[39;00mt\u001b[38;5;132;01m}\u001b[39;00m\u001b[38;5;124m.\u001b[39m\u001b[38;5;124m\"\u001b[39m)\n",
      "File \u001b[0;32m/opt/homebrew/lib/python3.9/site-packages/cvxpy/problems/problem.py:493\u001b[0m, in \u001b[0;36mProblem.solve\u001b[0;34m(self, *args, **kwargs)\u001b[0m\n\u001b[1;32m    491\u001b[0m \u001b[38;5;28;01melse\u001b[39;00m:\n\u001b[1;32m    492\u001b[0m     solve_func \u001b[38;5;241m=\u001b[39m Problem\u001b[38;5;241m.\u001b[39m_solve\n\u001b[0;32m--> 493\u001b[0m \u001b[38;5;28;01mreturn\u001b[39;00m \u001b[43msolve_func\u001b[49m\u001b[43m(\u001b[49m\u001b[38;5;28;43mself\u001b[39;49m\u001b[43m,\u001b[49m\u001b[43m \u001b[49m\u001b[38;5;241;43m*\u001b[39;49m\u001b[43margs\u001b[49m\u001b[43m,\u001b[49m\u001b[43m \u001b[49m\u001b[38;5;241;43m*\u001b[39;49m\u001b[38;5;241;43m*\u001b[39;49m\u001b[43mkwargs\u001b[49m\u001b[43m)\u001b[49m\n",
      "File \u001b[0;32m/opt/homebrew/lib/python3.9/site-packages/cvxpy/problems/problem.py:1054\u001b[0m, in \u001b[0;36mProblem._solve\u001b[0;34m(self, solver, warm_start, verbose, gp, qcp, requires_grad, enforce_dpp, ignore_dpp, canon_backend, **kwargs)\u001b[0m\n\u001b[1;32m   1051\u001b[0m         \u001b[38;5;28mself\u001b[39m\u001b[38;5;241m.\u001b[39munpack(chain\u001b[38;5;241m.\u001b[39mretrieve(soln))\n\u001b[1;32m   1052\u001b[0m         \u001b[38;5;28;01mreturn\u001b[39;00m \u001b[38;5;28mself\u001b[39m\u001b[38;5;241m.\u001b[39mvalue\n\u001b[0;32m-> 1054\u001b[0m data, solving_chain, inverse_data \u001b[38;5;241m=\u001b[39m \u001b[38;5;28;43mself\u001b[39;49m\u001b[38;5;241;43m.\u001b[39;49m\u001b[43mget_problem_data\u001b[49m\u001b[43m(\u001b[49m\n\u001b[1;32m   1055\u001b[0m \u001b[43m    \u001b[49m\u001b[43msolver\u001b[49m\u001b[43m,\u001b[49m\u001b[43m \u001b[49m\u001b[43mgp\u001b[49m\u001b[43m,\u001b[49m\u001b[43m \u001b[49m\u001b[43menforce_dpp\u001b[49m\u001b[43m,\u001b[49m\u001b[43m \u001b[49m\u001b[43mignore_dpp\u001b[49m\u001b[43m,\u001b[49m\u001b[43m \u001b[49m\u001b[43mverbose\u001b[49m\u001b[43m,\u001b[49m\u001b[43m \u001b[49m\u001b[43mcanon_backend\u001b[49m\u001b[43m,\u001b[49m\u001b[43m \u001b[49m\u001b[43mkwargs\u001b[49m\n\u001b[1;32m   1056\u001b[0m \u001b[43m\u001b[49m\u001b[43m)\u001b[49m\n\u001b[1;32m   1058\u001b[0m \u001b[38;5;28;01mif\u001b[39;00m verbose:\n\u001b[1;32m   1059\u001b[0m     \u001b[38;5;28mprint\u001b[39m(_NUM_SOLVER_STR)\n",
      "File \u001b[0;32m/opt/homebrew/lib/python3.9/site-packages/cvxpy/problems/problem.py:681\u001b[0m, in \u001b[0;36mProblem.get_problem_data\u001b[0;34m(self, solver, gp, enforce_dpp, ignore_dpp, verbose, canon_backend, solver_opts)\u001b[0m\n\u001b[1;32m    678\u001b[0m     s\u001b[38;5;241m.\u001b[39mLOGGER\u001b[38;5;241m.\u001b[39minfo(\n\u001b[1;32m    679\u001b[0m              \u001b[38;5;124m'\u001b[39m\u001b[38;5;124mCompiling problem (target solver=\u001b[39m\u001b[38;5;132;01m%s\u001b[39;00m\u001b[38;5;124m).\u001b[39m\u001b[38;5;124m'\u001b[39m, solver_name)\n\u001b[1;32m    680\u001b[0m     s\u001b[38;5;241m.\u001b[39mLOGGER\u001b[38;5;241m.\u001b[39minfo(\u001b[38;5;124m'\u001b[39m\u001b[38;5;124mReduction chain: \u001b[39m\u001b[38;5;132;01m%s\u001b[39;00m\u001b[38;5;124m'\u001b[39m, reduction_chain_str)\n\u001b[0;32m--> 681\u001b[0m data, inverse_data \u001b[38;5;241m=\u001b[39m \u001b[43msolving_chain\u001b[49m\u001b[38;5;241;43m.\u001b[39;49m\u001b[43mapply\u001b[49m\u001b[43m(\u001b[49m\u001b[38;5;28;43mself\u001b[39;49m\u001b[43m,\u001b[49m\u001b[43m \u001b[49m\u001b[43mverbose\u001b[49m\u001b[43m)\u001b[49m\n\u001b[1;32m    682\u001b[0m safe_to_cache \u001b[38;5;241m=\u001b[39m (\n\u001b[1;32m    683\u001b[0m     \u001b[38;5;28misinstance\u001b[39m(data, \u001b[38;5;28mdict\u001b[39m)\n\u001b[1;32m    684\u001b[0m     \u001b[38;5;129;01mand\u001b[39;00m s\u001b[38;5;241m.\u001b[39mPARAM_PROB \u001b[38;5;129;01min\u001b[39;00m data\n\u001b[1;32m    685\u001b[0m     \u001b[38;5;129;01mand\u001b[39;00m \u001b[38;5;129;01mnot\u001b[39;00m \u001b[38;5;28many\u001b[39m(\u001b[38;5;28misinstance\u001b[39m(reduction, EvalParams)\n\u001b[1;32m    686\u001b[0m                 \u001b[38;5;28;01mfor\u001b[39;00m reduction \u001b[38;5;129;01min\u001b[39;00m solving_chain\u001b[38;5;241m.\u001b[39mreductions)\n\u001b[1;32m    687\u001b[0m )\n\u001b[1;32m    688\u001b[0m \u001b[38;5;28mself\u001b[39m\u001b[38;5;241m.\u001b[39m_compilation_time \u001b[38;5;241m=\u001b[39m time\u001b[38;5;241m.\u001b[39mtime() \u001b[38;5;241m-\u001b[39m start\n",
      "File \u001b[0;32m/opt/homebrew/lib/python3.9/site-packages/cvxpy/reductions/chain.py:76\u001b[0m, in \u001b[0;36mChain.apply\u001b[0;34m(self, problem, verbose)\u001b[0m\n\u001b[1;32m     74\u001b[0m     \u001b[38;5;28;01mif\u001b[39;00m verbose:\n\u001b[1;32m     75\u001b[0m         s\u001b[38;5;241m.\u001b[39mLOGGER\u001b[38;5;241m.\u001b[39minfo(\u001b[38;5;124m'\u001b[39m\u001b[38;5;124mApplying reduction \u001b[39m\u001b[38;5;132;01m%s\u001b[39;00m\u001b[38;5;124m'\u001b[39m, \u001b[38;5;28mtype\u001b[39m(r)\u001b[38;5;241m.\u001b[39m\u001b[38;5;18m__name__\u001b[39m)\n\u001b[0;32m---> 76\u001b[0m     problem, inv \u001b[38;5;241m=\u001b[39m \u001b[43mr\u001b[49m\u001b[38;5;241;43m.\u001b[39;49m\u001b[43mapply\u001b[49m\u001b[43m(\u001b[49m\u001b[43mproblem\u001b[49m\u001b[43m)\u001b[49m\n\u001b[1;32m     77\u001b[0m     inverse_data\u001b[38;5;241m.\u001b[39mappend(inv)\n\u001b[1;32m     78\u001b[0m \u001b[38;5;28;01mreturn\u001b[39;00m problem, inverse_data\n",
      "File \u001b[0;32m/opt/homebrew/lib/python3.9/site-packages/cvxpy/reductions/qp2quad_form/qp_matrix_stuffing.py:253\u001b[0m, in \u001b[0;36mQpMatrixStuffing.apply\u001b[0;34m(self, problem)\u001b[0m\n\u001b[1;32m    251\u001b[0m \u001b[38;5;66;03m# Batch expressions together, then split apart.\u001b[39;00m\n\u001b[1;32m    252\u001b[0m expr_list \u001b[38;5;241m=\u001b[39m [arg \u001b[38;5;28;01mfor\u001b[39;00m c \u001b[38;5;129;01min\u001b[39;00m ordered_cons \u001b[38;5;28;01mfor\u001b[39;00m arg \u001b[38;5;129;01min\u001b[39;00m c\u001b[38;5;241m.\u001b[39margs]\n\u001b[0;32m--> 253\u001b[0m params_to_Ab \u001b[38;5;241m=\u001b[39m \u001b[43mextractor\u001b[49m\u001b[38;5;241;43m.\u001b[39;49m\u001b[43maffine\u001b[49m\u001b[43m(\u001b[49m\u001b[43mexpr_list\u001b[49m\u001b[43m)\u001b[49m\n\u001b[1;32m    255\u001b[0m inverse_data\u001b[38;5;241m.\u001b[39mminimize \u001b[38;5;241m=\u001b[39m \u001b[38;5;28mtype\u001b[39m(problem\u001b[38;5;241m.\u001b[39mobjective) \u001b[38;5;241m==\u001b[39m Minimize\n\u001b[1;32m    256\u001b[0m new_prob \u001b[38;5;241m=\u001b[39m ParamQuadProg(params_to_P,\n\u001b[1;32m    257\u001b[0m                          params_to_q,\n\u001b[1;32m    258\u001b[0m                          flattened_variable,\n\u001b[0;32m   (...)\u001b[0m\n\u001b[1;32m    263\u001b[0m                          problem\u001b[38;5;241m.\u001b[39mparameters(),\n\u001b[1;32m    264\u001b[0m                          inverse_data\u001b[38;5;241m.\u001b[39mparam_id_map)\n",
      "File \u001b[0;32m/opt/homebrew/lib/python3.9/site-packages/cvxpy/utilities/coeff_extractor.py:84\u001b[0m, in \u001b[0;36mCoeffExtractor.affine\u001b[0;34m(self, expr)\u001b[0m\n\u001b[1;32m     82\u001b[0m num_rows \u001b[38;5;241m=\u001b[39m \u001b[38;5;28msum\u001b[39m([e\u001b[38;5;241m.\u001b[39msize \u001b[38;5;28;01mfor\u001b[39;00m e \u001b[38;5;129;01min\u001b[39;00m expr_list])\n\u001b[1;32m     83\u001b[0m op_list \u001b[38;5;241m=\u001b[39m [e\u001b[38;5;241m.\u001b[39mcanonical_form[\u001b[38;5;241m0\u001b[39m] \u001b[38;5;28;01mfor\u001b[39;00m e \u001b[38;5;129;01min\u001b[39;00m expr_list]\n\u001b[0;32m---> 84\u001b[0m \u001b[38;5;28;01mreturn\u001b[39;00m \u001b[43mcanonInterface\u001b[49m\u001b[38;5;241;43m.\u001b[39;49m\u001b[43mget_problem_matrix\u001b[49m\u001b[43m(\u001b[49m\u001b[43mop_list\u001b[49m\u001b[43m,\u001b[49m\n\u001b[1;32m     85\u001b[0m \u001b[43m                                         \u001b[49m\u001b[38;5;28;43mself\u001b[39;49m\u001b[38;5;241;43m.\u001b[39;49m\u001b[43mx_length\u001b[49m\u001b[43m,\u001b[49m\n\u001b[1;32m     86\u001b[0m \u001b[43m                                         \u001b[49m\u001b[38;5;28;43mself\u001b[39;49m\u001b[38;5;241;43m.\u001b[39;49m\u001b[43mid_map\u001b[49m\u001b[43m,\u001b[49m\n\u001b[1;32m     87\u001b[0m \u001b[43m                                         \u001b[49m\u001b[38;5;28;43mself\u001b[39;49m\u001b[38;5;241;43m.\u001b[39;49m\u001b[43mparam_to_size\u001b[49m\u001b[43m,\u001b[49m\n\u001b[1;32m     88\u001b[0m \u001b[43m                                         \u001b[49m\u001b[38;5;28;43mself\u001b[39;49m\u001b[38;5;241;43m.\u001b[39;49m\u001b[43mparam_id_map\u001b[49m\u001b[43m,\u001b[49m\n\u001b[1;32m     89\u001b[0m \u001b[43m                                         \u001b[49m\u001b[43mnum_rows\u001b[49m\u001b[43m,\u001b[49m\n\u001b[1;32m     90\u001b[0m \u001b[43m                                         \u001b[49m\u001b[38;5;28;43mself\u001b[39;49m\u001b[38;5;241;43m.\u001b[39;49m\u001b[43mcanon_backend\u001b[49m\u001b[43m)\u001b[49m\n",
      "File \u001b[0;32m/opt/homebrew/lib/python3.9/site-packages/cvxpy/cvxcore/python/canonInterface.py:339\u001b[0m, in \u001b[0;36mget_problem_matrix\u001b[0;34m(linOps, var_length, id_to_col, param_to_size, param_to_col, constr_length, canon_backend)\u001b[0m\n\u001b[1;32m    336\u001b[0m     tree \u001b[38;5;241m=\u001b[39m linPy_to_linC[lin]\n\u001b[1;32m    337\u001b[0m     lin_vec\u001b[38;5;241m.\u001b[39mpush_back(tree)\n\u001b[0;32m--> 339\u001b[0m problemData \u001b[38;5;241m=\u001b[39m \u001b[43mcvxcore\u001b[49m\u001b[38;5;241;43m.\u001b[39;49m\u001b[43mbuild_matrix\u001b[49m\u001b[43m(\u001b[49m\u001b[43mlin_vec\u001b[49m\u001b[43m,\u001b[49m\n\u001b[1;32m    340\u001b[0m \u001b[43m                                   \u001b[49m\u001b[38;5;28;43mint\u001b[39;49m\u001b[43m(\u001b[49m\u001b[43mvar_length\u001b[49m\u001b[43m)\u001b[49m\u001b[43m,\u001b[49m\n\u001b[1;32m    341\u001b[0m \u001b[43m                                   \u001b[49m\u001b[43mid_to_col_C\u001b[49m\u001b[43m,\u001b[49m\n\u001b[1;32m    342\u001b[0m \u001b[43m                                   \u001b[49m\u001b[43mparam_to_size_C\u001b[49m\u001b[43m,\u001b[49m\n\u001b[1;32m    343\u001b[0m \u001b[43m                                   \u001b[49m\u001b[43ms\u001b[49m\u001b[38;5;241;43m.\u001b[39;49m\u001b[43mget_num_threads\u001b[49m\u001b[43m(\u001b[49m\u001b[43m)\u001b[49m\u001b[43m)\u001b[49m\n\u001b[1;32m    345\u001b[0m \u001b[38;5;66;03m# Populate tensors with info from problemData.\u001b[39;00m\n\u001b[1;32m    346\u001b[0m tensor_V \u001b[38;5;241m=\u001b[39m {}\n",
      "File \u001b[0;32m/opt/homebrew/lib/python3.9/site-packages/cvxpy/cvxcore/python/cvxcore.py:1006\u001b[0m, in \u001b[0;36mbuild_matrix\u001b[0;34m(*args)\u001b[0m\n\u001b[1;32m   1005\u001b[0m \u001b[38;5;28;01mdef\u001b[39;00m \u001b[38;5;21mbuild_matrix\u001b[39m(\u001b[38;5;241m*\u001b[39margs) \u001b[38;5;241m-\u001b[39m\u001b[38;5;241m>\u001b[39m \u001b[38;5;124m\"\u001b[39m\u001b[38;5;124mProblemData\u001b[39m\u001b[38;5;124m\"\u001b[39m:\n\u001b[0;32m-> 1006\u001b[0m     \u001b[38;5;28;01mreturn\u001b[39;00m \u001b[43m_cvxcore\u001b[49m\u001b[38;5;241;43m.\u001b[39;49m\u001b[43mbuild_matrix\u001b[49m\u001b[43m(\u001b[49m\u001b[38;5;241;43m*\u001b[39;49m\u001b[43margs\u001b[49m\u001b[43m)\u001b[49m\n",
      "\u001b[0;31mKeyboardInterrupt\u001b[0m: "
     ]
    }
   ],
   "source": [
    "# Started at 6:15 pm\n",
    "# Ended at []\n",
    "report = backtest.optimize()"
   ]
  },
  {
   "cell_type": "markdown",
   "id": "1758586f-6633-4c9b-a4ce-57a559d6c791",
   "metadata": {},
   "source": [
    "#### 2.2 Backtest results"
   ]
  },
  {
   "cell_type": "code",
   "execution_count": null,
   "id": "60fc8feb-1f18-4538-a512-9efaa9ebba9e",
   "metadata": {
    "execution": {
     "iopub.status.busy": "2023-06-07T01:44:16.284647Z",
     "iopub.status.idle": "2023-06-07T01:44:16.284774Z",
     "shell.execute_reply": "2023-06-07T01:44:16.284705Z",
     "shell.execute_reply.started": "2023-06-07T01:44:16.284698Z"
    },
    "tags": []
   },
   "outputs": [],
   "source": [
    "fig = report.v.plot()\n",
    "fig.layout.update(showlegend=False)\n",
    "fig.show()"
   ]
  },
  {
   "cell_type": "code",
   "execution_count": null,
   "id": "4aa6fd1b-fb36-4cbe-95d0-89492e13467b",
   "metadata": {
    "execution": {
     "iopub.status.busy": "2023-06-07T01:44:16.285357Z",
     "iopub.status.idle": "2023-06-07T01:44:16.285635Z",
     "shell.execute_reply": "2023-06-07T01:44:16.285557Z",
     "shell.execute_reply.started": "2023-06-07T01:44:16.285547Z"
    },
    "tags": []
   },
   "outputs": [],
   "source": [
    "report.summary"
   ]
  },
  {
   "cell_type": "markdown",
   "id": "a145a755-dedd-47eb-bc33-9bbdda724d7c",
   "metadata": {
    "tags": []
   },
   "source": [
    "#### 2.3 Examples\n",
    "\n",
    "**A) Default options:**\n",
    "\n",
    "- Long short\n",
    "- Equal long short\n",
    "- 2x max leverage (i.e. exposure)\n",
    "- 100MM AUM\n",
    "- Default trading and holding cost models\n",
    "- Default (long and short) position weight constraints [2.5%]\n",
    "\n",
    "```python\n",
    "# Code:\n",
    "\n",
    "strategy = inv.portfolio_optimization.strategy.SPO()\n",
    "\n",
    "backtest = inv.portfolio_optimization.Backtester(\n",
    "    df_forecast,\n",
    "    df_actual,\n",
    "    strategy=strategy,\n",
    ")\n",
    "```\n",
    "\n",
    "**B) Same as A, but 200MM AUM:**\n",
    "\n",
    "```python\n",
    "# Code:\n",
    "\n",
    "strategy = inv.portfolio_optimization.strategy.SPO()\n",
    "\n",
    "backtest = inv.portfolio_optimization.Backtester(\n",
    "    df_forecast,\n",
    "    df_actual,\n",
    "    strategy=strategy,\n",
    "    aum=200_000_000,\n",
    ")\n",
    "```\n",
    "\n",
    "**C) Same as B, but half price movement on trading:**\n",
    "\n",
    "```python\n",
    "# Code:\n",
    "\n",
    "strategy = inv.portfolio_optimization.strategy.SPO(\n",
    "    costs = [\n",
    "        TradingCost(price_movement_sensitivity=0.5), \n",
    "        HoldingCost(),\n",
    "    ],\n",
    ")\n",
    "\n",
    "backtest = inv.portfolio_optimization.Backtester(\n",
    "    df_forecast,\n",
    "    df_actual,\n",
    "    strategy=strategy,\n",
    "    aum=200_000_000,\n",
    ")\n",
    "```\n",
    "\n",
    "**D) Same as A, but long only (with no leverage):**\n",
    "\n",
    "```python\n",
    "# Code:\n",
    "\n",
    "strategy = inv.portfolio_optimization.strategy.SPO(\n",
    "    constraints = [\n",
    "        LongOnlyConstraint(),\n",
    "        MaxWeightConstraint(), \n",
    "    ],\n",
    ")\n",
    "\n",
    "backtest = inv.portfolio_optimization.Backtester(\n",
    "    df_forecast,\n",
    "    df_actual,\n",
    "    strategy=strategy,\n",
    ")\n",
    "```\n",
    "\n",
    "**E) Same as A, but 1x leverage:**\n",
    "\n",
    "```python\n",
    "# Code:\n",
    "\n",
    "strategy = inv.portfolio_optimization.strategy.SPO(\n",
    "    constraints = [\n",
    "        MaxLeverageConstraint(limit=1.0),\n",
    "        MinWeightConstraint(), \n",
    "        MaxWeightConstraint(), \n",
    "        EqualLongShortConstraint() \n",
    "    ],\n",
    ")\n",
    "\n",
    "backtest = inv.portfolio_optimization.Backtester(\n",
    "    df_forecast,\n",
    "    df_actual,\n",
    "    strategy=strategy,\n",
    ")\n",
    "```\n",
    "\n",
    "**F) Same as A, but discourage costly trades by 10x:**\n",
    "\n",
    "```python\n",
    "# Code:\n",
    "\n",
    "strategy = inv.portfolio_optimization.strategy.SPO(\n",
    "    costs = [\n",
    "        TradingCost() * 10, \n",
    "        HoldingCost(),\n",
    "    ],\n",
    ")\n",
    "\n",
    "backtest = inv.portfolio_optimization.Backtester(\n",
    "    df_forecast,\n",
    "    df_actual,\n",
    "    strategy=strategy,\n",
    "    start_date='2016-07-01',\n",
    "    end_date='2018-01-01',\n",
    ")\n",
    "```"
   ]
  },
  {
   "cell_type": "code",
   "execution_count": null,
   "id": "bdfc64d0-d80b-49e5-b834-b94aa175326d",
   "metadata": {},
   "outputs": [],
   "source": []
  }
 ],
 "metadata": {
  "kernelspec": {
   "display_name": "Python 3 (ipykernel)",
   "language": "python",
   "name": "python3"
  },
  "language_info": {
   "codemirror_mode": {
    "name": "ipython",
    "version": 3
   },
   "file_extension": ".py",
   "mimetype": "text/x-python",
   "name": "python",
   "nbconvert_exporter": "python",
   "pygments_lexer": "ipython3",
   "version": "3.9.13"
  }
 },
 "nbformat": 4,
 "nbformat_minor": 5
}
