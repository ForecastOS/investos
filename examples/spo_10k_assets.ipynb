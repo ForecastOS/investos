{
 "cells": [
  {
   "cell_type": "markdown",
   "id": "d97e2d2b-8dc8-40a0-af05-e2c24141cd5c",
   "metadata": {},
   "source": [
    "# 2.5k Asset Backtest Example - SPO"
   ]
  },
  {
   "cell_type": "markdown",
   "id": "abeaeead-9e67-4f5b-b093-63e2682ae766",
   "metadata": {},
   "source": [
    "## 1. Setup"
   ]
  },
  {
   "cell_type": "markdown",
   "id": "b755c267-921f-4a7c-9e06-36cc6e21fd66",
   "metadata": {
    "execution": {
     "iopub.execute_input": "2023-04-04T00:53:04.140680Z",
     "iopub.status.busy": "2023-04-04T00:53:04.139992Z",
     "iopub.status.idle": "2023-04-04T00:53:04.147601Z",
     "shell.execute_reply": "2023-04-04T00:53:04.146761Z",
     "shell.execute_reply.started": "2023-04-04T00:53:04.140628Z"
    }
   },
   "source": [
    "#### 1.1 Load InvestOS module"
   ]
  },
  {
   "cell_type": "code",
   "execution_count": 1,
   "id": "1bebdccf-dc6a-4007-848f-82ab2147192f",
   "metadata": {
    "execution": {
     "iopub.execute_input": "2023-06-23T00:06:04.681606Z",
     "iopub.status.busy": "2023-06-23T00:06:04.680770Z",
     "iopub.status.idle": "2023-06-23T00:06:05.121923Z",
     "shell.execute_reply": "2023-06-23T00:06:05.121568Z",
     "shell.execute_reply.started": "2023-06-23T00:06:04.681511Z"
    },
    "tags": []
   },
   "outputs": [],
   "source": [
    "# Add relative path to module lookup path...\n",
    "import os\n",
    "import sys\n",
    "sys.path.insert(0, os.path.abspath('..'))\n",
    "\n",
    "# ... then import module\n",
    "import investos as inv\n",
    "\n",
    "# Import other required modules\n",
    "import pandas as pd\n",
    "pd.options.mode.chained_assignment = None  # default='warn'\n",
    "pd.options.plotting.backend = \"plotly\"\n",
    "import numpy as np"
   ]
  },
  {
   "cell_type": "markdown",
   "id": "bbab7ef5-59d7-4e9a-b2a3-fd026a9f0f29",
   "metadata": {},
   "source": [
    "#### 1.2 Load historical stock prices and volumes"
   ]
  },
  {
   "cell_type": "markdown",
   "id": "2b66d7e2-bf1c-4b44-b943-20ba8b60eba9",
   "metadata": {},
   "source": [
    "Place in examples/data directory [data from Kaggle](https://www.kaggle.com/datasets/camnugent/sandp500/download?datasetVersionNumber=4)\n",
    "\n",
    "Note: you will need to create (and sign into) a free Kaggle account"
   ]
  },
  {
   "cell_type": "code",
   "execution_count": 2,
   "id": "beb942da-0c08-4b24-b118-a1cc6c1f0e9c",
   "metadata": {
    "execution": {
     "iopub.execute_input": "2023-06-23T00:06:05.122415Z",
     "iopub.status.busy": "2023-06-23T00:06:05.122344Z",
     "iopub.status.idle": "2023-06-23T00:06:06.617738Z",
     "shell.execute_reply": "2023-06-23T00:06:06.616787Z",
     "shell.execute_reply.started": "2023-06-23T00:06:05.122406Z"
    },
    "tags": []
   },
   "outputs": [],
   "source": [
    "# A. Load S&P 500 tickers, names, and industries\n",
    "dir_name = './data/'\n",
    "\n",
    "df = pd.read_parquet(\n",
    "    dir_name + '10k_synthetic.parquet'\n",
    ")"
   ]
  },
  {
   "cell_type": "markdown",
   "id": "e4be3e90-e195-417e-86de-58f5cd935cd0",
   "metadata": {},
   "source": [
    "#### 1.3 Split dfs into historical and forecast"
   ]
  },
  {
   "cell_type": "code",
   "execution_count": 3,
   "id": "a29c4d5c-c305-42e7-8725-f0b3d80ce0f5",
   "metadata": {
    "execution": {
     "iopub.execute_input": "2023-06-23T00:06:06.619159Z",
     "iopub.status.busy": "2023-06-23T00:06:06.619040Z",
     "iopub.status.idle": "2023-06-23T00:06:07.576829Z",
     "shell.execute_reply": "2023-06-23T00:06:07.576481Z",
     "shell.execute_reply.started": "2023-06-23T00:06:06.619147Z"
    },
    "tags": []
   },
   "outputs": [],
   "source": [
    "import datetime\n",
    "\n",
    "date_split_forecasts = datetime.date(2022, 1, 1)\n",
    "\n",
    "df_forecast = df[df.date >= date_split_forecasts][['asset', 'date', 'return']]\n",
    "df_actual = df"
   ]
  },
  {
   "cell_type": "markdown",
   "id": "13f44c8a-31af-48ed-a637-dc89d6dafe9b",
   "metadata": {},
   "source": [
    "#### 1.4 Create (fake) forecasts"
   ]
  },
  {
   "cell_type": "code",
   "execution_count": 4,
   "id": "a58d829d-72ee-4cdc-9d34-fdb23be33579",
   "metadata": {
    "execution": {
     "iopub.execute_input": "2023-06-23T00:06:07.578794Z",
     "iopub.status.busy": "2023-06-23T00:06:07.578632Z",
     "iopub.status.idle": "2023-06-23T00:06:08.406429Z",
     "shell.execute_reply": "2023-06-23T00:06:08.405954Z",
     "shell.execute_reply.started": "2023-06-23T00:06:07.578774Z"
    },
    "tags": []
   },
   "outputs": [
    {
     "name": "stdout",
     "output_type": "stream",
     "text": [
      "Median return: 0.0002618778449523214\n"
     ]
    }
   ],
   "source": [
    "np.random.seed(0)\n",
    "\n",
    "# Median (daily) return is VERY close to 0:\n",
    "print(\"Median return:\", df_forecast['return'].median())\n",
    "\n",
    "# Cap returns at +- 10%...\n",
    "df_forecast['return'] = df_forecast['return'].clip(-0.1, 0.1)\n",
    "\n",
    "# ... then reduce signal...\n",
    "df_forecast['return'] /= 10\n",
    "\n",
    "# ... then add guassian noise to daily returns\n",
    "std = df_actual[df_actual.date >= date_split_forecasts]['return'].var() ** 0.5\n",
    "noise = np.random.normal(0, std, size=df_forecast.shape[0])\n",
    "\n",
    "df_forecast['return'] = df_forecast['return'] + noise"
   ]
  },
  {
   "cell_type": "code",
   "execution_count": 5,
   "id": "881fc104-83a2-4fab-ad04-7149e0a5afaa",
   "metadata": {
    "execution": {
     "iopub.execute_input": "2023-06-23T00:06:08.407216Z",
     "iopub.status.busy": "2023-06-23T00:06:08.407129Z",
     "iopub.status.idle": "2023-06-23T00:06:09.149846Z",
     "shell.execute_reply": "2023-06-23T00:06:09.149504Z",
     "shell.execute_reply.started": "2023-06-23T00:06:08.407206Z"
    },
    "tags": []
   },
   "outputs": [
    {
     "name": "stdout",
     "output_type": "stream",
     "text": [
      "Return predictions have the right sign 53.2% of the time\n"
     ]
    }
   ],
   "source": [
    "# Make sure predictions aren't too accurate:\n",
    "\n",
    "agree_on_sign = np.sign(df_forecast['return']) == np.sign(\n",
    "    df_actual[df_actual.date >= date_split_forecasts]['return']\n",
    ")\n",
    "\n",
    "print(\n",
    "    \"Return predictions have the right sign %.1f%% of the time\" %\n",
    "    ((agree_on_sign.sum() / agree_on_sign.shape[0]) * 100)\n",
    ")"
   ]
  },
  {
   "cell_type": "markdown",
   "id": "d026a06a-bc7e-44d2-8c38-d543ba262464",
   "metadata": {},
   "source": [
    "## 2. Portfolio optimization"
   ]
  },
  {
   "cell_type": "markdown",
   "id": "746a7e6a-bbaf-41f6-b0b0-c74fef178205",
   "metadata": {
    "tags": []
   },
   "source": [
    "#### 2.1 Create portfolio optimization instance"
   ]
  },
  {
   "cell_type": "code",
   "execution_count": 6,
   "id": "bdfc64d0-d80b-49e5-b834-b94aa175326d",
   "metadata": {
    "execution": {
     "iopub.execute_input": "2023-06-23T00:06:09.150491Z",
     "iopub.status.busy": "2023-06-23T00:06:09.150418Z",
     "iopub.status.idle": "2023-06-23T00:06:09.152979Z",
     "shell.execute_reply": "2023-06-23T00:06:09.152509Z",
     "shell.execute_reply.started": "2023-06-23T00:06:09.150483Z"
    }
   },
   "outputs": [],
   "source": [
    "from investos.portfolio.cost_model import *\n",
    "from investos.portfolio.constraint_model import *\n",
    "from investos.portfolio.risk_model import *"
   ]
  },
  {
   "cell_type": "code",
   "execution_count": 7,
   "id": "7285b37b-b49b-4ff6-8716-d21d74af7a66",
   "metadata": {
    "execution": {
     "iopub.execute_input": "2023-06-23T00:06:09.153704Z",
     "iopub.status.busy": "2023-06-23T00:06:09.153599Z",
     "iopub.status.idle": "2023-06-23T00:06:55.782819Z",
     "shell.execute_reply": "2023-06-23T00:06:55.782149Z",
     "shell.execute_reply.started": "2023-06-23T00:06:09.153694Z"
    },
    "tags": []
   },
   "outputs": [],
   "source": [
    "strategy = inv.portfolio.strategy.SPO(risk_model = None)\n",
    "\n",
    "portfolio = inv.portfolio.Controller(\n",
    "    df_forecast,\n",
    "    df_actual,\n",
    "    strategy=strategy,\n",
    "    after_step=[\n",
    "        lambda backtest, t, u, h_next: print(\"Optimizing for month\", f\"{t.year}-{t.month}\") if t.day == 1 else None,\n",
    "        lambda backtest, t, u, h_next: print(t),\n",
    "\n",
    "    ]\n",
    ")"
   ]
  },
  {
   "cell_type": "code",
   "execution_count": 8,
   "id": "1acca77c-bfe1-44b4-b45b-439fcb7da594",
   "metadata": {
    "execution": {
     "iopub.execute_input": "2023-06-23T00:06:55.784254Z",
     "iopub.status.busy": "2023-06-23T00:06:55.784052Z",
     "iopub.status.idle": "2023-06-23T00:07:32.185717Z",
     "shell.execute_reply": "2023-06-23T00:07:32.184874Z",
     "shell.execute_reply.started": "2023-06-23T00:06:55.784230Z"
    },
    "tags": []
   },
   "outputs": [
    {
     "name": "stdout",
     "output_type": "stream",
     "text": [
      "Optimizing...\n"
     ]
    },
    {
     "name": "stderr",
     "output_type": "stream",
     "text": [
      "/opt/homebrew/lib/python3.9/site-packages/cvxpy/problems/problem.py:161: UserWarning: Constraint #3 contains too many subexpressions. Consider vectorizing your CVXPY code to speed up compilation.\n",
      "  warnings.warn(f\"Constraint #{i} contains too many subexpressions. \"\n",
      "/opt/homebrew/lib/python3.9/site-packages/cvxpy/problems/problem.py:161: UserWarning: Constraint #11 contains too many subexpressions. Consider vectorizing your CVXPY code to speed up compilation.\n",
      "  warnings.warn(f\"Constraint #{i} contains too many subexpressions. \"\n"
     ]
    },
    {
     "name": "stdout",
     "output_type": "stream",
     "text": [
      "2022-01-03\n"
     ]
    },
    {
     "ename": "KeyboardInterrupt",
     "evalue": "",
     "output_type": "error",
     "traceback": [
      "\u001b[0;31m---------------------------------------------------------------------------\u001b[0m",
      "\u001b[0;31mAttributeError\u001b[0m                            Traceback (most recent call last)",
      "File \u001b[0;32m/opt/homebrew/lib/python3.9/site-packages/cvxpy/utilities/performance_utils.py:37\u001b[0m, in \u001b[0;36mlazyprop.<locals>._lazyprop\u001b[0;34m(self)\u001b[0m\n\u001b[1;32m     36\u001b[0m \u001b[38;5;28;01mtry\u001b[39;00m:\n\u001b[0;32m---> 37\u001b[0m     \u001b[38;5;28;01mreturn\u001b[39;00m \u001b[38;5;28;43mgetattr\u001b[39;49m\u001b[43m(\u001b[49m\u001b[38;5;28;43mself\u001b[39;49m\u001b[43m,\u001b[49m\u001b[43m \u001b[49m\u001b[43mattr_name\u001b[49m\u001b[43m)\u001b[49m\n\u001b[1;32m     38\u001b[0m \u001b[38;5;28;01mexcept\u001b[39;00m \u001b[38;5;167;01mAttributeError\u001b[39;00m:\n",
      "\u001b[0;31mAttributeError\u001b[0m: 'AddExpression' object has no attribute '_lazy_canonical_form'",
      "\nDuring handling of the above exception, another exception occurred:\n",
      "\u001b[0;31mAttributeError\u001b[0m                            Traceback (most recent call last)",
      "File \u001b[0;32m/opt/homebrew/lib/python3.9/site-packages/cvxpy/utilities/performance_utils.py:37\u001b[0m, in \u001b[0;36mlazyprop.<locals>._lazyprop\u001b[0;34m(self)\u001b[0m\n\u001b[1;32m     36\u001b[0m \u001b[38;5;28;01mtry\u001b[39;00m:\n\u001b[0;32m---> 37\u001b[0m     \u001b[38;5;28;01mreturn\u001b[39;00m \u001b[38;5;28;43mgetattr\u001b[39;49m\u001b[43m(\u001b[49m\u001b[38;5;28;43mself\u001b[39;49m\u001b[43m,\u001b[49m\u001b[43m \u001b[49m\u001b[43mattr_name\u001b[49m\u001b[43m)\u001b[49m\n\u001b[1;32m     38\u001b[0m \u001b[38;5;28;01mexcept\u001b[39;00m \u001b[38;5;167;01mAttributeError\u001b[39;00m:\n",
      "\u001b[0;31mAttributeError\u001b[0m: 'index' object has no attribute '_lazy_canonical_form'",
      "\nDuring handling of the above exception, another exception occurred:\n",
      "\u001b[0;31mAttributeError\u001b[0m                            Traceback (most recent call last)",
      "File \u001b[0;32m/opt/homebrew/lib/python3.9/site-packages/cvxpy/utilities/performance_utils.py:37\u001b[0m, in \u001b[0;36mlazyprop.<locals>._lazyprop\u001b[0;34m(self)\u001b[0m\n\u001b[1;32m     36\u001b[0m \u001b[38;5;28;01mtry\u001b[39;00m:\n\u001b[0;32m---> 37\u001b[0m     \u001b[38;5;28;01mreturn\u001b[39;00m \u001b[38;5;28;43mgetattr\u001b[39;49m\u001b[43m(\u001b[49m\u001b[38;5;28;43mself\u001b[39;49m\u001b[43m,\u001b[49m\u001b[43m \u001b[49m\u001b[43mattr_name\u001b[49m\u001b[43m)\u001b[49m\n\u001b[1;32m     38\u001b[0m \u001b[38;5;28;01mexcept\u001b[39;00m \u001b[38;5;167;01mAttributeError\u001b[39;00m:\n",
      "\u001b[0;31mAttributeError\u001b[0m: 'index' object has no attribute '_lazy_canonical_form'",
      "\nDuring handling of the above exception, another exception occurred:\n",
      "\u001b[0;31mAttributeError\u001b[0m                            Traceback (most recent call last)",
      "File \u001b[0;32m/opt/homebrew/lib/python3.9/site-packages/cvxpy/utilities/performance_utils.py:37\u001b[0m, in \u001b[0;36mlazyprop.<locals>._lazyprop\u001b[0;34m(self)\u001b[0m\n\u001b[1;32m     36\u001b[0m \u001b[38;5;28;01mtry\u001b[39;00m:\n\u001b[0;32m---> 37\u001b[0m     \u001b[38;5;28;01mreturn\u001b[39;00m \u001b[38;5;28;43mgetattr\u001b[39;49m\u001b[43m(\u001b[49m\u001b[38;5;28;43mself\u001b[39;49m\u001b[43m,\u001b[49m\u001b[43m \u001b[49m\u001b[43mattr_name\u001b[49m\u001b[43m)\u001b[49m\n\u001b[1;32m     38\u001b[0m \u001b[38;5;28;01mexcept\u001b[39;00m \u001b[38;5;167;01mAttributeError\u001b[39;00m:\n",
      "\u001b[0;31mAttributeError\u001b[0m: 'AddExpression' object has no attribute '_lazy_canonical_form'",
      "\nDuring handling of the above exception, another exception occurred:\n",
      "\u001b[0;31mKeyboardInterrupt\u001b[0m                         Traceback (most recent call last)",
      "Input \u001b[0;32mIn [8]\u001b[0m, in \u001b[0;36m<module>\u001b[0;34m\u001b[0m\n\u001b[0;32m----> 1\u001b[0m backtest_result \u001b[38;5;241m=\u001b[39m \u001b[43mportfolio\u001b[49m\u001b[38;5;241;43m.\u001b[39;49m\u001b[43mgenerate_positions\u001b[49m\u001b[43m(\u001b[49m\u001b[43m)\u001b[49m\n",
      "File \u001b[0;32m~/workspace/investos/investos/investos/portfolio/controller.py:230\u001b[0m, in \u001b[0;36mController.generate_positions\u001b[0;34m(self)\u001b[0m\n\u001b[1;32m    228\u001b[0m \u001b[38;5;66;03m# Walk through time and calculate future trades, estimated and actual costs and returns, and resulting positions\u001b[39;00m\n\u001b[1;32m    229\u001b[0m \u001b[38;5;28;01mfor\u001b[39;00m t \u001b[38;5;129;01min\u001b[39;00m \u001b[38;5;28mself\u001b[39m\u001b[38;5;241m.\u001b[39mforecast[\u001b[38;5;124m'\u001b[39m\u001b[38;5;124mreturn\u001b[39m\u001b[38;5;124m'\u001b[39m]\u001b[38;5;241m.\u001b[39mindex:\n\u001b[0;32m--> 230\u001b[0m     u \u001b[38;5;241m=\u001b[39m \u001b[38;5;28;43mself\u001b[39;49m\u001b[38;5;241;43m.\u001b[39;49m\u001b[43mstrategy\u001b[49m\u001b[38;5;241;43m.\u001b[39;49m\u001b[43mgenerate_trade_list\u001b[49m\u001b[43m(\u001b[49m\u001b[43mh_next\u001b[49m\u001b[43m,\u001b[49m\u001b[43m \u001b[49m\u001b[43mt\u001b[49m\u001b[43m)\u001b[49m\n\u001b[1;32m    231\u001b[0m     h_next, u \u001b[38;5;241m=\u001b[39m \u001b[38;5;28mself\u001b[39m\u001b[38;5;241m.\u001b[39mget_actual_positions_for_t(h_next, u, t)\n\u001b[1;32m    232\u001b[0m     \u001b[38;5;28mself\u001b[39m\u001b[38;5;241m.\u001b[39mbacktest\u001b[38;5;241m.\u001b[39msave_position(t, u, h_next)\n",
      "File \u001b[0;32m~/workspace/investos/investos/investos/portfolio/strategy/spo.py:93\u001b[0m, in \u001b[0;36mSPO.generate_trade_list\u001b[0;34m(self, holdings, t)\u001b[0m\n\u001b[1;32m     90\u001b[0m \u001b[38;5;28mself\u001b[39m\u001b[38;5;241m.\u001b[39mprob \u001b[38;5;241m=\u001b[39m cvx\u001b[38;5;241m.\u001b[39mProblem(objective, constraints) \u001b[38;5;66;03m# Trades need to 0 out, i.e. cash account must adjust to make everything net to 0\u001b[39;00m\n\u001b[1;32m     92\u001b[0m \u001b[38;5;28;01mtry\u001b[39;00m:\n\u001b[0;32m---> 93\u001b[0m     \u001b[38;5;28;43mself\u001b[39;49m\u001b[38;5;241;43m.\u001b[39;49m\u001b[43mprob\u001b[49m\u001b[38;5;241;43m.\u001b[39;49m\u001b[43msolve\u001b[49m\u001b[43m(\u001b[49m\u001b[43msolver\u001b[49m\u001b[38;5;241;43m=\u001b[39;49m\u001b[38;5;28;43mself\u001b[39;49m\u001b[38;5;241;43m.\u001b[39;49m\u001b[43msolver\u001b[49m\u001b[43m,\u001b[49m\u001b[43m \u001b[49m\u001b[38;5;241;43m*\u001b[39;49m\u001b[38;5;241;43m*\u001b[39;49m\u001b[38;5;28;43mself\u001b[39;49m\u001b[38;5;241;43m.\u001b[39;49m\u001b[43msolver_opts\u001b[49m\u001b[43m)\u001b[49m\n\u001b[1;32m     95\u001b[0m     \u001b[38;5;28;01mif\u001b[39;00m \u001b[38;5;28mself\u001b[39m\u001b[38;5;241m.\u001b[39mprob\u001b[38;5;241m.\u001b[39mstatus \u001b[38;5;241m==\u001b[39m \u001b[38;5;124m'\u001b[39m\u001b[38;5;124munbounded\u001b[39m\u001b[38;5;124m'\u001b[39m:\n\u001b[1;32m     96\u001b[0m         \u001b[38;5;28mprint\u001b[39m(\u001b[38;5;124mf\u001b[39m\u001b[38;5;124m\"\u001b[39m\u001b[38;5;124mThe problem is unbounded at \u001b[39m\u001b[38;5;132;01m{\u001b[39;00mt\u001b[38;5;132;01m}\u001b[39;00m\u001b[38;5;124m.\u001b[39m\u001b[38;5;124m\"\u001b[39m)\n",
      "File \u001b[0;32m/opt/homebrew/lib/python3.9/site-packages/cvxpy/problems/problem.py:493\u001b[0m, in \u001b[0;36mProblem.solve\u001b[0;34m(self, *args, **kwargs)\u001b[0m\n\u001b[1;32m    491\u001b[0m \u001b[38;5;28;01melse\u001b[39;00m:\n\u001b[1;32m    492\u001b[0m     solve_func \u001b[38;5;241m=\u001b[39m Problem\u001b[38;5;241m.\u001b[39m_solve\n\u001b[0;32m--> 493\u001b[0m \u001b[38;5;28;01mreturn\u001b[39;00m \u001b[43msolve_func\u001b[49m\u001b[43m(\u001b[49m\u001b[38;5;28;43mself\u001b[39;49m\u001b[43m,\u001b[49m\u001b[43m \u001b[49m\u001b[38;5;241;43m*\u001b[39;49m\u001b[43margs\u001b[49m\u001b[43m,\u001b[49m\u001b[43m \u001b[49m\u001b[38;5;241;43m*\u001b[39;49m\u001b[38;5;241;43m*\u001b[39;49m\u001b[43mkwargs\u001b[49m\u001b[43m)\u001b[49m\n",
      "File \u001b[0;32m/opt/homebrew/lib/python3.9/site-packages/cvxpy/problems/problem.py:1054\u001b[0m, in \u001b[0;36mProblem._solve\u001b[0;34m(self, solver, warm_start, verbose, gp, qcp, requires_grad, enforce_dpp, ignore_dpp, canon_backend, **kwargs)\u001b[0m\n\u001b[1;32m   1051\u001b[0m         \u001b[38;5;28mself\u001b[39m\u001b[38;5;241m.\u001b[39munpack(chain\u001b[38;5;241m.\u001b[39mretrieve(soln))\n\u001b[1;32m   1052\u001b[0m         \u001b[38;5;28;01mreturn\u001b[39;00m \u001b[38;5;28mself\u001b[39m\u001b[38;5;241m.\u001b[39mvalue\n\u001b[0;32m-> 1054\u001b[0m data, solving_chain, inverse_data \u001b[38;5;241m=\u001b[39m \u001b[38;5;28;43mself\u001b[39;49m\u001b[38;5;241;43m.\u001b[39;49m\u001b[43mget_problem_data\u001b[49m\u001b[43m(\u001b[49m\n\u001b[1;32m   1055\u001b[0m \u001b[43m    \u001b[49m\u001b[43msolver\u001b[49m\u001b[43m,\u001b[49m\u001b[43m \u001b[49m\u001b[43mgp\u001b[49m\u001b[43m,\u001b[49m\u001b[43m \u001b[49m\u001b[43menforce_dpp\u001b[49m\u001b[43m,\u001b[49m\u001b[43m \u001b[49m\u001b[43mignore_dpp\u001b[49m\u001b[43m,\u001b[49m\u001b[43m \u001b[49m\u001b[43mverbose\u001b[49m\u001b[43m,\u001b[49m\u001b[43m \u001b[49m\u001b[43mcanon_backend\u001b[49m\u001b[43m,\u001b[49m\u001b[43m \u001b[49m\u001b[43mkwargs\u001b[49m\n\u001b[1;32m   1056\u001b[0m \u001b[43m\u001b[49m\u001b[43m)\u001b[49m\n\u001b[1;32m   1058\u001b[0m \u001b[38;5;28;01mif\u001b[39;00m verbose:\n\u001b[1;32m   1059\u001b[0m     \u001b[38;5;28mprint\u001b[39m(_NUM_SOLVER_STR)\n",
      "File \u001b[0;32m/opt/homebrew/lib/python3.9/site-packages/cvxpy/problems/problem.py:681\u001b[0m, in \u001b[0;36mProblem.get_problem_data\u001b[0;34m(self, solver, gp, enforce_dpp, ignore_dpp, verbose, canon_backend, solver_opts)\u001b[0m\n\u001b[1;32m    678\u001b[0m     s\u001b[38;5;241m.\u001b[39mLOGGER\u001b[38;5;241m.\u001b[39minfo(\n\u001b[1;32m    679\u001b[0m              \u001b[38;5;124m'\u001b[39m\u001b[38;5;124mCompiling problem (target solver=\u001b[39m\u001b[38;5;132;01m%s\u001b[39;00m\u001b[38;5;124m).\u001b[39m\u001b[38;5;124m'\u001b[39m, solver_name)\n\u001b[1;32m    680\u001b[0m     s\u001b[38;5;241m.\u001b[39mLOGGER\u001b[38;5;241m.\u001b[39minfo(\u001b[38;5;124m'\u001b[39m\u001b[38;5;124mReduction chain: \u001b[39m\u001b[38;5;132;01m%s\u001b[39;00m\u001b[38;5;124m'\u001b[39m, reduction_chain_str)\n\u001b[0;32m--> 681\u001b[0m data, inverse_data \u001b[38;5;241m=\u001b[39m \u001b[43msolving_chain\u001b[49m\u001b[38;5;241;43m.\u001b[39;49m\u001b[43mapply\u001b[49m\u001b[43m(\u001b[49m\u001b[38;5;28;43mself\u001b[39;49m\u001b[43m,\u001b[49m\u001b[43m \u001b[49m\u001b[43mverbose\u001b[49m\u001b[43m)\u001b[49m\n\u001b[1;32m    682\u001b[0m safe_to_cache \u001b[38;5;241m=\u001b[39m (\n\u001b[1;32m    683\u001b[0m     \u001b[38;5;28misinstance\u001b[39m(data, \u001b[38;5;28mdict\u001b[39m)\n\u001b[1;32m    684\u001b[0m     \u001b[38;5;129;01mand\u001b[39;00m s\u001b[38;5;241m.\u001b[39mPARAM_PROB \u001b[38;5;129;01min\u001b[39;00m data\n\u001b[1;32m    685\u001b[0m     \u001b[38;5;129;01mand\u001b[39;00m \u001b[38;5;129;01mnot\u001b[39;00m \u001b[38;5;28many\u001b[39m(\u001b[38;5;28misinstance\u001b[39m(reduction, EvalParams)\n\u001b[1;32m    686\u001b[0m                 \u001b[38;5;28;01mfor\u001b[39;00m reduction \u001b[38;5;129;01min\u001b[39;00m solving_chain\u001b[38;5;241m.\u001b[39mreductions)\n\u001b[1;32m    687\u001b[0m )\n\u001b[1;32m    688\u001b[0m \u001b[38;5;28mself\u001b[39m\u001b[38;5;241m.\u001b[39m_compilation_time \u001b[38;5;241m=\u001b[39m time\u001b[38;5;241m.\u001b[39mtime() \u001b[38;5;241m-\u001b[39m start\n",
      "File \u001b[0;32m/opt/homebrew/lib/python3.9/site-packages/cvxpy/reductions/chain.py:76\u001b[0m, in \u001b[0;36mChain.apply\u001b[0;34m(self, problem, verbose)\u001b[0m\n\u001b[1;32m     74\u001b[0m     \u001b[38;5;28;01mif\u001b[39;00m verbose:\n\u001b[1;32m     75\u001b[0m         s\u001b[38;5;241m.\u001b[39mLOGGER\u001b[38;5;241m.\u001b[39minfo(\u001b[38;5;124m'\u001b[39m\u001b[38;5;124mApplying reduction \u001b[39m\u001b[38;5;132;01m%s\u001b[39;00m\u001b[38;5;124m'\u001b[39m, \u001b[38;5;28mtype\u001b[39m(r)\u001b[38;5;241m.\u001b[39m\u001b[38;5;18m__name__\u001b[39m)\n\u001b[0;32m---> 76\u001b[0m     problem, inv \u001b[38;5;241m=\u001b[39m \u001b[43mr\u001b[49m\u001b[38;5;241;43m.\u001b[39;49m\u001b[43mapply\u001b[49m\u001b[43m(\u001b[49m\u001b[43mproblem\u001b[49m\u001b[43m)\u001b[49m\n\u001b[1;32m     77\u001b[0m     inverse_data\u001b[38;5;241m.\u001b[39mappend(inv)\n\u001b[1;32m     78\u001b[0m \u001b[38;5;28;01mreturn\u001b[39;00m problem, inverse_data\n",
      "File \u001b[0;32m/opt/homebrew/lib/python3.9/site-packages/cvxpy/reductions/qp2quad_form/qp_matrix_stuffing.py:253\u001b[0m, in \u001b[0;36mQpMatrixStuffing.apply\u001b[0;34m(self, problem)\u001b[0m\n\u001b[1;32m    251\u001b[0m \u001b[38;5;66;03m# Batch expressions together, then split apart.\u001b[39;00m\n\u001b[1;32m    252\u001b[0m expr_list \u001b[38;5;241m=\u001b[39m [arg \u001b[38;5;28;01mfor\u001b[39;00m c \u001b[38;5;129;01min\u001b[39;00m ordered_cons \u001b[38;5;28;01mfor\u001b[39;00m arg \u001b[38;5;129;01min\u001b[39;00m c\u001b[38;5;241m.\u001b[39margs]\n\u001b[0;32m--> 253\u001b[0m params_to_Ab \u001b[38;5;241m=\u001b[39m \u001b[43mextractor\u001b[49m\u001b[38;5;241;43m.\u001b[39;49m\u001b[43maffine\u001b[49m\u001b[43m(\u001b[49m\u001b[43mexpr_list\u001b[49m\u001b[43m)\u001b[49m\n\u001b[1;32m    255\u001b[0m inverse_data\u001b[38;5;241m.\u001b[39mminimize \u001b[38;5;241m=\u001b[39m \u001b[38;5;28mtype\u001b[39m(problem\u001b[38;5;241m.\u001b[39mobjective) \u001b[38;5;241m==\u001b[39m Minimize\n\u001b[1;32m    256\u001b[0m new_prob \u001b[38;5;241m=\u001b[39m ParamQuadProg(params_to_P,\n\u001b[1;32m    257\u001b[0m                          params_to_q,\n\u001b[1;32m    258\u001b[0m                          flattened_variable,\n\u001b[0;32m   (...)\u001b[0m\n\u001b[1;32m    263\u001b[0m                          problem\u001b[38;5;241m.\u001b[39mparameters(),\n\u001b[1;32m    264\u001b[0m                          inverse_data\u001b[38;5;241m.\u001b[39mparam_id_map)\n",
      "File \u001b[0;32m/opt/homebrew/lib/python3.9/site-packages/cvxpy/utilities/coeff_extractor.py:83\u001b[0m, in \u001b[0;36mCoeffExtractor.affine\u001b[0;34m(self, expr)\u001b[0m\n\u001b[1;32m     81\u001b[0m \u001b[38;5;28;01massert\u001b[39;00m \u001b[38;5;28mall\u001b[39m([e\u001b[38;5;241m.\u001b[39mis_dpp() \u001b[38;5;28;01mfor\u001b[39;00m e \u001b[38;5;129;01min\u001b[39;00m expr_list])\n\u001b[1;32m     82\u001b[0m num_rows \u001b[38;5;241m=\u001b[39m \u001b[38;5;28msum\u001b[39m([e\u001b[38;5;241m.\u001b[39msize \u001b[38;5;28;01mfor\u001b[39;00m e \u001b[38;5;129;01min\u001b[39;00m expr_list])\n\u001b[0;32m---> 83\u001b[0m op_list \u001b[38;5;241m=\u001b[39m [e\u001b[38;5;241m.\u001b[39mcanonical_form[\u001b[38;5;241m0\u001b[39m] \u001b[38;5;28;01mfor\u001b[39;00m e \u001b[38;5;129;01min\u001b[39;00m expr_list]\n\u001b[1;32m     84\u001b[0m \u001b[38;5;28;01mreturn\u001b[39;00m canonInterface\u001b[38;5;241m.\u001b[39mget_problem_matrix(op_list,\n\u001b[1;32m     85\u001b[0m                                          \u001b[38;5;28mself\u001b[39m\u001b[38;5;241m.\u001b[39mx_length,\n\u001b[1;32m     86\u001b[0m                                          \u001b[38;5;28mself\u001b[39m\u001b[38;5;241m.\u001b[39mid_map,\n\u001b[0;32m   (...)\u001b[0m\n\u001b[1;32m     89\u001b[0m                                          num_rows,\n\u001b[1;32m     90\u001b[0m                                          \u001b[38;5;28mself\u001b[39m\u001b[38;5;241m.\u001b[39mcanon_backend)\n",
      "File \u001b[0;32m/opt/homebrew/lib/python3.9/site-packages/cvxpy/utilities/coeff_extractor.py:83\u001b[0m, in \u001b[0;36m<listcomp>\u001b[0;34m(.0)\u001b[0m\n\u001b[1;32m     81\u001b[0m \u001b[38;5;28;01massert\u001b[39;00m \u001b[38;5;28mall\u001b[39m([e\u001b[38;5;241m.\u001b[39mis_dpp() \u001b[38;5;28;01mfor\u001b[39;00m e \u001b[38;5;129;01min\u001b[39;00m expr_list])\n\u001b[1;32m     82\u001b[0m num_rows \u001b[38;5;241m=\u001b[39m \u001b[38;5;28msum\u001b[39m([e\u001b[38;5;241m.\u001b[39msize \u001b[38;5;28;01mfor\u001b[39;00m e \u001b[38;5;129;01min\u001b[39;00m expr_list])\n\u001b[0;32m---> 83\u001b[0m op_list \u001b[38;5;241m=\u001b[39m [\u001b[43me\u001b[49m\u001b[38;5;241;43m.\u001b[39;49m\u001b[43mcanonical_form\u001b[49m[\u001b[38;5;241m0\u001b[39m] \u001b[38;5;28;01mfor\u001b[39;00m e \u001b[38;5;129;01min\u001b[39;00m expr_list]\n\u001b[1;32m     84\u001b[0m \u001b[38;5;28;01mreturn\u001b[39;00m canonInterface\u001b[38;5;241m.\u001b[39mget_problem_matrix(op_list,\n\u001b[1;32m     85\u001b[0m                                          \u001b[38;5;28mself\u001b[39m\u001b[38;5;241m.\u001b[39mx_length,\n\u001b[1;32m     86\u001b[0m                                          \u001b[38;5;28mself\u001b[39m\u001b[38;5;241m.\u001b[39mid_map,\n\u001b[0;32m   (...)\u001b[0m\n\u001b[1;32m     89\u001b[0m                                          num_rows,\n\u001b[1;32m     90\u001b[0m                                          \u001b[38;5;28mself\u001b[39m\u001b[38;5;241m.\u001b[39mcanon_backend)\n",
      "File \u001b[0;32m/opt/homebrew/lib/python3.9/site-packages/cvxpy/utilities/performance_utils.py:39\u001b[0m, in \u001b[0;36mlazyprop.<locals>._lazyprop\u001b[0;34m(self)\u001b[0m\n\u001b[1;32m     37\u001b[0m     \u001b[38;5;28;01mreturn\u001b[39;00m \u001b[38;5;28mgetattr\u001b[39m(\u001b[38;5;28mself\u001b[39m, attr_name)\n\u001b[1;32m     38\u001b[0m \u001b[38;5;28;01mexcept\u001b[39;00m \u001b[38;5;167;01mAttributeError\u001b[39;00m:\n\u001b[0;32m---> 39\u001b[0m     \u001b[38;5;28msetattr\u001b[39m(\u001b[38;5;28mself\u001b[39m, attr_name, \u001b[43mfunc\u001b[49m\u001b[43m(\u001b[49m\u001b[38;5;28;43mself\u001b[39;49m\u001b[43m)\u001b[49m)\n\u001b[1;32m     40\u001b[0m \u001b[38;5;28;01mreturn\u001b[39;00m \u001b[38;5;28mgetattr\u001b[39m(\u001b[38;5;28mself\u001b[39m, attr_name)\n",
      "File \u001b[0;32m/opt/homebrew/lib/python3.9/site-packages/cvxpy/utilities/canonical.py:45\u001b[0m, in \u001b[0;36mCanonical.canonical_form\u001b[0;34m(self)\u001b[0m\n\u001b[1;32m     38\u001b[0m \u001b[38;5;129m@pu\u001b[39m\u001b[38;5;241m.\u001b[39mlazyprop\n\u001b[1;32m     39\u001b[0m \u001b[38;5;28;01mdef\u001b[39;00m \u001b[38;5;21mcanonical_form\u001b[39m(\u001b[38;5;28mself\u001b[39m):\n\u001b[1;32m     40\u001b[0m     \u001b[38;5;124;03m\"\"\"The graph implementation of the object stored as a property.\u001b[39;00m\n\u001b[1;32m     41\u001b[0m \n\u001b[1;32m     42\u001b[0m \u001b[38;5;124;03m    Returns:\u001b[39;00m\n\u001b[1;32m     43\u001b[0m \u001b[38;5;124;03m        A tuple of (affine expression, [constraints]).\u001b[39;00m\n\u001b[1;32m     44\u001b[0m \u001b[38;5;124;03m    \"\"\"\u001b[39;00m\n\u001b[0;32m---> 45\u001b[0m     \u001b[38;5;28;01mreturn\u001b[39;00m \u001b[38;5;28;43mself\u001b[39;49m\u001b[38;5;241;43m.\u001b[39;49m\u001b[43mcanonicalize\u001b[49m\u001b[43m(\u001b[49m\u001b[43m)\u001b[49m\n",
      "File \u001b[0;32m/opt/homebrew/lib/python3.9/site-packages/cvxpy/atoms/atom.py:322\u001b[0m, in \u001b[0;36mAtom.canonicalize\u001b[0;34m(self)\u001b[0m\n\u001b[1;32m    320\u001b[0m constraints \u001b[38;5;241m=\u001b[39m []\n\u001b[1;32m    321\u001b[0m \u001b[38;5;28;01mfor\u001b[39;00m arg \u001b[38;5;129;01min\u001b[39;00m \u001b[38;5;28mself\u001b[39m\u001b[38;5;241m.\u001b[39margs:\n\u001b[0;32m--> 322\u001b[0m     obj, constr \u001b[38;5;241m=\u001b[39m \u001b[43marg\u001b[49m\u001b[38;5;241;43m.\u001b[39;49m\u001b[43mcanonical_form\u001b[49m\n\u001b[1;32m    323\u001b[0m     arg_objs\u001b[38;5;241m.\u001b[39mappend(obj)\n\u001b[1;32m    324\u001b[0m     constraints \u001b[38;5;241m+\u001b[39m\u001b[38;5;241m=\u001b[39m constr\n",
      "File \u001b[0;32m/opt/homebrew/lib/python3.9/site-packages/cvxpy/utilities/performance_utils.py:39\u001b[0m, in \u001b[0;36mlazyprop.<locals>._lazyprop\u001b[0;34m(self)\u001b[0m\n\u001b[1;32m     37\u001b[0m     \u001b[38;5;28;01mreturn\u001b[39;00m \u001b[38;5;28mgetattr\u001b[39m(\u001b[38;5;28mself\u001b[39m, attr_name)\n\u001b[1;32m     38\u001b[0m \u001b[38;5;28;01mexcept\u001b[39;00m \u001b[38;5;167;01mAttributeError\u001b[39;00m:\n\u001b[0;32m---> 39\u001b[0m     \u001b[38;5;28msetattr\u001b[39m(\u001b[38;5;28mself\u001b[39m, attr_name, \u001b[43mfunc\u001b[49m\u001b[43m(\u001b[49m\u001b[38;5;28;43mself\u001b[39;49m\u001b[43m)\u001b[49m)\n\u001b[1;32m     40\u001b[0m \u001b[38;5;28;01mreturn\u001b[39;00m \u001b[38;5;28mgetattr\u001b[39m(\u001b[38;5;28mself\u001b[39m, attr_name)\n",
      "File \u001b[0;32m/opt/homebrew/lib/python3.9/site-packages/cvxpy/utilities/canonical.py:45\u001b[0m, in \u001b[0;36mCanonical.canonical_form\u001b[0;34m(self)\u001b[0m\n\u001b[1;32m     38\u001b[0m \u001b[38;5;129m@pu\u001b[39m\u001b[38;5;241m.\u001b[39mlazyprop\n\u001b[1;32m     39\u001b[0m \u001b[38;5;28;01mdef\u001b[39;00m \u001b[38;5;21mcanonical_form\u001b[39m(\u001b[38;5;28mself\u001b[39m):\n\u001b[1;32m     40\u001b[0m     \u001b[38;5;124;03m\"\"\"The graph implementation of the object stored as a property.\u001b[39;00m\n\u001b[1;32m     41\u001b[0m \n\u001b[1;32m     42\u001b[0m \u001b[38;5;124;03m    Returns:\u001b[39;00m\n\u001b[1;32m     43\u001b[0m \u001b[38;5;124;03m        A tuple of (affine expression, [constraints]).\u001b[39;00m\n\u001b[1;32m     44\u001b[0m \u001b[38;5;124;03m    \"\"\"\u001b[39;00m\n\u001b[0;32m---> 45\u001b[0m     \u001b[38;5;28;01mreturn\u001b[39;00m \u001b[38;5;28;43mself\u001b[39;49m\u001b[38;5;241;43m.\u001b[39;49m\u001b[43mcanonicalize\u001b[49m\u001b[43m(\u001b[49m\u001b[43m)\u001b[49m\n",
      "File \u001b[0;32m/opt/homebrew/lib/python3.9/site-packages/cvxpy/atoms/atom.py:322\u001b[0m, in \u001b[0;36mAtom.canonicalize\u001b[0;34m(self)\u001b[0m\n\u001b[1;32m    320\u001b[0m constraints \u001b[38;5;241m=\u001b[39m []\n\u001b[1;32m    321\u001b[0m \u001b[38;5;28;01mfor\u001b[39;00m arg \u001b[38;5;129;01min\u001b[39;00m \u001b[38;5;28mself\u001b[39m\u001b[38;5;241m.\u001b[39margs:\n\u001b[0;32m--> 322\u001b[0m     obj, constr \u001b[38;5;241m=\u001b[39m \u001b[43marg\u001b[49m\u001b[38;5;241;43m.\u001b[39;49m\u001b[43mcanonical_form\u001b[49m\n\u001b[1;32m    323\u001b[0m     arg_objs\u001b[38;5;241m.\u001b[39mappend(obj)\n\u001b[1;32m    324\u001b[0m     constraints \u001b[38;5;241m+\u001b[39m\u001b[38;5;241m=\u001b[39m constr\n",
      "File \u001b[0;32m/opt/homebrew/lib/python3.9/site-packages/cvxpy/utilities/performance_utils.py:39\u001b[0m, in \u001b[0;36mlazyprop.<locals>._lazyprop\u001b[0;34m(self)\u001b[0m\n\u001b[1;32m     37\u001b[0m     \u001b[38;5;28;01mreturn\u001b[39;00m \u001b[38;5;28mgetattr\u001b[39m(\u001b[38;5;28mself\u001b[39m, attr_name)\n\u001b[1;32m     38\u001b[0m \u001b[38;5;28;01mexcept\u001b[39;00m \u001b[38;5;167;01mAttributeError\u001b[39;00m:\n\u001b[0;32m---> 39\u001b[0m     \u001b[38;5;28msetattr\u001b[39m(\u001b[38;5;28mself\u001b[39m, attr_name, \u001b[43mfunc\u001b[49m\u001b[43m(\u001b[49m\u001b[38;5;28;43mself\u001b[39;49m\u001b[43m)\u001b[49m)\n\u001b[1;32m     40\u001b[0m \u001b[38;5;28;01mreturn\u001b[39;00m \u001b[38;5;28mgetattr\u001b[39m(\u001b[38;5;28mself\u001b[39m, attr_name)\n",
      "File \u001b[0;32m/opt/homebrew/lib/python3.9/site-packages/cvxpy/utilities/canonical.py:45\u001b[0m, in \u001b[0;36mCanonical.canonical_form\u001b[0;34m(self)\u001b[0m\n\u001b[1;32m     38\u001b[0m \u001b[38;5;129m@pu\u001b[39m\u001b[38;5;241m.\u001b[39mlazyprop\n\u001b[1;32m     39\u001b[0m \u001b[38;5;28;01mdef\u001b[39;00m \u001b[38;5;21mcanonical_form\u001b[39m(\u001b[38;5;28mself\u001b[39m):\n\u001b[1;32m     40\u001b[0m     \u001b[38;5;124;03m\"\"\"The graph implementation of the object stored as a property.\u001b[39;00m\n\u001b[1;32m     41\u001b[0m \n\u001b[1;32m     42\u001b[0m \u001b[38;5;124;03m    Returns:\u001b[39;00m\n\u001b[1;32m     43\u001b[0m \u001b[38;5;124;03m        A tuple of (affine expression, [constraints]).\u001b[39;00m\n\u001b[1;32m     44\u001b[0m \u001b[38;5;124;03m    \"\"\"\u001b[39;00m\n\u001b[0;32m---> 45\u001b[0m     \u001b[38;5;28;01mreturn\u001b[39;00m \u001b[38;5;28;43mself\u001b[39;49m\u001b[38;5;241;43m.\u001b[39;49m\u001b[43mcanonicalize\u001b[49m\u001b[43m(\u001b[49m\u001b[43m)\u001b[49m\n",
      "File \u001b[0;32m/opt/homebrew/lib/python3.9/site-packages/cvxpy/atoms/atom.py:322\u001b[0m, in \u001b[0;36mAtom.canonicalize\u001b[0;34m(self)\u001b[0m\n\u001b[1;32m    320\u001b[0m constraints \u001b[38;5;241m=\u001b[39m []\n\u001b[1;32m    321\u001b[0m \u001b[38;5;28;01mfor\u001b[39;00m arg \u001b[38;5;129;01min\u001b[39;00m \u001b[38;5;28mself\u001b[39m\u001b[38;5;241m.\u001b[39margs:\n\u001b[0;32m--> 322\u001b[0m     obj, constr \u001b[38;5;241m=\u001b[39m \u001b[43marg\u001b[49m\u001b[38;5;241;43m.\u001b[39;49m\u001b[43mcanonical_form\u001b[49m\n\u001b[1;32m    323\u001b[0m     arg_objs\u001b[38;5;241m.\u001b[39mappend(obj)\n\u001b[1;32m    324\u001b[0m     constraints \u001b[38;5;241m+\u001b[39m\u001b[38;5;241m=\u001b[39m constr\n",
      "File \u001b[0;32m/opt/homebrew/lib/python3.9/site-packages/cvxpy/utilities/performance_utils.py:39\u001b[0m, in \u001b[0;36mlazyprop.<locals>._lazyprop\u001b[0;34m(self)\u001b[0m\n\u001b[1;32m     37\u001b[0m     \u001b[38;5;28;01mreturn\u001b[39;00m \u001b[38;5;28mgetattr\u001b[39m(\u001b[38;5;28mself\u001b[39m, attr_name)\n\u001b[1;32m     38\u001b[0m \u001b[38;5;28;01mexcept\u001b[39;00m \u001b[38;5;167;01mAttributeError\u001b[39;00m:\n\u001b[0;32m---> 39\u001b[0m     \u001b[38;5;28msetattr\u001b[39m(\u001b[38;5;28mself\u001b[39m, attr_name, \u001b[43mfunc\u001b[49m\u001b[43m(\u001b[49m\u001b[38;5;28;43mself\u001b[39;49m\u001b[43m)\u001b[49m)\n\u001b[1;32m     40\u001b[0m \u001b[38;5;28;01mreturn\u001b[39;00m \u001b[38;5;28mgetattr\u001b[39m(\u001b[38;5;28mself\u001b[39m, attr_name)\n",
      "File \u001b[0;32m/opt/homebrew/lib/python3.9/site-packages/cvxpy/utilities/canonical.py:45\u001b[0m, in \u001b[0;36mCanonical.canonical_form\u001b[0;34m(self)\u001b[0m\n\u001b[1;32m     38\u001b[0m \u001b[38;5;129m@pu\u001b[39m\u001b[38;5;241m.\u001b[39mlazyprop\n\u001b[1;32m     39\u001b[0m \u001b[38;5;28;01mdef\u001b[39;00m \u001b[38;5;21mcanonical_form\u001b[39m(\u001b[38;5;28mself\u001b[39m):\n\u001b[1;32m     40\u001b[0m     \u001b[38;5;124;03m\"\"\"The graph implementation of the object stored as a property.\u001b[39;00m\n\u001b[1;32m     41\u001b[0m \n\u001b[1;32m     42\u001b[0m \u001b[38;5;124;03m    Returns:\u001b[39;00m\n\u001b[1;32m     43\u001b[0m \u001b[38;5;124;03m        A tuple of (affine expression, [constraints]).\u001b[39;00m\n\u001b[1;32m     44\u001b[0m \u001b[38;5;124;03m    \"\"\"\u001b[39;00m\n\u001b[0;32m---> 45\u001b[0m     \u001b[38;5;28;01mreturn\u001b[39;00m \u001b[38;5;28;43mself\u001b[39;49m\u001b[38;5;241;43m.\u001b[39;49m\u001b[43mcanonicalize\u001b[49m\u001b[43m(\u001b[49m\u001b[43m)\u001b[49m\n",
      "File \u001b[0;32m/opt/homebrew/lib/python3.9/site-packages/cvxpy/atoms/atom.py:315\u001b[0m, in \u001b[0;36mAtom.canonicalize\u001b[0;34m(self)\u001b[0m\n\u001b[1;32m    312\u001b[0m \u001b[38;5;124;03m\"\"\"Represent the atom as an affine objective and conic constraints.\u001b[39;00m\n\u001b[1;32m    313\u001b[0m \u001b[38;5;124;03m\"\"\"\u001b[39;00m\n\u001b[1;32m    314\u001b[0m \u001b[38;5;66;03m# Constant atoms are treated as a leaf.\u001b[39;00m\n\u001b[0;32m--> 315\u001b[0m \u001b[38;5;28;01mif\u001b[39;00m \u001b[38;5;28;43mself\u001b[39;49m\u001b[38;5;241;43m.\u001b[39;49m\u001b[43mis_constant\u001b[49m() \u001b[38;5;129;01mand\u001b[39;00m \u001b[38;5;129;01mnot\u001b[39;00m \u001b[38;5;28mself\u001b[39m\u001b[38;5;241m.\u001b[39mparameters():\n\u001b[1;32m    316\u001b[0m     \u001b[38;5;66;03m# Non-parameterized expressions are evaluated immediately.\u001b[39;00m\n\u001b[1;32m    317\u001b[0m     \u001b[38;5;28;01mreturn\u001b[39;00m Constant(\u001b[38;5;28mself\u001b[39m\u001b[38;5;241m.\u001b[39mvalue)\u001b[38;5;241m.\u001b[39mcanonical_form\n\u001b[1;32m    318\u001b[0m \u001b[38;5;28;01melse\u001b[39;00m:\n",
      "\u001b[0;31mKeyboardInterrupt\u001b[0m: "
     ]
    }
   ],
   "source": [
    "backtest_result = portfolio.generate_positions()"
   ]
  },
  {
   "cell_type": "markdown",
   "id": "db10a58d-fc49-434c-97a8-b2eecb4f9ae8",
   "metadata": {},
   "source": [
    "#### 2.2 Backtest results"
   ]
  },
  {
   "cell_type": "code",
   "execution_count": null,
   "id": "c60a7c4a-771a-45b9-8d6b-742139db2001",
   "metadata": {
    "execution": {
     "iopub.status.busy": "2023-06-23T00:07:32.186118Z",
     "iopub.status.idle": "2023-06-23T00:07:32.186253Z",
     "shell.execute_reply": "2023-06-23T00:07:32.186190Z",
     "shell.execute_reply.started": "2023-06-23T00:07:32.186185Z"
    },
    "tags": []
   },
   "outputs": [],
   "source": [
    "fig = backtest_result.v.plot()\n",
    "fig.layout.update(showlegend=False)\n",
    "fig.show()"
   ]
  },
  {
   "cell_type": "code",
   "execution_count": null,
   "id": "7a2bcb0a-8b6b-4888-a8a9-48dd7356111d",
   "metadata": {
    "execution": {
     "iopub.status.busy": "2023-06-23T00:07:32.186835Z",
     "iopub.status.idle": "2023-06-23T00:07:32.187000Z",
     "shell.execute_reply": "2023-06-23T00:07:32.186896Z",
     "shell.execute_reply.started": "2023-06-23T00:07:32.186890Z"
    },
    "tags": []
   },
   "outputs": [],
   "source": [
    "backtest_result.summary"
   ]
  }
 ],
 "metadata": {
  "kernelspec": {
   "display_name": "Python 3 (ipykernel)",
   "language": "python",
   "name": "python3"
  },
  "language_info": {
   "codemirror_mode": {
    "name": "ipython",
    "version": 3
   },
   "file_extension": ".py",
   "mimetype": "text/x-python",
   "name": "python",
   "nbconvert_exporter": "python",
   "pygments_lexer": "ipython3",
   "version": "3.9.13"
  }
 },
 "nbformat": 4,
 "nbformat_minor": 5
}
